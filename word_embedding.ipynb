{
 "cells": [
  {
   "cell_type": "code",
   "execution_count": 1,
   "id": "925ad997-b5eb-4663-9465-b5ea29a3ab25",
   "metadata": {},
   "outputs": [],
   "source": [
    "import spacy"
   ]
  },
  {
   "cell_type": "code",
   "execution_count": 2,
   "id": "a2a4c0d5-3642-4bcf-9490-2d3ebca28472",
   "metadata": {},
   "outputs": [],
   "source": [
    "nlp = spacy.load('en_core_web_sm')"
   ]
  },
  {
   "cell_type": "markdown",
   "id": "5464877f-1950-46d7-a0c4-59e74817d3b7",
   "metadata": {},
   "source": [
    "Wordtovec using genism\n"
   ]
  },
  {
   "cell_type": "code",
   "execution_count": 3,
   "id": "725af3c6-ee77-4131-8716-8cb729de05f1",
   "metadata": {},
   "outputs": [],
   "source": [
    "import gensim"
   ]
  },
  {
   "cell_type": "code",
   "execution_count": 4,
   "id": "821e2450-6bde-414b-b856-636bee1d3a27",
   "metadata": {},
   "outputs": [],
   "source": [
    "import pandas as pd"
   ]
  },
  {
   "cell_type": "code",
   "execution_count": 6,
   "id": "55bd193a-105a-4c7e-86b4-1dc2bf3298de",
   "metadata": {},
   "outputs": [],
   "source": [
    "df = pd.read_csv('spam.csv')"
   ]
  },
  {
   "cell_type": "code",
   "execution_count": 7,
   "id": "6f316ff3-925b-45e4-8138-a66af06c2327",
   "metadata": {},
   "outputs": [
    {
     "data": {
      "text/html": [
       "<div>\n",
       "<style scoped>\n",
       "    .dataframe tbody tr th:only-of-type {\n",
       "        vertical-align: middle;\n",
       "    }\n",
       "\n",
       "    .dataframe tbody tr th {\n",
       "        vertical-align: top;\n",
       "    }\n",
       "\n",
       "    .dataframe thead th {\n",
       "        text-align: right;\n",
       "    }\n",
       "</style>\n",
       "<table border=\"1\" class=\"dataframe\">\n",
       "  <thead>\n",
       "    <tr style=\"text-align: right;\">\n",
       "      <th></th>\n",
       "      <th>title</th>\n",
       "      <th>text</th>\n",
       "      <th>type</th>\n",
       "    </tr>\n",
       "  </thead>\n",
       "  <tbody>\n",
       "    <tr>\n",
       "      <th>0</th>\n",
       "      <td>?? the secrets to SUCCESS</td>\n",
       "      <td>Hi James,\\n\\nHave you claim your complimentary...</td>\n",
       "      <td>spam</td>\n",
       "    </tr>\n",
       "    <tr>\n",
       "      <th>1</th>\n",
       "      <td>?? You Earned 500 GCLoot Points</td>\n",
       "      <td>\\nalt_text\\nCongratulations, you just earned\\n...</td>\n",
       "      <td>not spam</td>\n",
       "    </tr>\n",
       "    <tr>\n",
       "      <th>2</th>\n",
       "      <td>?? Your GitHub launch code</td>\n",
       "      <td>Here's your GitHub launch code, @Mortyj420!\\n ...</td>\n",
       "      <td>not spam</td>\n",
       "    </tr>\n",
       "    <tr>\n",
       "      <th>3</th>\n",
       "      <td>[The Virtual Reward Center] Re: ** Clarifications</td>\n",
       "      <td>Hello,\\n \\nThank you for contacting the Virtua...</td>\n",
       "      <td>not spam</td>\n",
       "    </tr>\n",
       "    <tr>\n",
       "      <th>4</th>\n",
       "      <td>10-1 MLB Expert Inside, Plus Everything You Ne...</td>\n",
       "      <td>Hey Prachanda Rawal,\\n\\nToday's newsletter is ...</td>\n",
       "      <td>spam</td>\n",
       "    </tr>\n",
       "  </tbody>\n",
       "</table>\n",
       "</div>"
      ],
      "text/plain": [
       "                                               title  \\\n",
       "0                          ?? the secrets to SUCCESS   \n",
       "1                    ?? You Earned 500 GCLoot Points   \n",
       "2                         ?? Your GitHub launch code   \n",
       "3  [The Virtual Reward Center] Re: ** Clarifications   \n",
       "4  10-1 MLB Expert Inside, Plus Everything You Ne...   \n",
       "\n",
       "                                                text      type  \n",
       "0  Hi James,\\n\\nHave you claim your complimentary...      spam  \n",
       "1  \\nalt_text\\nCongratulations, you just earned\\n...  not spam  \n",
       "2  Here's your GitHub launch code, @Mortyj420!\\n ...  not spam  \n",
       "3  Hello,\\n \\nThank you for contacting the Virtua...  not spam  \n",
       "4  Hey Prachanda Rawal,\\n\\nToday's newsletter is ...      spam  "
      ]
     },
     "execution_count": 7,
     "metadata": {},
     "output_type": "execute_result"
    }
   ],
   "source": [
    "df.head()"
   ]
  },
  {
   "cell_type": "code",
   "execution_count": 8,
   "id": "2d917797-ea7d-432b-a0fa-f1c14148a7c6",
   "metadata": {},
   "outputs": [],
   "source": [
    "df['X'] = df['text'].apply(lambda x:x.replace('\\n', ' '))"
   ]
  },
  {
   "cell_type": "code",
   "execution_count": 9,
   "id": "7dc8dc25-a034-4149-93d0-e714b4013460",
   "metadata": {},
   "outputs": [
    {
     "data": {
      "text/html": [
       "<div>\n",
       "<style scoped>\n",
       "    .dataframe tbody tr th:only-of-type {\n",
       "        vertical-align: middle;\n",
       "    }\n",
       "\n",
       "    .dataframe tbody tr th {\n",
       "        vertical-align: top;\n",
       "    }\n",
       "\n",
       "    .dataframe thead th {\n",
       "        text-align: right;\n",
       "    }\n",
       "</style>\n",
       "<table border=\"1\" class=\"dataframe\">\n",
       "  <thead>\n",
       "    <tr style=\"text-align: right;\">\n",
       "      <th></th>\n",
       "      <th>title</th>\n",
       "      <th>text</th>\n",
       "      <th>type</th>\n",
       "      <th>X</th>\n",
       "    </tr>\n",
       "  </thead>\n",
       "  <tbody>\n",
       "    <tr>\n",
       "      <th>0</th>\n",
       "      <td>?? the secrets to SUCCESS</td>\n",
       "      <td>Hi James,\\n\\nHave you claim your complimentary...</td>\n",
       "      <td>spam</td>\n",
       "      <td>Hi James,  Have you claim your complimentary g...</td>\n",
       "    </tr>\n",
       "    <tr>\n",
       "      <th>1</th>\n",
       "      <td>?? You Earned 500 GCLoot Points</td>\n",
       "      <td>\\nalt_text\\nCongratulations, you just earned\\n...</td>\n",
       "      <td>not spam</td>\n",
       "      <td>alt_text Congratulations, you just earned 500...</td>\n",
       "    </tr>\n",
       "    <tr>\n",
       "      <th>2</th>\n",
       "      <td>?? Your GitHub launch code</td>\n",
       "      <td>Here's your GitHub launch code, @Mortyj420!\\n ...</td>\n",
       "      <td>not spam</td>\n",
       "      <td>Here's your GitHub launch code, @Mortyj420!   ...</td>\n",
       "    </tr>\n",
       "    <tr>\n",
       "      <th>3</th>\n",
       "      <td>[The Virtual Reward Center] Re: ** Clarifications</td>\n",
       "      <td>Hello,\\n \\nThank you for contacting the Virtua...</td>\n",
       "      <td>not spam</td>\n",
       "      <td>Hello,   Thank you for contacting the Virtual ...</td>\n",
       "    </tr>\n",
       "    <tr>\n",
       "      <th>4</th>\n",
       "      <td>10-1 MLB Expert Inside, Plus Everything You Ne...</td>\n",
       "      <td>Hey Prachanda Rawal,\\n\\nToday's newsletter is ...</td>\n",
       "      <td>spam</td>\n",
       "      <td>Hey Prachanda Rawal,  Today's newsletter is Ja...</td>\n",
       "    </tr>\n",
       "  </tbody>\n",
       "</table>\n",
       "</div>"
      ],
      "text/plain": [
       "                                               title  \\\n",
       "0                          ?? the secrets to SUCCESS   \n",
       "1                    ?? You Earned 500 GCLoot Points   \n",
       "2                         ?? Your GitHub launch code   \n",
       "3  [The Virtual Reward Center] Re: ** Clarifications   \n",
       "4  10-1 MLB Expert Inside, Plus Everything You Ne...   \n",
       "\n",
       "                                                text      type  \\\n",
       "0  Hi James,\\n\\nHave you claim your complimentary...      spam   \n",
       "1  \\nalt_text\\nCongratulations, you just earned\\n...  not spam   \n",
       "2  Here's your GitHub launch code, @Mortyj420!\\n ...  not spam   \n",
       "3  Hello,\\n \\nThank you for contacting the Virtua...  not spam   \n",
       "4  Hey Prachanda Rawal,\\n\\nToday's newsletter is ...      spam   \n",
       "\n",
       "                                                   X  \n",
       "0  Hi James,  Have you claim your complimentary g...  \n",
       "1   alt_text Congratulations, you just earned 500...  \n",
       "2  Here's your GitHub launch code, @Mortyj420!   ...  \n",
       "3  Hello,   Thank you for contacting the Virtual ...  \n",
       "4  Hey Prachanda Rawal,  Today's newsletter is Ja...  "
      ]
     },
     "execution_count": 9,
     "metadata": {},
     "output_type": "execute_result"
    }
   ],
   "source": [
    "df.head()"
   ]
  },
  {
   "cell_type": "code",
   "execution_count": 10,
   "id": "27fc90f9-6f8f-4c9a-858a-db5a6f8e55cb",
   "metadata": {},
   "outputs": [],
   "source": [
    "df['y'] = df['type'].apply(lambda x:1 if x=='spam' else 0)"
   ]
  },
  {
   "cell_type": "code",
   "execution_count": 11,
   "id": "17e5a9b6-8f05-4e4c-b500-109808a051f5",
   "metadata": {},
   "outputs": [
    {
     "data": {
      "text/html": [
       "<div>\n",
       "<style scoped>\n",
       "    .dataframe tbody tr th:only-of-type {\n",
       "        vertical-align: middle;\n",
       "    }\n",
       "\n",
       "    .dataframe tbody tr th {\n",
       "        vertical-align: top;\n",
       "    }\n",
       "\n",
       "    .dataframe thead th {\n",
       "        text-align: right;\n",
       "    }\n",
       "</style>\n",
       "<table border=\"1\" class=\"dataframe\">\n",
       "  <thead>\n",
       "    <tr style=\"text-align: right;\">\n",
       "      <th></th>\n",
       "      <th>title</th>\n",
       "      <th>text</th>\n",
       "      <th>type</th>\n",
       "      <th>X</th>\n",
       "      <th>y</th>\n",
       "    </tr>\n",
       "  </thead>\n",
       "  <tbody>\n",
       "    <tr>\n",
       "      <th>0</th>\n",
       "      <td>?? the secrets to SUCCESS</td>\n",
       "      <td>Hi James,\\n\\nHave you claim your complimentary...</td>\n",
       "      <td>spam</td>\n",
       "      <td>Hi James,  Have you claim your complimentary g...</td>\n",
       "      <td>1</td>\n",
       "    </tr>\n",
       "    <tr>\n",
       "      <th>1</th>\n",
       "      <td>?? You Earned 500 GCLoot Points</td>\n",
       "      <td>\\nalt_text\\nCongratulations, you just earned\\n...</td>\n",
       "      <td>not spam</td>\n",
       "      <td>alt_text Congratulations, you just earned 500...</td>\n",
       "      <td>0</td>\n",
       "    </tr>\n",
       "    <tr>\n",
       "      <th>2</th>\n",
       "      <td>?? Your GitHub launch code</td>\n",
       "      <td>Here's your GitHub launch code, @Mortyj420!\\n ...</td>\n",
       "      <td>not spam</td>\n",
       "      <td>Here's your GitHub launch code, @Mortyj420!   ...</td>\n",
       "      <td>0</td>\n",
       "    </tr>\n",
       "    <tr>\n",
       "      <th>3</th>\n",
       "      <td>[The Virtual Reward Center] Re: ** Clarifications</td>\n",
       "      <td>Hello,\\n \\nThank you for contacting the Virtua...</td>\n",
       "      <td>not spam</td>\n",
       "      <td>Hello,   Thank you for contacting the Virtual ...</td>\n",
       "      <td>0</td>\n",
       "    </tr>\n",
       "    <tr>\n",
       "      <th>4</th>\n",
       "      <td>10-1 MLB Expert Inside, Plus Everything You Ne...</td>\n",
       "      <td>Hey Prachanda Rawal,\\n\\nToday's newsletter is ...</td>\n",
       "      <td>spam</td>\n",
       "      <td>Hey Prachanda Rawal,  Today's newsletter is Ja...</td>\n",
       "      <td>1</td>\n",
       "    </tr>\n",
       "  </tbody>\n",
       "</table>\n",
       "</div>"
      ],
      "text/plain": [
       "                                               title  \\\n",
       "0                          ?? the secrets to SUCCESS   \n",
       "1                    ?? You Earned 500 GCLoot Points   \n",
       "2                         ?? Your GitHub launch code   \n",
       "3  [The Virtual Reward Center] Re: ** Clarifications   \n",
       "4  10-1 MLB Expert Inside, Plus Everything You Ne...   \n",
       "\n",
       "                                                text      type  \\\n",
       "0  Hi James,\\n\\nHave you claim your complimentary...      spam   \n",
       "1  \\nalt_text\\nCongratulations, you just earned\\n...  not spam   \n",
       "2  Here's your GitHub launch code, @Mortyj420!\\n ...  not spam   \n",
       "3  Hello,\\n \\nThank you for contacting the Virtua...  not spam   \n",
       "4  Hey Prachanda Rawal,\\n\\nToday's newsletter is ...      spam   \n",
       "\n",
       "                                                   X  y  \n",
       "0  Hi James,  Have you claim your complimentary g...  1  \n",
       "1   alt_text Congratulations, you just earned 500...  0  \n",
       "2  Here's your GitHub launch code, @Mortyj420!   ...  0  \n",
       "3  Hello,   Thank you for contacting the Virtual ...  0  \n",
       "4  Hey Prachanda Rawal,  Today's newsletter is Ja...  1  "
      ]
     },
     "execution_count": 11,
     "metadata": {},
     "output_type": "execute_result"
    }
   ],
   "source": [
    "df.head()\n"
   ]
  },
  {
   "cell_type": "code",
   "execution_count": 13,
   "id": "768381db-fe4d-408a-9bdf-325445f4e84b",
   "metadata": {},
   "outputs": [],
   "source": [
    "df['newX'] = df['X'].apply(lambda x:gensim.utils.simple_preprocess(x))"
   ]
  },
  {
   "cell_type": "code",
   "execution_count": 14,
   "id": "226a4a01-2fcc-45cd-9f34-3fc097a8af55",
   "metadata": {},
   "outputs": [
    {
     "data": {
      "text/html": [
       "<div>\n",
       "<style scoped>\n",
       "    .dataframe tbody tr th:only-of-type {\n",
       "        vertical-align: middle;\n",
       "    }\n",
       "\n",
       "    .dataframe tbody tr th {\n",
       "        vertical-align: top;\n",
       "    }\n",
       "\n",
       "    .dataframe thead th {\n",
       "        text-align: right;\n",
       "    }\n",
       "</style>\n",
       "<table border=\"1\" class=\"dataframe\">\n",
       "  <thead>\n",
       "    <tr style=\"text-align: right;\">\n",
       "      <th></th>\n",
       "      <th>title</th>\n",
       "      <th>text</th>\n",
       "      <th>type</th>\n",
       "      <th>X</th>\n",
       "      <th>y</th>\n",
       "      <th>newX</th>\n",
       "    </tr>\n",
       "  </thead>\n",
       "  <tbody>\n",
       "    <tr>\n",
       "      <th>0</th>\n",
       "      <td>?? the secrets to SUCCESS</td>\n",
       "      <td>Hi James,\\n\\nHave you claim your complimentary...</td>\n",
       "      <td>spam</td>\n",
       "      <td>Hi James,  Have you claim your complimentary g...</td>\n",
       "      <td>1</td>\n",
       "      <td>[hi, james, have, you, claim, your, compliment...</td>\n",
       "    </tr>\n",
       "    <tr>\n",
       "      <th>1</th>\n",
       "      <td>?? You Earned 500 GCLoot Points</td>\n",
       "      <td>\\nalt_text\\nCongratulations, you just earned\\n...</td>\n",
       "      <td>not spam</td>\n",
       "      <td>alt_text Congratulations, you just earned 500...</td>\n",
       "      <td>0</td>\n",
       "      <td>[alt_text, congratulations, you, just, earned,...</td>\n",
       "    </tr>\n",
       "    <tr>\n",
       "      <th>2</th>\n",
       "      <td>?? Your GitHub launch code</td>\n",
       "      <td>Here's your GitHub launch code, @Mortyj420!\\n ...</td>\n",
       "      <td>not spam</td>\n",
       "      <td>Here's your GitHub launch code, @Mortyj420!   ...</td>\n",
       "      <td>0</td>\n",
       "      <td>[here, your, github, launch, code, mortyj, an,...</td>\n",
       "    </tr>\n",
       "    <tr>\n",
       "      <th>3</th>\n",
       "      <td>[The Virtual Reward Center] Re: ** Clarifications</td>\n",
       "      <td>Hello,\\n \\nThank you for contacting the Virtua...</td>\n",
       "      <td>not spam</td>\n",
       "      <td>Hello,   Thank you for contacting the Virtual ...</td>\n",
       "      <td>0</td>\n",
       "      <td>[hello, thank, you, for, contacting, the, virt...</td>\n",
       "    </tr>\n",
       "    <tr>\n",
       "      <th>4</th>\n",
       "      <td>10-1 MLB Expert Inside, Plus Everything You Ne...</td>\n",
       "      <td>Hey Prachanda Rawal,\\n\\nToday's newsletter is ...</td>\n",
       "      <td>spam</td>\n",
       "      <td>Hey Prachanda Rawal,  Today's newsletter is Ja...</td>\n",
       "      <td>1</td>\n",
       "      <td>[hey, prachanda, rawal, today, newsletter, is,...</td>\n",
       "    </tr>\n",
       "  </tbody>\n",
       "</table>\n",
       "</div>"
      ],
      "text/plain": [
       "                                               title  \\\n",
       "0                          ?? the secrets to SUCCESS   \n",
       "1                    ?? You Earned 500 GCLoot Points   \n",
       "2                         ?? Your GitHub launch code   \n",
       "3  [The Virtual Reward Center] Re: ** Clarifications   \n",
       "4  10-1 MLB Expert Inside, Plus Everything You Ne...   \n",
       "\n",
       "                                                text      type  \\\n",
       "0  Hi James,\\n\\nHave you claim your complimentary...      spam   \n",
       "1  \\nalt_text\\nCongratulations, you just earned\\n...  not spam   \n",
       "2  Here's your GitHub launch code, @Mortyj420!\\n ...  not spam   \n",
       "3  Hello,\\n \\nThank you for contacting the Virtua...  not spam   \n",
       "4  Hey Prachanda Rawal,\\n\\nToday's newsletter is ...      spam   \n",
       "\n",
       "                                                   X  y  \\\n",
       "0  Hi James,  Have you claim your complimentary g...  1   \n",
       "1   alt_text Congratulations, you just earned 500...  0   \n",
       "2  Here's your GitHub launch code, @Mortyj420!   ...  0   \n",
       "3  Hello,   Thank you for contacting the Virtual ...  0   \n",
       "4  Hey Prachanda Rawal,  Today's newsletter is Ja...  1   \n",
       "\n",
       "                                                newX  \n",
       "0  [hi, james, have, you, claim, your, compliment...  \n",
       "1  [alt_text, congratulations, you, just, earned,...  \n",
       "2  [here, your, github, launch, code, mortyj, an,...  \n",
       "3  [hello, thank, you, for, contacting, the, virt...  \n",
       "4  [hey, prachanda, rawal, today, newsletter, is,...  "
      ]
     },
     "execution_count": 14,
     "metadata": {},
     "output_type": "execute_result"
    }
   ],
   "source": [
    "df.head()"
   ]
  },
  {
   "cell_type": "code",
   "execution_count": 15,
   "id": "f2889fec-5908-4600-8a2c-62dcd2077c0d",
   "metadata": {},
   "outputs": [],
   "source": [
    "model = gensim.models.Word2Vec(\n",
    "    window=10,\n",
    "    min_count=2,\n",
    "    \n",
    ")"
   ]
  },
  {
   "cell_type": "code",
   "execution_count": 17,
   "id": "5e49f200-1efa-440f-b153-b7300db98b67",
   "metadata": {},
   "outputs": [],
   "source": [
    "model.build_vocab(df['newX'],progress_per=1000)"
   ]
  },
  {
   "cell_type": "code",
   "execution_count": 18,
   "id": "6960d09c-7b28-4e96-b9df-825b669b03e9",
   "metadata": {},
   "outputs": [
    {
     "data": {
      "text/plain": [
       "5"
      ]
     },
     "execution_count": 18,
     "metadata": {},
     "output_type": "execute_result"
    }
   ],
   "source": [
    "model.epochs"
   ]
  },
  {
   "cell_type": "code",
   "execution_count": 27,
   "id": "9ca3445a-729d-4429-91b8-be7457385790",
   "metadata": {},
   "outputs": [
    {
     "data": {
      "text/plain": [
       "(7276596, 10952000)"
      ]
     },
     "execution_count": 27,
     "metadata": {},
     "output_type": "execute_result"
    }
   ],
   "source": [
    "model.train(\n",
    "    df['newX'],\n",
    "    total_examples=model.corpus_count,\n",
    "    epochs=1000\n",
    ")"
   ]
  },
  {
   "cell_type": "code",
   "execution_count": 20,
   "id": "2af891ea-8314-43ab-b5d4-edf02b844f6b",
   "metadata": {},
   "outputs": [],
   "source": [
    "model.save('gensim.model')"
   ]
  },
  {
   "cell_type": "code",
   "execution_count": 28,
   "id": "a440c90c-a256-4510-96e1-3bdef840ce61",
   "metadata": {},
   "outputs": [
    {
     "data": {
      "text/plain": [
       "[('faster', 0.32707545161247253),\n",
       " ('lps', 0.3201103210449219),\n",
       " ('month', 0.30614063143730164),\n",
       " ('mound', 0.3008233904838562),\n",
       " ('monthly', 0.29856377840042114),\n",
       " ('scholarship', 0.2759973108768463),\n",
       " ('shuster', 0.2704858183860779),\n",
       " ('less', 0.26757895946502686),\n",
       " ('energetic', 0.2671267092227936),\n",
       " ('income', 0.2661873698234558)]"
      ]
     },
     "execution_count": 28,
     "metadata": {},
     "output_type": "execute_result"
    }
   ],
   "source": [
    "model.wv.most_similar('good')"
   ]
  },
  {
   "cell_type": "markdown",
   "id": "7316eca5-6090-498b-bbf3-28050470e014",
   "metadata": {},
   "source": [
    "model.wv.similarity"
   ]
  },
  {
   "cell_type": "code",
   "execution_count": null,
   "id": "dbbcc972-d653-4e7b-ac9e-7e3b0ab24c50",
   "metadata": {},
   "outputs": [],
   "source": []
  },
  {
   "cell_type": "code",
   "execution_count": null,
   "id": "7096d308-10f8-482f-aecb-867f10333ca7",
   "metadata": {},
   "outputs": [],
   "source": []
  }
 ],
 "metadata": {
  "kernelspec": {
   "display_name": "Python 3 (ipykernel)",
   "language": "python",
   "name": "python3"
  },
  "language_info": {
   "codemirror_mode": {
    "name": "ipython",
    "version": 3
   },
   "file_extension": ".py",
   "mimetype": "text/x-python",
   "name": "python",
   "nbconvert_exporter": "python",
   "pygments_lexer": "ipython3",
   "version": "3.11.4"
  }
 },
 "nbformat": 4,
 "nbformat_minor": 5
}
