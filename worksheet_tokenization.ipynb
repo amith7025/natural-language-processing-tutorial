{
 "cells": [
  {
   "cell_type": "code",
   "execution_count": 1,
   "id": "e025f5bc-2141-4d2d-8850-ad870ea2f1a4",
   "metadata": {},
   "outputs": [],
   "source": [
    "import spacy"
   ]
  },
  {
   "cell_type": "code",
   "execution_count": 2,
   "id": "f0f5e7d8-96eb-4d36-932d-8d9f7c584a53",
   "metadata": {},
   "outputs": [],
   "source": [
    "nlp = spacy.blank('en')"
   ]
  },
  {
   "cell_type": "code",
   "execution_count": 3,
   "id": "e8959b01-8d9d-4273-8c69-c9765f9b1a2b",
   "metadata": {},
   "outputs": [],
   "source": [
    "with open('sample.txt') as f:\n",
    "    text = f.readlines()"
   ]
  },
  {
   "cell_type": "code",
   "execution_count": 4,
   "id": "01d162b9-ceee-43c9-ad20-8309707b6589",
   "metadata": {},
   "outputs": [
    {
     "data": {
      "text/plain": [
       "['\\n',\n",
       " 'Look for data to help you address the question. Governments are good\\n',\n",
       " 'sources because data from public research is often freely available. Good\\n',\n",
       " 'places to start include http://www.data.gov/, and http://www.science.\\n',\n",
       " 'gov/, and in the United Kingdom, http://data.gov.uk/.\\n',\n",
       " 'Two of my favorite data sets are the General Social Survey at http://www3.norc.org/gss+website/, \\n',\n",
       " 'and the European Social Survey at http://www.europeansocialsurvey.org/.\\n']"
      ]
     },
     "execution_count": 4,
     "metadata": {},
     "output_type": "execute_result"
    }
   ],
   "source": [
    "text"
   ]
  },
  {
   "cell_type": "code",
   "execution_count": 5,
   "id": "06658639-1c9c-4839-9494-7540fce4ff2e",
   "metadata": {},
   "outputs": [
    {
     "data": {
      "text/plain": [
       "'\\n Look for data to help you address the question. Governments are good\\n sources because data from public research is often freely available. Good\\n places to start include http://www.data.gov/, and http://www.science.\\n gov/, and in the United Kingdom, http://data.gov.uk/.\\n Two of my favorite data sets are the General Social Survey at http://www3.norc.org/gss+website/, \\n and the European Social Survey at http://www.europeansocialsurvey.org/.\\n'"
      ]
     },
     "execution_count": 5,
     "metadata": {},
     "output_type": "execute_result"
    }
   ],
   "source": [
    "new_text = ' '.join(text)\n",
    "new_text"
   ]
  },
  {
   "cell_type": "code",
   "execution_count": 6,
   "id": "58b62d2d-ff5b-4973-bb46-d4ba9cf71a77",
   "metadata": {},
   "outputs": [],
   "source": [
    "doc = nlp(new_text)"
   ]
  },
  {
   "cell_type": "code",
   "execution_count": 7,
   "id": "e007fd22-f67e-4625-bbde-ecae4b10a915",
   "metadata": {},
   "outputs": [],
   "source": [
    "emails = []\n",
    "for token in doc:\n",
    "    if token.like_url:\n",
    "        emails.append(token)\n",
    "        "
   ]
  },
  {
   "cell_type": "code",
   "execution_count": 8,
   "id": "1c2c7947-3d86-493c-b704-246cd00bb44b",
   "metadata": {},
   "outputs": [
    {
     "data": {
      "text/plain": [
       "[http://www.data.gov/,\n",
       " http://www.science,\n",
       " http://data.gov.uk/.,\n",
       " http://www3.norc.org/gss+website/,\n",
       " http://www.europeansocialsurvey.org/.]"
      ]
     },
     "execution_count": 8,
     "metadata": {},
     "output_type": "execute_result"
    }
   ],
   "source": [
    "emails"
   ]
  },
  {
   "cell_type": "code",
   "execution_count": 9,
   "id": "bf514f8a-6234-4354-8493-c78e611e75a4",
   "metadata": {},
   "outputs": [],
   "source": [
    "new_doc = nlp(\"i have 2$ in my pocket. Now give me 3$\")"
   ]
  },
  {
   "cell_type": "code",
   "execution_count": 10,
   "id": "7a32ed3a-9b3b-4129-b487-8a0121d880f9",
   "metadata": {},
   "outputs": [
    {
     "name": "stdout",
     "output_type": "stream",
     "text": [
      "2$\n",
      "3$\n"
     ]
    }
   ],
   "source": [
    "for token in new_doc:\n",
    "    if token.like_num:\n",
    "        print(new_doc[token.i:token.i+2])"
   ]
  },
  {
   "cell_type": "code",
   "execution_count": 11,
   "id": "620f68a0-8f4b-402d-a747-d498e61420eb",
   "metadata": {},
   "outputs": [
    {
     "data": {
      "text/plain": [
       "2"
      ]
     },
     "execution_count": 11,
     "metadata": {},
     "output_type": "execute_result"
    }
   ],
   "source": [
    "new_doc[2]"
   ]
  },
  {
   "cell_type": "code",
   "execution_count": null,
   "id": "8fbad9d3-5757-4d38-bfe0-006a06d3a415",
   "metadata": {},
   "outputs": [],
   "source": []
  },
  {
   "cell_type": "code",
   "execution_count": null,
   "id": "b6207d4e-1d01-4df9-a9f6-0e0021d3a8a4",
   "metadata": {},
   "outputs": [],
   "source": []
  },
  {
   "cell_type": "code",
   "execution_count": null,
   "id": "fc822d6c-76b4-4127-9262-8200f9f79cba",
   "metadata": {},
   "outputs": [],
   "source": []
  },
  {
   "cell_type": "code",
   "execution_count": null,
   "id": "8b9c986c-703e-49ff-8205-6ff689b96311",
   "metadata": {},
   "outputs": [],
   "source": []
  }
 ],
 "metadata": {
  "kernelspec": {
   "display_name": "Python 3 (ipykernel)",
   "language": "python",
   "name": "python3"
  },
  "language_info": {
   "codemirror_mode": {
    "name": "ipython",
    "version": 3
   },
   "file_extension": ".py",
   "mimetype": "text/x-python",
   "name": "python",
   "nbconvert_exporter": "python",
   "pygments_lexer": "ipython3",
   "version": "3.11.4"
  }
 },
 "nbformat": 4,
 "nbformat_minor": 5
}
