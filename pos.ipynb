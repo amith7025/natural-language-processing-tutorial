{
 "cells": [
  {
   "cell_type": "code",
   "execution_count": 1,
   "id": "b7d5fac1-6409-4604-9fb5-2dd6e2c9c889",
   "metadata": {},
   "outputs": [],
   "source": [
    "import spacy"
   ]
  },
  {
   "cell_type": "code",
   "execution_count": 2,
   "id": "7be22a82-131e-4d61-a1a5-03c0abc5a452",
   "metadata": {},
   "outputs": [],
   "source": [
    "nlp = spacy.load('en_core_web_sm')"
   ]
  },
  {
   "cell_type": "code",
   "execution_count": 4,
   "id": "e7ca0219-18f8-4e51-a92e-1a983db293a5",
   "metadata": {},
   "outputs": [
    {
     "data": {
      "text/plain": [
       "[('tok2vec', <spacy.pipeline.tok2vec.Tok2Vec at 0x1ec28fdf7d0>),\n",
       " ('tagger', <spacy.pipeline.tagger.Tagger at 0x1ec27f42330>),\n",
       " ('parser', <spacy.pipeline.dep_parser.DependencyParser at 0x1ec28fd6570>),\n",
       " ('attribute_ruler',\n",
       "  <spacy.pipeline.attributeruler.AttributeRuler at 0x1ec292e2ed0>),\n",
       " ('lemmatizer', <spacy.lang.en.lemmatizer.EnglishLemmatizer at 0x1ec292c33d0>),\n",
       " ('ner', <spacy.pipeline.ner.EntityRecognizer at 0x1ec28fd63b0>)]"
      ]
     },
     "execution_count": 4,
     "metadata": {},
     "output_type": "execute_result"
    }
   ],
   "source": [
    "nlp.pipeline"
   ]
  },
  {
   "cell_type": "code",
   "execution_count": 5,
   "id": "bb8b83b8-6c71-486a-8c64-ed1bafb92175",
   "metadata": {},
   "outputs": [],
   "source": [
    "doc = nlp('Elon Musk flew to the mars yesterday. He carried biriyani masala with him.')"
   ]
  },
  {
   "cell_type": "code",
   "execution_count": 8,
   "id": "49326a9f-1c46-4ee9-b8fc-2db904aac7e8",
   "metadata": {},
   "outputs": [
    {
     "name": "stdout",
     "output_type": "stream",
     "text": [
      "Elon  |  96  |  PROPN  |  proper noun  |  NNP  |  noun, proper singular\n",
      "Musk  |  96  |  PROPN  |  proper noun  |  NNP  |  noun, proper singular\n",
      "flew  |  100  |  VERB  |  verb  |  VBD  |  verb, past tense\n",
      "to  |  85  |  ADP  |  adposition  |  IN  |  conjunction, subordinating or preposition\n",
      "the  |  90  |  DET  |  determiner  |  DT  |  determiner\n",
      "mars  |  92  |  NOUN  |  noun  |  NNS  |  noun, plural\n",
      "yesterday  |  92  |  NOUN  |  noun  |  NN  |  noun, singular or mass\n",
      ".  |  97  |  PUNCT  |  punctuation  |  .  |  punctuation mark, sentence closer\n",
      "He  |  95  |  PRON  |  pronoun  |  PRP  |  pronoun, personal\n",
      "carried  |  100  |  VERB  |  verb  |  VBD  |  verb, past tense\n",
      "biriyani  |  96  |  PROPN  |  proper noun  |  NNP  |  noun, proper singular\n",
      "masala  |  92  |  NOUN  |  noun  |  NN  |  noun, singular or mass\n",
      "with  |  85  |  ADP  |  adposition  |  IN  |  conjunction, subordinating or preposition\n",
      "him  |  95  |  PRON  |  pronoun  |  PRP  |  pronoun, personal\n",
      ".  |  97  |  PUNCT  |  punctuation  |  .  |  punctuation mark, sentence closer\n"
     ]
    }
   ],
   "source": [
    "for token in doc:\n",
    "    print(token,' | ',token.pos,' | ',token.pos_,' | ',spacy.explain(token.pos_),' | ',token.tag_,' | ',spacy.explain(token.tag_))"
   ]
  },
  {
   "cell_type": "code",
   "execution_count": 10,
   "id": "fe25d632-793b-43b2-ba19-f2bb15e155f6",
   "metadata": {},
   "outputs": [],
   "source": [
    "earning_text = '''\n",
    " Microsoft Corp. today announced the following results for the quarter ended December 31, 2022, as compared to the corresponding period of last fiscal year:\n",
    "\n",
    "·        Revenue was $52.7 billion and increased 2%  \n",
    "\n",
    "·        Operating income was $20.4 billion GAAP and $21.6 billion non-GAAP, and decreased 8% and 3%, respectively\n",
    "\n",
    "·        Net income was $16.4 billion GAAP and $17.4 billion non-GAAP, and decreased 12% and 7%, respectively\n",
    "\n",
    "·        Diluted earnings per share was $2.20 GAAP and $2.32 non-GAAP, and decreased 11% and 6%, respectively\n",
    "'''"
   ]
  },
  {
   "cell_type": "code",
   "execution_count": 11,
   "id": "89040e4c-35b1-42ca-8e49-89efa94e476d",
   "metadata": {},
   "outputs": [],
   "source": [
    "doc = nlp(earning_text)"
   ]
  },
  {
   "cell_type": "code",
   "execution_count": 17,
   "id": "24290342-464a-4a46-9632-74718e4726f2",
   "metadata": {},
   "outputs": [],
   "source": [
    "filter_tokens = []\n",
    "for token in doc:\n",
    "    if token.pos_ not in ['SPACE','X','PUNCT']:\n",
    "        filter_tokens.append(token)"
   ]
  },
  {
   "cell_type": "code",
   "execution_count": 18,
   "id": "62e46425-51b0-4336-a403-cc528b662479",
   "metadata": {},
   "outputs": [
    {
     "data": {
      "text/plain": [
       "[Microsoft,\n",
       " Corp.,\n",
       " today,\n",
       " announced,\n",
       " the,\n",
       " following,\n",
       " results,\n",
       " for,\n",
       " the,\n",
       " quarter,\n",
       " ended,\n",
       " December,\n",
       " 31,\n",
       " 2022,\n",
       " as,\n",
       " compared,\n",
       " to,\n",
       " the,\n",
       " corresponding,\n",
       " period,\n",
       " of,\n",
       " last,\n",
       " fiscal,\n",
       " year,\n",
       " Revenue,\n",
       " was,\n",
       " $,\n",
       " 52.7,\n",
       " billion,\n",
       " and,\n",
       " increased,\n",
       " 2,\n",
       " %,\n",
       " Operating,\n",
       " income,\n",
       " was,\n",
       " $,\n",
       " 20.4,\n",
       " billion,\n",
       " GAAP,\n",
       " and,\n",
       " $,\n",
       " 21.6,\n",
       " billion,\n",
       " non,\n",
       " -,\n",
       " GAAP,\n",
       " and,\n",
       " decreased,\n",
       " 8,\n",
       " %,\n",
       " and,\n",
       " 3,\n",
       " %,\n",
       " respectively,\n",
       " Net,\n",
       " income,\n",
       " was,\n",
       " $,\n",
       " 16.4,\n",
       " billion,\n",
       " GAAP,\n",
       " and,\n",
       " $,\n",
       " 17.4,\n",
       " billion,\n",
       " non,\n",
       " -,\n",
       " GAAP,\n",
       " and,\n",
       " decreased,\n",
       " 12,\n",
       " %,\n",
       " and,\n",
       " 7,\n",
       " %,\n",
       " respectively,\n",
       " Diluted,\n",
       " earnings,\n",
       " per,\n",
       " share,\n",
       " was,\n",
       " $,\n",
       " 2.20,\n",
       " GAAP,\n",
       " and,\n",
       " $,\n",
       " 2.32,\n",
       " non,\n",
       " -,\n",
       " GAAP,\n",
       " and,\n",
       " decreased,\n",
       " 11,\n",
       " %,\n",
       " and,\n",
       " 6,\n",
       " %,\n",
       " respectively]"
      ]
     },
     "execution_count": 18,
     "metadata": {},
     "output_type": "execute_result"
    }
   ],
   "source": [
    "filter_tokens"
   ]
  },
  {
   "cell_type": "code",
   "execution_count": 19,
   "id": "78a7315f-16a3-4ddc-8e87-37e99d91e249",
   "metadata": {},
   "outputs": [
    {
     "name": "stdout",
     "output_type": "stream",
     "text": [
      "Microsoft  |  96  |  PROPN  |  proper noun  |  NNP  |  noun, proper singular\n",
      "Corp.  |  96  |  PROPN  |  proper noun  |  NNP  |  noun, proper singular\n",
      "today  |  92  |  NOUN  |  noun  |  NN  |  noun, singular or mass\n",
      "announced  |  100  |  VERB  |  verb  |  VBD  |  verb, past tense\n",
      "the  |  90  |  DET  |  determiner  |  DT  |  determiner\n",
      "following  |  100  |  VERB  |  verb  |  VBG  |  verb, gerund or present participle\n",
      "results  |  92  |  NOUN  |  noun  |  NNS  |  noun, plural\n",
      "for  |  85  |  ADP  |  adposition  |  IN  |  conjunction, subordinating or preposition\n",
      "the  |  90  |  DET  |  determiner  |  DT  |  determiner\n",
      "quarter  |  92  |  NOUN  |  noun  |  NN  |  noun, singular or mass\n",
      "ended  |  100  |  VERB  |  verb  |  VBD  |  verb, past tense\n",
      "December  |  96  |  PROPN  |  proper noun  |  NNP  |  noun, proper singular\n",
      "31  |  93  |  NUM  |  numeral  |  CD  |  cardinal number\n",
      "2022  |  93  |  NUM  |  numeral  |  CD  |  cardinal number\n",
      "as  |  98  |  SCONJ  |  subordinating conjunction  |  IN  |  conjunction, subordinating or preposition\n",
      "compared  |  100  |  VERB  |  verb  |  VBN  |  verb, past participle\n",
      "to  |  85  |  ADP  |  adposition  |  IN  |  conjunction, subordinating or preposition\n",
      "the  |  90  |  DET  |  determiner  |  DT  |  determiner\n",
      "corresponding  |  84  |  ADJ  |  adjective  |  JJ  |  adjective (English), other noun-modifier (Chinese)\n",
      "period  |  92  |  NOUN  |  noun  |  NN  |  noun, singular or mass\n",
      "of  |  85  |  ADP  |  adposition  |  IN  |  conjunction, subordinating or preposition\n",
      "last  |  84  |  ADJ  |  adjective  |  JJ  |  adjective (English), other noun-modifier (Chinese)\n",
      "fiscal  |  84  |  ADJ  |  adjective  |  JJ  |  adjective (English), other noun-modifier (Chinese)\n",
      "year  |  92  |  NOUN  |  noun  |  NN  |  noun, singular or mass\n",
      "Revenue  |  92  |  NOUN  |  noun  |  NN  |  noun, singular or mass\n",
      "was  |  87  |  AUX  |  auxiliary  |  VBD  |  verb, past tense\n",
      "$  |  99  |  SYM  |  symbol  |  $  |  symbol, currency\n",
      "52.7  |  93  |  NUM  |  numeral  |  CD  |  cardinal number\n",
      "billion  |  93  |  NUM  |  numeral  |  CD  |  cardinal number\n",
      "and  |  89  |  CCONJ  |  coordinating conjunction  |  CC  |  conjunction, coordinating\n",
      "increased  |  100  |  VERB  |  verb  |  VBD  |  verb, past tense\n",
      "2  |  93  |  NUM  |  numeral  |  CD  |  cardinal number\n",
      "%  |  92  |  NOUN  |  noun  |  NN  |  noun, singular or mass\n",
      "Operating  |  100  |  VERB  |  verb  |  VBG  |  verb, gerund or present participle\n",
      "income  |  92  |  NOUN  |  noun  |  NN  |  noun, singular or mass\n",
      "was  |  87  |  AUX  |  auxiliary  |  VBD  |  verb, past tense\n",
      "$  |  99  |  SYM  |  symbol  |  $  |  symbol, currency\n",
      "20.4  |  93  |  NUM  |  numeral  |  CD  |  cardinal number\n",
      "billion  |  93  |  NUM  |  numeral  |  CD  |  cardinal number\n",
      "GAAP  |  92  |  NOUN  |  noun  |  NNS  |  noun, plural\n",
      "and  |  89  |  CCONJ  |  coordinating conjunction  |  CC  |  conjunction, coordinating\n",
      "$  |  99  |  SYM  |  symbol  |  $  |  symbol, currency\n",
      "21.6  |  93  |  NUM  |  numeral  |  CD  |  cardinal number\n",
      "billion  |  93  |  NUM  |  numeral  |  CD  |  cardinal number\n",
      "non  |  92  |  NOUN  |  noun  |  NNS  |  noun, plural\n",
      "-  |  92  |  NOUN  |  noun  |  NNS  |  noun, plural\n",
      "GAAP  |  92  |  NOUN  |  noun  |  NNS  |  noun, plural\n",
      "and  |  89  |  CCONJ  |  coordinating conjunction  |  CC  |  conjunction, coordinating\n",
      "decreased  |  100  |  VERB  |  verb  |  VBD  |  verb, past tense\n",
      "8  |  93  |  NUM  |  numeral  |  CD  |  cardinal number\n",
      "%  |  92  |  NOUN  |  noun  |  NN  |  noun, singular or mass\n",
      "and  |  89  |  CCONJ  |  coordinating conjunction  |  CC  |  conjunction, coordinating\n",
      "3  |  93  |  NUM  |  numeral  |  CD  |  cardinal number\n",
      "%  |  92  |  NOUN  |  noun  |  NN  |  noun, singular or mass\n",
      "respectively  |  86  |  ADV  |  adverb  |  RB  |  adverb\n",
      "Net  |  84  |  ADJ  |  adjective  |  JJ  |  adjective (English), other noun-modifier (Chinese)\n",
      "income  |  92  |  NOUN  |  noun  |  NN  |  noun, singular or mass\n",
      "was  |  87  |  AUX  |  auxiliary  |  VBD  |  verb, past tense\n",
      "$  |  99  |  SYM  |  symbol  |  $  |  symbol, currency\n",
      "16.4  |  93  |  NUM  |  numeral  |  CD  |  cardinal number\n",
      "billion  |  93  |  NUM  |  numeral  |  CD  |  cardinal number\n",
      "GAAP  |  92  |  NOUN  |  noun  |  NNS  |  noun, plural\n",
      "and  |  89  |  CCONJ  |  coordinating conjunction  |  CC  |  conjunction, coordinating\n",
      "$  |  99  |  SYM  |  symbol  |  $  |  symbol, currency\n",
      "17.4  |  93  |  NUM  |  numeral  |  CD  |  cardinal number\n",
      "billion  |  93  |  NUM  |  numeral  |  CD  |  cardinal number\n",
      "non  |  92  |  NOUN  |  noun  |  NNS  |  noun, plural\n",
      "-  |  92  |  NOUN  |  noun  |  NNS  |  noun, plural\n",
      "GAAP  |  92  |  NOUN  |  noun  |  NNS  |  noun, plural\n",
      "and  |  89  |  CCONJ  |  coordinating conjunction  |  CC  |  conjunction, coordinating\n",
      "decreased  |  100  |  VERB  |  verb  |  VBD  |  verb, past tense\n",
      "12  |  93  |  NUM  |  numeral  |  CD  |  cardinal number\n",
      "%  |  92  |  NOUN  |  noun  |  NN  |  noun, singular or mass\n",
      "and  |  89  |  CCONJ  |  coordinating conjunction  |  CC  |  conjunction, coordinating\n",
      "7  |  93  |  NUM  |  numeral  |  CD  |  cardinal number\n",
      "%  |  92  |  NOUN  |  noun  |  NN  |  noun, singular or mass\n",
      "respectively  |  86  |  ADV  |  adverb  |  RB  |  adverb\n",
      "Diluted  |  100  |  VERB  |  verb  |  VBN  |  verb, past participle\n",
      "earnings  |  92  |  NOUN  |  noun  |  NNS  |  noun, plural\n",
      "per  |  85  |  ADP  |  adposition  |  IN  |  conjunction, subordinating or preposition\n",
      "share  |  92  |  NOUN  |  noun  |  NN  |  noun, singular or mass\n",
      "was  |  87  |  AUX  |  auxiliary  |  VBD  |  verb, past tense\n",
      "$  |  99  |  SYM  |  symbol  |  $  |  symbol, currency\n",
      "2.20  |  93  |  NUM  |  numeral  |  CD  |  cardinal number\n",
      "GAAP  |  92  |  NOUN  |  noun  |  NNS  |  noun, plural\n",
      "and  |  89  |  CCONJ  |  coordinating conjunction  |  CC  |  conjunction, coordinating\n",
      "$  |  99  |  SYM  |  symbol  |  $  |  symbol, currency\n",
      "2.32  |  93  |  NUM  |  numeral  |  CD  |  cardinal number\n",
      "non  |  92  |  NOUN  |  noun  |  NNS  |  noun, plural\n",
      "-  |  92  |  NOUN  |  noun  |  NNS  |  noun, plural\n",
      "GAAP  |  92  |  NOUN  |  noun  |  NNS  |  noun, plural\n",
      "and  |  89  |  CCONJ  |  coordinating conjunction  |  CC  |  conjunction, coordinating\n",
      "decreased  |  100  |  VERB  |  verb  |  VBD  |  verb, past tense\n",
      "11  |  93  |  NUM  |  numeral  |  CD  |  cardinal number\n",
      "%  |  92  |  NOUN  |  noun  |  NN  |  noun, singular or mass\n",
      "and  |  89  |  CCONJ  |  coordinating conjunction  |  CC  |  conjunction, coordinating\n",
      "6  |  93  |  NUM  |  numeral  |  CD  |  cardinal number\n",
      "%  |  92  |  NOUN  |  noun  |  NN  |  noun, singular or mass\n",
      "respectively  |  86  |  ADV  |  adverb  |  RB  |  adverb\n"
     ]
    }
   ],
   "source": [
    "for token in filter_tokens:\n",
    "    print(token,' | ',token.pos,' | ',token.pos_,' | ',spacy.explain(token.pos_),' | ',token.tag_,' | ',spacy.explain(token.tag_))"
   ]
  },
  {
   "cell_type": "code",
   "execution_count": 21,
   "id": "40960aca-43e9-4a33-973a-d3b2b6f62840",
   "metadata": {},
   "outputs": [],
   "source": [
    " count = doc.count_by(spacy.attrs.POS)"
   ]
  },
  {
   "cell_type": "code",
   "execution_count": 22,
   "id": "be7d51f4-b71c-41e6-b9ff-9c89821dbef4",
   "metadata": {},
   "outputs": [
    {
     "data": {
      "text/plain": [
       "{103: 10,\n",
       " 96: 3,\n",
       " 92: 29,\n",
       " 100: 10,\n",
       " 90: 3,\n",
       " 85: 4,\n",
       " 93: 21,\n",
       " 97: 13,\n",
       " 98: 1,\n",
       " 84: 4,\n",
       " 87: 4,\n",
       " 99: 7,\n",
       " 89: 10,\n",
       " 86: 3}"
      ]
     },
     "execution_count": 22,
     "metadata": {},
     "output_type": "execute_result"
    }
   ],
   "source": [
    "count"
   ]
  },
  {
   "cell_type": "code",
   "execution_count": 26,
   "id": "b6f7b0e2-f77e-445d-ad06-ea0697a3578b",
   "metadata": {},
   "outputs": [
    {
     "data": {
      "text/plain": [
       "'SYM'"
      ]
     },
     "execution_count": 26,
     "metadata": {},
     "output_type": "execute_result"
    }
   ],
   "source": [
    "doc.vocab[99].text"
   ]
  },
  {
   "cell_type": "code",
   "execution_count": 29,
   "id": "b89ea72d-2d54-41ae-b1fa-5668500917ca",
   "metadata": {},
   "outputs": [
    {
     "name": "stdout",
     "output_type": "stream",
     "text": [
      "SPACE  ->  10\n",
      "PROPN  ->  3\n",
      "NOUN  ->  29\n",
      "VERB  ->  10\n",
      "DET  ->  3\n",
      "ADP  ->  4\n",
      "NUM  ->  21\n",
      "PUNCT  ->  13\n",
      "SCONJ  ->  1\n",
      "ADJ  ->  4\n",
      "AUX  ->  4\n",
      "SYM  ->  7\n",
      "CCONJ  ->  10\n",
      "ADV  ->  3\n"
     ]
    }
   ],
   "source": [
    "for k,y in count.items():\n",
    "    print(doc.vocab[k].text,' -> ',y)"
   ]
  },
  {
   "cell_type": "code",
   "execution_count": 30,
   "id": "9a7ec906-dd02-4b0e-ac7b-01efe792a8b4",
   "metadata": {},
   "outputs": [],
   "source": [
    "doc = nlp('Inflation rose again in April, continuing a climb that has pushed consumers to the brink and is threatening the economic expansion, the Bureau of Labor Statistics reported Wednesday.\\n\\nThe consumer price index, a broad-based measure of prices for goods and services, increased 8.3% from a year ago, higher than the Dow Jones estimate for an 8.1% gain. That represented a slight ease from Marchâ€™s peak but was still close to the highest level since the summer of 1982.\\n\\nRemoving volatile food and ene')"
   ]
  },
  {
   "cell_type": "code",
   "execution_count": 34,
   "id": "68242dfc-3587-4de4-b186-5f3f391985d6",
   "metadata": {},
   "outputs": [],
   "source": [
    "Nouns = []\n",
    "for token in doc:\n",
    "    if token.pos_ in ['NOUN']:\n",
    "        Nouns.append(token)"
   ]
  },
  {
   "cell_type": "code",
   "execution_count": 35,
   "id": "0d14edcc-0283-48df-b100-8b54c0192f04",
   "metadata": {},
   "outputs": [
    {
     "data": {
      "text/plain": [
       "[Inflation,\n",
       " climb,\n",
       " consumers,\n",
       " brink,\n",
       " expansion,\n",
       " consumer,\n",
       " price,\n",
       " index,\n",
       " measure,\n",
       " prices,\n",
       " goods,\n",
       " services,\n",
       " %,\n",
       " year,\n",
       " estimate,\n",
       " %,\n",
       " gain,\n",
       " ease,\n",
       " Marchâ€,\n",
       " ™,\n",
       " peak,\n",
       " level,\n",
       " summer,\n",
       " food,\n",
       " ene]"
      ]
     },
     "execution_count": 35,
     "metadata": {},
     "output_type": "execute_result"
    }
   ],
   "source": [
    "Nouns"
   ]
  },
  {
   "cell_type": "code",
   "execution_count": 36,
   "id": "760a6f79-128f-4181-97f9-f9de227c6e0c",
   "metadata": {},
   "outputs": [
    {
     "data": {
      "text/plain": [
       "{92: 25,\n",
       " 100: 9,\n",
       " 86: 4,\n",
       " 85: 11,\n",
       " 96: 7,\n",
       " 97: 9,\n",
       " 90: 12,\n",
       " 95: 2,\n",
       " 87: 3,\n",
       " 89: 4,\n",
       " 84: 6,\n",
       " 103: 2,\n",
       " 93: 3,\n",
       " 94: 1,\n",
       " 98: 1}"
      ]
     },
     "execution_count": 36,
     "metadata": {},
     "output_type": "execute_result"
    }
   ],
   "source": [
    "count = doc.count_by(spacy.attrs.POS)\n",
    "count"
   ]
  },
  {
   "cell_type": "code",
   "execution_count": 37,
   "id": "ad801193-d25a-4ef5-812e-055bd11989da",
   "metadata": {},
   "outputs": [
    {
     "name": "stdout",
     "output_type": "stream",
     "text": [
      "NOUN  ->  25\n",
      "VERB  ->  9\n",
      "ADV  ->  4\n",
      "ADP  ->  11\n",
      "PROPN  ->  7\n",
      "PUNCT  ->  9\n",
      "DET  ->  12\n",
      "PRON  ->  2\n",
      "AUX  ->  3\n",
      "CCONJ  ->  4\n",
      "ADJ  ->  6\n",
      "SPACE  ->  2\n",
      "NUM  ->  3\n",
      "PART  ->  1\n",
      "SCONJ  ->  1\n"
     ]
    }
   ],
   "source": [
    "for k,y in count.items():\n",
    "    print(doc.vocab[k].text,' -> ',y)"
   ]
  },
  {
   "cell_type": "code",
   "execution_count": null,
   "id": "6e8f104b-0728-4e88-99da-441006264d73",
   "metadata": {},
   "outputs": [],
   "source": []
  }
 ],
 "metadata": {
  "kernelspec": {
   "display_name": "Python 3 (ipykernel)",
   "language": "python",
   "name": "python3"
  },
  "language_info": {
   "codemirror_mode": {
    "name": "ipython",
    "version": 3
   },
   "file_extension": ".py",
   "mimetype": "text/x-python",
   "name": "python",
   "nbconvert_exporter": "python",
   "pygments_lexer": "ipython3",
   "version": "3.11.4"
  }
 },
 "nbformat": 4,
 "nbformat_minor": 5
}
