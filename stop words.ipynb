{
 "cells": [
  {
   "cell_type": "code",
   "execution_count": 17,
   "id": "25d944db-f625-4529-bea7-a56847759824",
   "metadata": {},
   "outputs": [],
   "source": [
    "import spacy\n",
    "import pandas as pd"
   ]
  },
  {
   "cell_type": "code",
   "execution_count": 3,
   "id": "9a1bcb4a-6ae8-45e9-acc3-d855e2729dbb",
   "metadata": {},
   "outputs": [],
   "source": [
    "nlp = spacy.load('en_core_web_sm')"
   ]
  },
  {
   "cell_type": "code",
   "execution_count": 5,
   "id": "35fee21b-337a-4ca7-bac3-7e97ba60b3ed",
   "metadata": {},
   "outputs": [],
   "source": [
    "from spacy.lang.en.stop_words import STOP_WORDS"
   ]
  },
  {
   "cell_type": "code",
   "execution_count": 7,
   "id": "bbf66e8b-a890-4f5c-8c3e-8f023fe8b443",
   "metadata": {},
   "outputs": [
    {
     "data": {
      "text/plain": [
       "326"
      ]
     },
     "execution_count": 7,
     "metadata": {},
     "output_type": "execute_result"
    }
   ],
   "source": [
    "len(STOP_WORDS)"
   ]
  },
  {
   "cell_type": "code",
   "execution_count": 10,
   "id": "ae5b0e8b-f9fd-4e11-8092-51d30afbd1ae",
   "metadata": {},
   "outputs": [],
   "source": [
    "doc = nlp('''How you doing joey.........?''')"
   ]
  },
  {
   "cell_type": "code",
   "execution_count": 11,
   "id": "9434462c-8541-48fd-bc84-8e607583d51b",
   "metadata": {},
   "outputs": [
    {
     "name": "stdout",
     "output_type": "stream",
     "text": [
      "How\n",
      "you\n",
      "doing\n"
     ]
    }
   ],
   "source": [
    "for token in doc:\n",
    "    if token.is_stop:\n",
    "        print(token)"
   ]
  },
  {
   "cell_type": "code",
   "execution_count": 23,
   "id": "90ece6ce-3ce1-4624-a095-0a406075e290",
   "metadata": {},
   "outputs": [],
   "source": [
    "def preprocess(text):\n",
    "    doc = nlp(text)\n",
    "    L = [token.text for token in doc if not token.is_stop and not token.is_punct]\n",
    "    return \" \".join(L)"
   ]
  },
  {
   "cell_type": "code",
   "execution_count": 24,
   "id": "98aabb83-3ea6-4c35-8013-9a7c1b35db03",
   "metadata": {},
   "outputs": [
    {
     "data": {
      "text/plain": [
       "'man okey'"
      ]
     },
     "execution_count": 24,
     "metadata": {},
     "output_type": "execute_result"
    }
   ],
   "source": [
    "preprocess('''How you are doing man are you okey......?''')"
   ]
  },
  {
   "cell_type": "code",
   "execution_count": 25,
   "id": "e8a2bfe8-4022-4d82-a6fa-efd3654a6723",
   "metadata": {},
   "outputs": [],
   "source": [
    "text = '''string\"PORTLAND, Oregon. – Mohamed Osman Mohamud, 23, who was convicted in 2013 of attempting to use a weapon of mass destruction (explosives) in connection with a plot to detonate a vehicle bomb at an annual Christmas tree lighting ceremony in Portland, was sentenced today to serve 30 years in prison, followed by a lifetime term of supervised release. Mohamud, a naturalized U.S. citizen from Somalia and former resident of Corvallis, Oregon, was arrested on Nov. 26, 2010, after he attempted to detonate what he believed to be an explosives-laden van that was parked near the tree lighting ceremony in Portland.  The arrest was the culmination of a long-term undercover operation, during which Mohamud was monitored closely for months as his bomb plot developed.  The device was in fact inert, and the public was never in danger from the device. At sentencing, United States District Court Judge Garr M. King, who presided over Mohamed’s 14-day trial, said “the intended crime was horrific,” and that the defendant, even though he was presented with options by undercover FBI employees, “never once expressed a change of heart.”  King further noted that the Christmas tree ceremony was attended by up to 10,000 people, and that the defendant “wanted everyone to leave either dead or injured.”  King said his sentence was necessary in view of the seriousness of the crime and to serve as deterrence to others who might consider similar acts.     “With today’s sentencing, Mohamed Osman Mohamud is being held accountable for his attempted use of what he believed to be a massive bomb to attack innocent civilians attending a public Christmas tree lighting ceremony in Portland,” said John P. Carlin, Assistant Attorney General for National Security.  “The evidence clearly indicated that Mohamud was intent on killing as many people as possible with his attack.  Fortunately, law enforcement was able to identify him as a threat, insert themselves in the place of a terrorist that Mohamud was trying to contact, and thwart Mohamud’s efforts to conduct an attack on our soil.  This case highlights how the use of undercover operations against would-be terrorists allows us to engage and disrupt those who wish to commit horrific acts of violence against the innocent public.  The many agents, analysts, and prosecutors who have worked on this case deserve great credit for their roles in protecting Portland from the threat posed by this defendant and ensuring that he was brought to justice.” “This trial provided a rare glimpse into the techniques Al Qaeda employs to radicalize home-grown extremists,” said Amanda Marshall, U.S. Attorney for the District of Oregon.  “With the sentencing today, the court has held this defendant accountable.   I thank the dedicated professionals in the law enforcement and intelligence communities who were responsible for this successful outcome.  I look forward to our continued work with Muslim communities in Oregon who are committed to ensuring that all young people are safe from extremists who seek to radicalize others to engage in violence.”  According to the trial evidence, in February 2009, Mohamud began communicating via e-mail with Samir Khan, a now-deceased al Qaeda terrorist who published Jihad Recollections, an online magazine that advocated violent jihad, and who also published Inspire, the official magazine of al-Qaeda in the Arabian Peninsula.  Between February and August 2009, Mohamed exchanged approximately 150 emails with Khan.  Mohamud wrote several articles for Jihad Recollections that were published under assumed names. In August 2009, Mohamud was in email contact with Amro Al-Ali, a Saudi national who was in Yemen at the time and is today in custody in Saudi Arabia for terrorism offenses.  Al-Ali sent Mohamud detailed e-mails designed to facilitate Mohamud’s travel to Yemen to train for violent jihad.  In December 2009, while Al-Ali was in the northwest frontier province of Pakistan, Mohamud and Al-Ali discussed the possibility of Mohamud traveling to Pakistan to join Al-Ali in terrorist activities. Mohamud responded to Al-Ali in an e-mail: “yes, that would be wonderful, just tell me what I need to do.”  Al-Ali referred Mohamud to a second associate overseas and provided Mohamud with a name and email address to facilitate the process. In the following months, Mohamud made several unsuccessful attempts to contact Al-Ali’s associate.  Ultimately, an FBI undercover operative contacted Mohamud via email under the guise of being an associate of Al-Ali’s.  Mohamud and the FBI undercover operative agreed to meet in Portland in July 2010.  At the meeting, Mohamud told the FBI undercover operative he had written articles that were published in Jihad Recollections.  Mohamud also said that he wanted to become “operational.”  Asked what he meant by “operational,” Mohamud said he wanted to put an explosion together, but needed help. According to evidence presented at trial, at a meeting in August 2010, Mohamud told undercover FBI operatives he had been thinking of committing violent jihad since the age of 15.  Mohamud then told the undercover FBI operatives that he had identified a potential target for a bomb: the annual Christmas tree lighting ceremony in Portland’s Pioneer Courthouse Square on Nov. 26, 2010.  The undercover FBI operatives cautioned Mohamud several times about the seriousness of this plan, noting there would be many people at the event, including children, and emphasized that Mohamud could abandon his attack plans at any time with no shame.  Mohamud indicated the deaths would be justified and that he would not mind carrying out a suicide attack on the crowd. According to evidence presented at trial, in the ensuing months Mohamud continued to express his interest in carrying out the attack and worked on logistics.  On Nov. 4, 2010, Mohamud and the undercover FBI operatives traveled to a remote location in Lincoln County, Oregon, where they detonated a bomb concealed in a backpack as a trial run for the upcoming attack.  During the drive back to Corvallis, Mohamud was asked if was capable looking at all the bodies of those who would be killed during the explosion.  In response, Mohamud noted, “I want whoever is attending that event to be, to leave either dead or injured.”  Mohamud later recorded a video of himself, with the assistance of the undercover FBI operatives, in which he read a statement that offered his rationale for his bomb attack.  On Nov. 18, 2010, undercover FBI operatives picked up Mohamud to travel to Portland to finalize the details of the attack.  On Nov. 26, 2010, just hours before the planned attack, Mohamud examined the 1,800 pound bomb in the van and remarked that it was “beautiful.”  Later that day, Mohamud was arrested after he attempted to remotely detonate the inert vehicle bomb rked near the Christmas tree lighting ceremony This case was investigated by the FBI, with assistance from the Oregon State Police, the Corvallis Police Department, the Lincoln County Sheriff’s Office and the Portland Police Bureau.  The prosecution was handled by Assistant U.S. Attorneys Ethan D. Knight and Pamala Holsinger from the U.S. Attorney’s Office for the District of Oregon.  Trial Attorney Jolie F. Zimmerman, from the Counterterrorism Section of the Justice Department’s National Security Division, assisted. # # # 14-1077\"'''"
   ]
  },
  {
   "cell_type": "code",
   "execution_count": 26,
   "id": "7bd4905b-31af-4203-9665-90150879a0b6",
   "metadata": {},
   "outputs": [
    {
     "data": {
      "text/plain": [
       "'string\"PORTLAND Oregon Mohamed Osman Mohamud 23 convicted 2013 attempting use weapon mass destruction explosives connection plot detonate vehicle bomb annual Christmas tree lighting ceremony Portland sentenced today serve 30 years prison followed lifetime term supervised release Mohamud naturalized U.S. citizen Somalia resident Corvallis Oregon arrested Nov. 26 2010 attempted detonate believed explosives laden van parked near tree lighting ceremony Portland   arrest culmination long term undercover operation Mohamud monitored closely months bomb plot developed   device fact inert public danger device sentencing United States District Court Judge Garr M. King presided Mohamed 14 day trial said intended crime horrific defendant presented options undercover FBI employees expressed change heart   King noted Christmas tree ceremony attended 10,000 people defendant wanted leave dead injured   King said sentence necessary view seriousness crime serve deterrence consider similar acts      today sentencing Mohamed Osman Mohamud held accountable attempted use believed massive bomb attack innocent civilians attending public Christmas tree lighting ceremony Portland said John P. Carlin Assistant Attorney General National Security   evidence clearly indicated Mohamud intent killing people possible attack   Fortunately law enforcement able identify threat insert place terrorist Mohamud trying contact thwart Mohamud efforts conduct attack soil   case highlights use undercover operations terrorists allows engage disrupt wish commit horrific acts violence innocent public   agents analysts prosecutors worked case deserve great credit roles protecting Portland threat posed defendant ensuring brought justice trial provided rare glimpse techniques Al Qaeda employs radicalize home grown extremists said Amanda Marshall U.S. Attorney District Oregon   sentencing today court held defendant accountable    thank dedicated professionals law enforcement intelligence communities responsible successful outcome   look forward continued work Muslim communities Oregon committed ensuring young people safe extremists seek radicalize engage violence   According trial evidence February 2009 Mohamud began communicating e mail Samir Khan deceased al Qaeda terrorist published Jihad Recollections online magazine advocated violent jihad published Inspire official magazine al Qaeda Arabian Peninsula   February August 2009 Mohamed exchanged approximately 150 emails Khan   Mohamud wrote articles Jihad Recollections published assumed names August 2009 Mohamud email contact Amro Al Ali Saudi national Yemen time today custody Saudi Arabia terrorism offenses   Al Ali sent Mohamud detailed e mails designed facilitate Mohamud travel Yemen train violent jihad   December 2009 Al Ali northwest frontier province Pakistan Mohamud Al Ali discussed possibility Mohamud traveling Pakistan join Al Ali terrorist activities Mohamud responded Al Ali e mail yes wonderful tell need   Al Ali referred Mohamud second associate overseas provided Mohamud email address facilitate process following months Mohamud unsuccessful attempts contact Al Ali associate   Ultimately FBI undercover operative contacted Mohamud email guise associate Al Ali   Mohamud FBI undercover operative agreed meet Portland July 2010   meeting Mohamud told FBI undercover operative written articles published Jihad Recollections   Mohamud said wanted operational   Asked meant operational Mohamud said wanted explosion needed help According evidence presented trial meeting August 2010 Mohamud told undercover FBI operatives thinking committing violent jihad age 15   Mohamud told undercover FBI operatives identified potential target bomb annual Christmas tree lighting ceremony Portland Pioneer Courthouse Square Nov. 26 2010   undercover FBI operatives cautioned Mohamud times seriousness plan noting people event including children emphasized Mohamud abandon attack plans time shame   Mohamud indicated deaths justified mind carrying suicide attack crowd According evidence presented trial ensuing months Mohamud continued express interest carrying attack worked logistics   Nov. 4 2010 Mohamud undercover FBI operatives traveled remote location Lincoln County Oregon detonated bomb concealed backpack trial run upcoming attack   drive Corvallis Mohamud asked capable looking bodies killed explosion   response Mohamud noted want attending event leave dead injured   Mohamud later recorded video assistance undercover FBI operatives read statement offered rationale bomb attack   Nov. 18 2010 undercover FBI operatives picked Mohamud travel Portland finalize details attack   Nov. 26 2010 hours planned attack Mohamud examined 1,800 pound bomb van remarked beautiful   Later day Mohamud arrested attempted remotely detonate inert vehicle bomb rked near Christmas tree lighting ceremony case investigated FBI assistance Oregon State Police Corvallis Police Department Lincoln County Sheriff Office Portland Police Bureau   prosecution handled Assistant U.S. Attorneys Ethan D. Knight Pamala Holsinger U.S. Attorney Office District Oregon   Trial Attorney Jolie F. Zimmerman Counterterrorism Section Justice Department National Security Division assisted 14 1077'"
      ]
     },
     "execution_count": 26,
     "metadata": {},
     "output_type": "execute_result"
    }
   ],
   "source": [
    "preprocess(text)"
   ]
  },
  {
   "cell_type": "code",
   "execution_count": 18,
   "id": "c056026b-b2dd-43c5-9a50-4cb36aade070",
   "metadata": {},
   "outputs": [],
   "source": [
    "df = pd.read_csv('spam.csv')"
   ]
  },
  {
   "cell_type": "code",
   "execution_count": 19,
   "id": "654beb4a-37b8-403a-8086-d0c75c2bb526",
   "metadata": {},
   "outputs": [],
   "source": [
    "df['spam or not'] = df['type'].apply(lambda x:1 if x=='spam' else 0)"
   ]
  },
  {
   "cell_type": "code",
   "execution_count": 28,
   "id": "93d2dd2a-676e-4aa7-a14c-534d28568221",
   "metadata": {},
   "outputs": [
    {
     "data": {
      "text/html": [
       "<div>\n",
       "<style scoped>\n",
       "    .dataframe tbody tr th:only-of-type {\n",
       "        vertical-align: middle;\n",
       "    }\n",
       "\n",
       "    .dataframe tbody tr th {\n",
       "        vertical-align: top;\n",
       "    }\n",
       "\n",
       "    .dataframe thead th {\n",
       "        text-align: right;\n",
       "    }\n",
       "</style>\n",
       "<table border=\"1\" class=\"dataframe\">\n",
       "  <thead>\n",
       "    <tr style=\"text-align: right;\">\n",
       "      <th></th>\n",
       "      <th>text</th>\n",
       "      <th>type</th>\n",
       "      <th>spam or not</th>\n",
       "      <th>new_text</th>\n",
       "    </tr>\n",
       "  </thead>\n",
       "  <tbody>\n",
       "    <tr>\n",
       "      <th>0</th>\n",
       "      <td>Hi James,\\n\\nHave you claim your complimentary...</td>\n",
       "      <td>spam</td>\n",
       "      <td>1</td>\n",
       "      <td>Hi James \\n\\n claim complimentary gift \\n\\n co...</td>\n",
       "    </tr>\n",
       "    <tr>\n",
       "      <th>1</th>\n",
       "      <td>\\nalt_text\\nCongratulations, you just earned\\n...</td>\n",
       "      <td>not spam</td>\n",
       "      <td>0</td>\n",
       "      <td>\\n alt_text \\n Congratulations earned \\n 500 \\...</td>\n",
       "    </tr>\n",
       "    <tr>\n",
       "      <th>2</th>\n",
       "      <td>Here's your GitHub launch code, @Mortyj420!\\n ...</td>\n",
       "      <td>not spam</td>\n",
       "      <td>0</td>\n",
       "      <td>GitHub launch code @Mortyj420 \\n \\n octocat st...</td>\n",
       "    </tr>\n",
       "    <tr>\n",
       "      <th>3</th>\n",
       "      <td>Hello,\\n \\nThank you for contacting the Virtua...</td>\n",
       "      <td>not spam</td>\n",
       "      <td>0</td>\n",
       "      <td>Hello \\n \\n Thank contacting Virtual Reward Ce...</td>\n",
       "    </tr>\n",
       "    <tr>\n",
       "      <th>4</th>\n",
       "      <td>Hey Prachanda Rawal,\\n\\nToday's newsletter is ...</td>\n",
       "      <td>spam</td>\n",
       "      <td>1</td>\n",
       "      <td>Hey Prachanda Rawal \\n\\n Today newsletter Jam ...</td>\n",
       "    </tr>\n",
       "  </tbody>\n",
       "</table>\n",
       "</div>"
      ],
      "text/plain": [
       "                                                text      type  spam or not  \\\n",
       "0  Hi James,\\n\\nHave you claim your complimentary...      spam            1   \n",
       "1  \\nalt_text\\nCongratulations, you just earned\\n...  not spam            0   \n",
       "2  Here's your GitHub launch code, @Mortyj420!\\n ...  not spam            0   \n",
       "3  Hello,\\n \\nThank you for contacting the Virtua...  not spam            0   \n",
       "4  Hey Prachanda Rawal,\\n\\nToday's newsletter is ...      spam            1   \n",
       "\n",
       "                                            new_text  \n",
       "0  Hi James \\n\\n claim complimentary gift \\n\\n co...  \n",
       "1  \\n alt_text \\n Congratulations earned \\n 500 \\...  \n",
       "2  GitHub launch code @Mortyj420 \\n \\n octocat st...  \n",
       "3  Hello \\n \\n Thank contacting Virtual Reward Ce...  \n",
       "4  Hey Prachanda Rawal \\n\\n Today newsletter Jam ...  "
      ]
     },
     "execution_count": 28,
     "metadata": {},
     "output_type": "execute_result"
    }
   ],
   "source": [
    "df.head()"
   ]
  },
  {
   "cell_type": "code",
   "execution_count": 21,
   "id": "99c21b64-7206-4ae9-bbf1-b846c95726bf",
   "metadata": {},
   "outputs": [],
   "source": [
    "df.drop(['title'],inplace=True,axis=1)"
   ]
  },
  {
   "cell_type": "code",
   "execution_count": 27,
   "id": "6d421b55-e8dd-4948-85ba-8aedb7c2078a",
   "metadata": {},
   "outputs": [],
   "source": [
    "df['new_text'] = df['text'].apply(preprocess)"
   ]
  },
  {
   "cell_type": "code",
   "execution_count": null,
   "id": "3a3417d9-0997-43da-b32f-37dca2a67523",
   "metadata": {},
   "outputs": [],
   "source": []
  },
  {
   "cell_type": "code",
   "execution_count": null,
   "id": "fc6fa3e7-af21-4359-ad9b-e3ff9b3db8b6",
   "metadata": {},
   "outputs": [],
   "source": []
  },
  {
   "cell_type": "code",
   "execution_count": null,
   "id": "3ee74eb1-e5cc-487d-86f1-e3734d7494ec",
   "metadata": {},
   "outputs": [],
   "source": []
  },
  {
   "cell_type": "code",
   "execution_count": null,
   "id": "775bd7d7-3255-48ac-bc2c-52a1f0df96bc",
   "metadata": {},
   "outputs": [],
   "source": []
  },
  {
   "cell_type": "code",
   "execution_count": null,
   "id": "611b0630-9ee2-46f4-9510-bc29bbbda80d",
   "metadata": {},
   "outputs": [],
   "source": []
  },
  {
   "cell_type": "code",
   "execution_count": null,
   "id": "b75aa310-200c-4c80-b105-8f0cc8111055",
   "metadata": {},
   "outputs": [],
   "source": []
  },
  {
   "cell_type": "code",
   "execution_count": null,
   "id": "9eab75d3-4367-414a-9458-6fbb2caa2c28",
   "metadata": {},
   "outputs": [],
   "source": []
  },
  {
   "cell_type": "code",
   "execution_count": null,
   "id": "d455ec57-9e34-43ed-921b-b5a3c6c7420a",
   "metadata": {},
   "outputs": [],
   "source": []
  },
  {
   "cell_type": "code",
   "execution_count": null,
   "id": "5dab270a-44c5-4ac3-a4dd-4f1d7322b27a",
   "metadata": {},
   "outputs": [],
   "source": []
  },
  {
   "cell_type": "code",
   "execution_count": null,
   "id": "89cf812e-008b-4a51-bec3-099a0fa04c29",
   "metadata": {},
   "outputs": [],
   "source": []
  },
  {
   "cell_type": "code",
   "execution_count": null,
   "id": "d6d7c4b7-abfd-47fa-a551-4757ea8cd057",
   "metadata": {},
   "outputs": [],
   "source": []
  },
  {
   "cell_type": "code",
   "execution_count": null,
   "id": "3479a8b7-03ef-4791-9ff5-4830e0c55608",
   "metadata": {},
   "outputs": [],
   "source": []
  },
  {
   "cell_type": "code",
   "execution_count": null,
   "id": "4adf76da-43b0-45f9-8bc6-f0a2b4ce6177",
   "metadata": {},
   "outputs": [],
   "source": []
  }
 ],
 "metadata": {
  "kernelspec": {
   "display_name": "Python 3 (ipykernel)",
   "language": "python",
   "name": "python3"
  },
  "language_info": {
   "codemirror_mode": {
    "name": "ipython",
    "version": 3
   },
   "file_extension": ".py",
   "mimetype": "text/x-python",
   "name": "python",
   "nbconvert_exporter": "python",
   "pygments_lexer": "ipython3",
   "version": "3.11.4"
  }
 },
 "nbformat": 4,
 "nbformat_minor": 5
}
