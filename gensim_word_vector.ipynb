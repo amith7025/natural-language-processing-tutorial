{
 "cells": [
  {
   "cell_type": "code",
   "execution_count": 1,
   "id": "8c18944d-ccc2-426e-8993-9f136de285f7",
   "metadata": {},
   "outputs": [
    {
     "name": "stdout",
     "output_type": "stream",
     "text": [
      "[=====================================-------------] 75.7% 1258.4/1662.8MB downloaded"
     ]
    },
    {
     "name": "stderr",
     "output_type": "stream",
     "text": [
      "IOPub message rate exceeded.\n",
      "The Jupyter server will temporarily stop sending output\n",
      "to the client in order to avoid crashing it.\n",
      "To change this limit, set the config variable\n",
      "`--ServerApp.iopub_msg_rate_limit`.\n",
      "\n",
      "Current values:\n",
      "ServerApp.iopub_msg_rate_limit=1000.0 (msgs/sec)\n",
      "ServerApp.rate_limit_window=3.0 (secs)\n",
      "\n"
     ]
    },
    {
     "name": "stdout",
     "output_type": "stream",
     "text": [
      "[=================================================-] 98.6% 1640.3/1662.8MB downloaded"
     ]
    },
    {
     "name": "stderr",
     "output_type": "stream",
     "text": [
      "IOPub message rate exceeded.\n",
      "The Jupyter server will temporarily stop sending output\n",
      "to the client in order to avoid crashing it.\n",
      "To change this limit, set the config variable\n",
      "`--ServerApp.iopub_msg_rate_limit`.\n",
      "\n",
      "Current values:\n",
      "ServerApp.iopub_msg_rate_limit=1000.0 (msgs/sec)\n",
      "ServerApp.rate_limit_window=3.0 (secs)\n",
      "\n"
     ]
    }
   ],
   "source": [
    "import gensim.downloader as api\n",
    "\n",
    "wv = api.load('word2vec-google-news-300')"
   ]
  },
  {
   "cell_type": "code",
   "execution_count": 6,
   "id": "33c6b0b4-2928-4828-ba84-8aa303758b81",
   "metadata": {},
   "outputs": [
    {
     "data": {
      "text/plain": [
       "0.33296162"
      ]
     },
     "execution_count": 6,
     "metadata": {},
     "output_type": "execute_result"
    }
   ],
   "source": [
    "wv.similarity('diet','health')"
   ]
  },
  {
   "cell_type": "code",
   "execution_count": 3,
   "id": "24ceea9e-236d-410e-bedd-036152eee051",
   "metadata": {},
   "outputs": [
    {
     "data": {
      "text/plain": [
       "[('diets', 0.8583240509033203),\n",
       " ('eating_habits', 0.7252798676490784),\n",
       " ('dietary', 0.7221330404281616),\n",
       " ('dieting', 0.7207465767860413),\n",
       " ('balanced_diet', 0.700504720211029),\n",
       " ('fat_diet', 0.6992886662483215),\n",
       " ('calorie_diet', 0.6946996450424194),\n",
       " ('low_carb_diet', 0.6920575499534607),\n",
       " ('calorie_intake', 0.6866835355758667),\n",
       " ('Diets', 0.6812070608139038)]"
      ]
     },
     "execution_count": 3,
     "metadata": {},
     "output_type": "execute_result"
    }
   ],
   "source": [
    "wv.most_similar('diet')"
   ]
  },
  {
   "cell_type": "code",
   "execution_count": 7,
   "id": "4793dd4f-a331-4c8d-a72f-fa1191a83c40",
   "metadata": {},
   "outputs": [
    {
     "data": {
      "text/plain": [
       "[('heath', 0.7908358573913574),\n",
       " ('2_wks_Vac', 0.6552658081054688),\n",
       " ('Health', 0.6324247717857361),\n",
       " ('heatlh', 0.6257526874542236),\n",
       " ('helath', 0.5969439744949341),\n",
       " ('health_care', 0.5952811241149902),\n",
       " ('heath_care', 0.5900787711143494),\n",
       " ('healthcare', 0.5859715342521667),\n",
       " ('wellness', 0.577788770198822),\n",
       " ('WholeCamels_Bad_sign', 0.5677785277366638)]"
      ]
     },
     "execution_count": 7,
     "metadata": {},
     "output_type": "execute_result"
    }
   ],
   "source": [
    "wv.most_similar('health')"
   ]
  },
  {
   "cell_type": "code",
   "execution_count": 8,
   "id": "03deacc3-cd0b-490c-b1ed-e77beadc942b",
   "metadata": {},
   "outputs": [
    {
     "data": {
      "text/plain": [
       "[('queen', 0.4827326238155365),\n",
       " ('queens', 0.466781347990036),\n",
       " ('kumaris', 0.4653734564781189),\n",
       " ('kings', 0.4558638632297516),\n",
       " ('womens', 0.422832190990448),\n",
       " ('princes', 0.4176960587501526),\n",
       " ('Al_Anqari', 0.41725507378578186),\n",
       " ('concubines', 0.4011078476905823),\n",
       " ('monarch', 0.3962482810020447),\n",
       " ('monarchy', 0.39430150389671326)]"
      ]
     },
     "execution_count": 8,
     "metadata": {},
     "output_type": "execute_result"
    }
   ],
   "source": [
    "wv.most_similar(positive=['king','women'],negative=['man'])"
   ]
  },
  {
   "cell_type": "code",
   "execution_count": 9,
   "id": "5b6df313-c517-4028-9215-2bc7aebc4bf0",
   "metadata": {},
   "outputs": [
    {
     "data": {
      "text/plain": [
       "'elephant'"
      ]
     },
     "execution_count": 9,
     "metadata": {},
     "output_type": "execute_result"
    }
   ],
   "source": [
    "wv.doesnt_match(['meta','tesla','google','elephant'])"
   ]
  },
  {
   "cell_type": "code",
   "execution_count": null,
   "id": "b1724113-ef3d-43c3-816f-97cc13c9453d",
   "metadata": {},
   "outputs": [],
   "source": []
  }
 ],
 "metadata": {
  "kernelspec": {
   "display_name": "Python 3 (ipykernel)",
   "language": "python",
   "name": "python3"
  },
  "language_info": {
   "codemirror_mode": {
    "name": "ipython",
    "version": 3
   },
   "file_extension": ".py",
   "mimetype": "text/x-python",
   "name": "python",
   "nbconvert_exporter": "python",
   "pygments_lexer": "ipython3",
   "version": "3.11.4"
  }
 },
 "nbformat": 4,
 "nbformat_minor": 5
}
