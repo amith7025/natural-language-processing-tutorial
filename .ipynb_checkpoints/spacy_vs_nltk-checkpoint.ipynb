{
 "cells": [
  {
   "cell_type": "code",
   "execution_count": 2,
   "id": "e9d06cc6-da3e-4879-b9c6-0d89ee9bb2b6",
   "metadata": {},
   "outputs": [],
   "source": [
    "import spacy"
   ]
  },
  {
   "cell_type": "code",
   "execution_count": 3,
   "id": "b8229ded-3e08-46c0-8109-432b1f8a91e3",
   "metadata": {},
   "outputs": [],
   "source": [
    "nlp = spacy.load('en_core_web_sm')"
   ]
  },
  {
   "cell_type": "code",
   "execution_count": 11,
   "id": "821a4900-3084-4356-b854-8d42a9ab15ae",
   "metadata": {},
   "outputs": [
    {
     "name": "stdout",
     "output_type": "stream",
     "text": [
      "I am amith ek.\n",
      "i am a dat scientist\n"
     ]
    }
   ],
   "source": [
    "doc = nlp(\"I am amith ek. i am a dat scientist\")\n",
    "for s in doc.sents:\n",
    "    print(s)"
   ]
  },
  {
   "cell_type": "code",
   "execution_count": 12,
   "id": "9ddacb8c-79d4-409f-8d97-642a1852cbfb",
   "metadata": {},
   "outputs": [
    {
     "name": "stdout",
     "output_type": "stream",
     "text": [
      "I\n",
      "am\n",
      "amith\n",
      "ek\n",
      ".\n",
      "i\n",
      "am\n",
      "a\n",
      "dat\n",
      "scientist\n"
     ]
    }
   ],
   "source": [
    "for s in doc.sents:\n",
    "    for w in s:\n",
    "        print(w)"
   ]
  },
  {
   "cell_type": "code",
   "execution_count": 18,
   "id": "c11c9b89-da0a-4526-95cd-0c52e9658300",
   "metadata": {},
   "outputs": [
    {
     "name": "stderr",
     "output_type": "stream",
     "text": [
      "[nltk_data] Downloading package punkt to\n",
      "[nltk_data]     C:\\Users\\amith\\AppData\\Roaming\\nltk_data...\n",
      "[nltk_data]   Unzipping tokenizers\\punkt.zip.\n"
     ]
    },
    {
     "data": {
      "text/plain": [
       "True"
      ]
     },
     "execution_count": 18,
     "metadata": {},
     "output_type": "execute_result"
    }
   ],
   "source": [
    "import nltk\n",
    "\n",
    "\n",
    "nltk.download('punkt')"
   ]
  },
  {
   "cell_type": "code",
   "execution_count": 20,
   "id": "2c18b748-be09-452f-8b3d-d7fca85d60e0",
   "metadata": {},
   "outputs": [],
   "source": [
    "from nltk.tokenize import sent_tokenize,word_tokenize"
   ]
  },
  {
   "cell_type": "code",
   "execution_count": 19,
   "id": "8876a54d-4b5c-4945-bf43-b97982850aaa",
   "metadata": {},
   "outputs": [
    {
     "data": {
      "text/plain": [
       "['I am amith ek.', 'i am a data scientist']"
      ]
     },
     "execution_count": 19,
     "metadata": {},
     "output_type": "execute_result"
    }
   ],
   "source": [
    "sent_tokenize(\"I am amith ek. i am a data scientist\")"
   ]
  },
  {
   "cell_type": "code",
   "execution_count": 21,
   "id": "d5a77283-2cc8-40e4-a86a-18e02f7aa37c",
   "metadata": {},
   "outputs": [
    {
     "data": {
      "text/plain": [
       "['I', 'am', 'amith', 'ek', '.', 'i', 'am', 'a', 'data', 'scientist']"
      ]
     },
     "execution_count": 21,
     "metadata": {},
     "output_type": "execute_result"
    }
   ],
   "source": [
    "word_tokenize(\"I am amith ek. i am a data scientist\")"
   ]
  },
  {
   "cell_type": "code",
   "execution_count": null,
   "id": "325b5ce4-8948-4c85-bb24-348ac250171e",
   "metadata": {},
   "outputs": [],
   "source": []
  },
  {
   "cell_type": "code",
   "execution_count": null,
   "id": "c6228b37-09b3-4740-b917-4572ad138092",
   "metadata": {},
   "outputs": [],
   "source": []
  },
  {
   "cell_type": "code",
   "execution_count": null,
   "id": "bcf8cb00-61a9-4905-ad5f-3f7b5c344c1b",
   "metadata": {},
   "outputs": [],
   "source": []
  },
  {
   "cell_type": "code",
   "execution_count": null,
   "id": "49d45ad0-b4f3-4a33-8fd7-79127cf95916",
   "metadata": {},
   "outputs": [],
   "source": []
  }
 ],
 "metadata": {
  "kernelspec": {
   "display_name": "Python 3 (ipykernel)",
   "language": "python",
   "name": "python3"
  },
  "language_info": {
   "codemirror_mode": {
    "name": "ipython",
    "version": 3
   },
   "file_extension": ".py",
   "mimetype": "text/x-python",
   "name": "python",
   "nbconvert_exporter": "python",
   "pygments_lexer": "ipython3",
   "version": "3.11.4"
  }
 },
 "nbformat": 4,
 "nbformat_minor": 5
}
