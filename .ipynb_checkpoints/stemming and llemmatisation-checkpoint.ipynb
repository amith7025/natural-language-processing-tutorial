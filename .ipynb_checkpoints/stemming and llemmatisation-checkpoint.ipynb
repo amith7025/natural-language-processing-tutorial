{
 "cells": [
  {
   "cell_type": "code",
   "execution_count": 1,
   "id": "ddd40df2-36cb-4584-a954-9d5f2afd6b98",
   "metadata": {},
   "outputs": [],
   "source": [
    "import spacy"
   ]
  },
  {
   "cell_type": "code",
   "execution_count": 3,
   "id": "fc49c831-cef3-4b06-9782-59580cf5066f",
   "metadata": {},
   "outputs": [],
   "source": [
    "nlp = spacy.blank('en')"
   ]
  },
  {
   "cell_type": "code",
   "execution_count": 4,
   "id": "839958cb-bf10-4300-98f1-02dda22d25dc",
   "metadata": {},
   "outputs": [
    {
     "data": {
      "text/plain": [
       "<spacy.lang.en.English at 0x25be6f85710>"
      ]
     },
     "execution_count": 4,
     "metadata": {},
     "output_type": "execute_result"
    }
   ],
   "source": [
    "nlp"
   ]
  },
  {
   "cell_type": "code",
   "execution_count": 5,
   "id": "c7f90709-e3a8-4fb3-bd6d-9a48791739cd",
   "metadata": {},
   "outputs": [],
   "source": [
    "import nltk"
   ]
  },
  {
   "cell_type": "code",
   "execution_count": 6,
   "id": "8106c729-1637-4324-90e7-32c8c87384f8",
   "metadata": {},
   "outputs": [],
   "source": [
    "from nltk.stem import PorterStemmer"
   ]
  },
  {
   "cell_type": "code",
   "execution_count": 7,
   "id": "393c0f45-4e9b-45c7-8238-e7b67205cc53",
   "metadata": {},
   "outputs": [],
   "source": [
    "stemmer = PorterStemmer()"
   ]
  },
  {
   "cell_type": "code",
   "execution_count": 12,
   "id": "547c5291-668d-4e55-9a79-0fb2e1c642c9",
   "metadata": {},
   "outputs": [],
   "source": [
    "words = ['jumping','running','sleeping','talked','ability','eat']"
   ]
  },
  {
   "cell_type": "code",
   "execution_count": 13,
   "id": "f5340bd3-e48d-419b-a98f-dd80bb548ad4",
   "metadata": {},
   "outputs": [
    {
     "name": "stdout",
     "output_type": "stream",
     "text": [
      "jumping  |  jump\n",
      "running  |  run\n",
      "sleeping  |  sleep\n",
      "talked  |  talk\n",
      "ability  |  abil\n",
      "eat  |  eat\n"
     ]
    }
   ],
   "source": [
    "for word in words:\n",
    "    print(word,' | ',stemmer.stem(word))"
   ]
  },
  {
   "cell_type": "code",
   "execution_count": 25,
   "id": "7d3916ac-098a-41b5-92df-128f251a214e",
   "metadata": {},
   "outputs": [
    {
     "data": {
      "text/plain": [
       "[('tok2vec', <spacy.pipeline.tok2vec.Tok2Vec at 0x25bf299d7f0>),\n",
       " ('tagger', <spacy.pipeline.tagger.Tagger at 0x25be6e64f50>),\n",
       " ('parser', <spacy.pipeline.dep_parser.DependencyParser at 0x25bf1825460>),\n",
       " ('attribute_ruler',\n",
       "  <spacy.pipeline.attributeruler.AttributeRuler at 0x25bf2ae3c50>),\n",
       " ('lemmatizer', <spacy.lang.en.lemmatizer.EnglishLemmatizer at 0x25bf2aeb810>),\n",
       " ('ner', <spacy.pipeline.ner.EntityRecognizer at 0x25bf18254d0>)]"
      ]
     },
     "execution_count": 25,
     "metadata": {},
     "output_type": "execute_result"
    }
   ],
   "source": [
    "nlp = spacy.load('en_core_web_sm')\n",
    "nlp.pipeline"
   ]
  },
  {
   "cell_type": "code",
   "execution_count": 19,
   "id": "3670261c-96b1-4b59-8821-0ff3b9b77209",
   "metadata": {},
   "outputs": [],
   "source": [
    "doc = nlp('jumping running sleeping talked ability eat ate')"
   ]
  },
  {
   "cell_type": "code",
   "execution_count": 21,
   "id": "30b7bcaa-d3dc-42e7-9832-f7251e262c9e",
   "metadata": {},
   "outputs": [
    {
     "name": "stdout",
     "output_type": "stream",
     "text": [
      "jumping  |  jump  |  7269679109085336853\n",
      "running  |  run  |  12767647472892411841\n",
      "sleeping  |  sleep  |  9840574412351606749\n",
      "talked  |  talk  |  13939146775466599234\n",
      "ability  |  ability  |  11565809527369121409\n",
      "eat  |  eat  |  9837207709914848172\n",
      "ate  |  eat  |  9837207709914848172\n"
     ]
    }
   ],
   "source": [
    "for token in doc:\n",
    "    print(token,' | ',token.lemma_,' | ',token.lemma)\n",
    "    "
   ]
  },
  {
   "cell_type": "code",
   "execution_count": 33,
   "id": "7c04eb54-b983-4673-a616-230c0fa929b5",
   "metadata": {},
   "outputs": [],
   "source": [
    "ar = nlp.get_pipe('attribute_ruler')\n",
    "\n",
    "ar.add([[{'TEXT':'Bro'}],[{'TEXT':'brah'}]],{'LEMMA':'bro'})\n",
    "doc = nlp('''Bro, you wanna go? brah, don't say no''')\n"
   ]
  },
  {
   "cell_type": "code",
   "execution_count": 34,
   "id": "f3acef80-f0db-4ce0-a983-014ee1665b6e",
   "metadata": {},
   "outputs": [
    {
     "name": "stdout",
     "output_type": "stream",
     "text": [
      "Bro  |  bro  |  3493238095688267532\n",
      ",  |  ,  |  2593208677638477497\n",
      "you  |  you  |  7624161793554793053\n",
      "wanna  |  wanna  |  13000462173222681081\n",
      "go  |  go  |  8004577259940138793\n",
      "?  |  ?  |  8205403955989537350\n",
      "brah  |  bro  |  3493238095688267532\n",
      ",  |  ,  |  2593208677638477497\n",
      "do  |  do  |  2158845516055552166\n",
      "n't  |  not  |  447765159362469301\n",
      "say  |  say  |  8685289367999165211\n",
      "no  |  no  |  13055779130471031426\n"
     ]
    }
   ],
   "source": [
    "for token in doc:\n",
    "    print(token,' | ',token.lemma_,' | ',token.lemma)\n",
    "    "
   ]
  },
  {
   "cell_type": "code",
   "execution_count": null,
   "id": "212f66e7-2b5b-4be1-96cb-902f8e782903",
   "metadata": {},
   "outputs": [],
   "source": []
  },
  {
   "cell_type": "code",
   "execution_count": null,
   "id": "d1fb40e6-e583-4232-9fbb-8eeda12a103e",
   "metadata": {},
   "outputs": [],
   "source": []
  },
  {
   "cell_type": "code",
   "execution_count": null,
   "id": "f9395927-abe4-444e-b83d-076dc8bb71c5",
   "metadata": {},
   "outputs": [],
   "source": []
  },
  {
   "cell_type": "code",
   "execution_count": null,
   "id": "4347a0d7-8e9e-456c-873a-87c1f8353b60",
   "metadata": {},
   "outputs": [],
   "source": []
  },
  {
   "cell_type": "code",
   "execution_count": null,
   "id": "f51aa315-0f8c-447a-b196-c20bfcca249d",
   "metadata": {},
   "outputs": [],
   "source": []
  },
  {
   "cell_type": "code",
   "execution_count": null,
   "id": "59a4f6b2-1c07-4c7b-becd-853563dc847f",
   "metadata": {},
   "outputs": [],
   "source": []
  },
  {
   "cell_type": "code",
   "execution_count": null,
   "id": "84a15ce2-aee9-4ba3-87c6-86724473bd87",
   "metadata": {},
   "outputs": [],
   "source": []
  },
  {
   "cell_type": "code",
   "execution_count": null,
   "id": "b8d64a6e-9446-4a1a-9b06-d784d5cb7eec",
   "metadata": {},
   "outputs": [],
   "source": []
  }
 ],
 "metadata": {
  "kernelspec": {
   "display_name": "Python 3 (ipykernel)",
   "language": "python",
   "name": "python3"
  },
  "language_info": {
   "codemirror_mode": {
    "name": "ipython",
    "version": 3
   },
   "file_extension": ".py",
   "mimetype": "text/x-python",
   "name": "python",
   "nbconvert_exporter": "python",
   "pygments_lexer": "ipython3",
   "version": "3.11.4"
  }
 },
 "nbformat": 4,
 "nbformat_minor": 5
}
