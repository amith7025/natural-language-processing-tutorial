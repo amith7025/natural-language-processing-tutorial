{
 "cells": [
  {
   "cell_type": "code",
   "execution_count": 3,
   "id": "96f18339-db0b-4261-b052-aed5034e3331",
   "metadata": {},
   "outputs": [],
   "source": [
    "import re"
   ]
  },
  {
   "cell_type": "code",
   "execution_count": 7,
   "id": "369e9483-8f9a-4d6d-9f9b-2dec4c6c76c3",
   "metadata": {},
   "outputs": [],
   "source": [
    "text = '''Mark Zukerburg phone number is 9991116666 calll him if you need his salary is 1000 billion. meta cfo number is (999)-333-7777'''"
   ]
  },
  {
   "cell_type": "code",
   "execution_count": 6,
   "id": "a35a83b7-6af3-4c12-9a7e-fdcd91b5b130",
   "metadata": {},
   "outputs": [],
   "source": [
    "pattern = '\\d{10}'"
   ]
  },
  {
   "cell_type": "code",
   "execution_count": 9,
   "id": "a5eeb590-39c1-4e60-88af-15a9eab3ebe7",
   "metadata": {},
   "outputs": [
    {
     "data": {
      "text/plain": [
       "['9991116666']"
      ]
     },
     "execution_count": 9,
     "metadata": {},
     "output_type": "execute_result"
    }
   ],
   "source": [
    "matches = re.findall(pattern,text)\n",
    "matches"
   ]
  },
  {
   "cell_type": "code",
   "execution_count": 19,
   "id": "d02ecf94-990b-4ac8-a019-c6e2a2fba4a4",
   "metadata": {},
   "outputs": [],
   "source": [
    "pattern = '\\(\\d{3}\\)-\\d{3}-\\d{4}|\\d{10}'"
   ]
  },
  {
   "cell_type": "code",
   "execution_count": 20,
   "id": "dc1a8d95-a07d-4d47-bb1e-17a966d2b2a8",
   "metadata": {},
   "outputs": [],
   "source": [
    "matches = re.findall(pattern,text)"
   ]
  },
  {
   "cell_type": "code",
   "execution_count": 21,
   "id": "f1ae61e7-d46f-4569-a6ce-e3dac015aa87",
   "metadata": {},
   "outputs": [
    {
     "data": {
      "text/plain": [
       "['9991116666', '(999)-333-7777']"
      ]
     },
     "execution_count": 21,
     "metadata": {},
     "output_type": "execute_result"
    }
   ],
   "source": [
    "matches"
   ]
  },
  {
   "cell_type": "code",
   "execution_count": 48,
   "id": "1b0a18d5-a905-4ed4-bd16-da8fcfe074a9",
   "metadata": {},
   "outputs": [],
   "source": [
    "text = '''Note 1–Summary of Significant Accounting Policies\n",
    "Unaudited Interim Financial Statements\n",
    "The consolidated financial statements of Tesla, Inc. (“Tesla”, the “Company”, “we”, “us” or “our”), including the consolidated balance sheet as of\n",
    "June 30, 2023, the consolidated statements of operations, the consolidated statements of comprehensive income, the consolidated statements of\n",
    "redeemable noncontrolling interests and equity for the three and six months ended June 30, 2023 and 2022, and the consolidated statements of cash\n",
    "flows for the six months ended June 30, 2023 and 2022, as well as other information disclosed in the accompanying notes, are unaudited. The\n",
    "consolidated balance sheet as of December 31, 2022 was derived from the audited consolidated financial statements as of that date. The interim\n",
    "consolidated financial statements and the accompanying notes should be read in conjunction with the annual consolidated financial statements and the\n",
    "accompanying notes contained in our Annual Report on Form 10-K for the year ended December 31, 2022.\n",
    "The interim consolidated financial statements and the accompanying notes have been prepared on the same basis as the annual consolidated\n",
    "financial statements and, in the opinion of management, reflect all adjustments, which include only normal recurring adjustments, necessary for a fair\n",
    "statement of the results of operations for the periods presented. The consolidated results of operations for any interim period are not necessarily\n",
    "indicative of the results to be expected for the full year or for any other future years or interim periods.\n",
    "Reclassifications\n",
    "Certain prior period balances have been reclassified to conform to the current period presentation in the accompanying notes.\n",
    "Revenue Recognition\n",
    "Revenue by source\n",
    "The following table disaggregates our revenue by major source (in millions):\n",
    "Three Months Ended June 30, Six Months Ended June 30,\n",
    "2023 2022 2023 2022\n",
    "Automotive sales $ 20,419 $ 13,670 $ 39,297 $ 29,184\n",
    "Automotive regulatory credits 282 344 803 1,023\n",
    "Energy generation and storage sales 1,359 717 2,772 1,220\n",
    "Services and other 2,150 1,466 3,987 2,745\n",
    "Total revenues from sales and services 24,210 16,197 46,859 34,172\n",
    "Automotive leasing 567 588 1,131 1,256\n",
    "Energy generation and storage leasing 150 149 266 262\n",
    "Total revenues $ 24,927 $ 16,934 $ 48,256 $ 35,690\n",
    "Automotive Segment\n",
    "Automotive Sales Revenue\n",
    "Deferred revenue is related to the access to our Full Self Driving (“FSD”) features and ongoing maintenance, internet connectivity, free\n",
    "Supercharging programs and over-the-air software updates primarily on automotive sales, which amounted to $3.17 billion and $2.91 billion as of June\n",
    "30, 2023 and December 31, 2022, respectively.\n",
    "Deferred revenue is equivalent to the total transaction price allocated to the performance obligations that are unsatisfied, or partially unsatisfied,\n",
    "as of the balance sheet date. Revenue recognized from the deferred revenue balance as of December 31, 2022 and 2021 was $256 million and $121\n",
    "million for six months ended June 30, 2023 and 2022, respectively. Of the total deferred revenue balance as of June 30, 2023, we expect to recognize\n",
    "$747 million of revenue in the next 12 months. The remaining balance will be recognized at the time of transfer of control of the product or over the\n",
    "performance period.\n",
    "We have been providing loans for financing our automotive deliveries in volume since fiscal year 2022. As of June 30, 2023 and December 31,\n",
    "2022, we have recorded net financing receivables on the consolidated balance sheets, of which $234 million and $128 million, respectively, is recorded\n",
    "within Accounts receivable, net, for the current portion and $1.15 billion and $665 million, respectively, is recorded within Other non-current assets for\n",
    "the long-term portion.\n",
    "10\n",
    "Automotive Regulatory Credits\n",
    "During the six months ended June 30, 2022, we had also recognized $288 million in revenue due to changes in regulation which entitled us to\n",
    "additional consideration for credits sold previously.\n",
    "Automotive Leasing Revenue\n",
    "Direct Sales-Type Leasing Program\n",
    "For the three and six months ended June 30, 2023, we recognized $76 million and $177 million, respectively, of sales-type leasing revenue and\n",
    "$57 million and $133 million, respectively, of sales-type leasing cost of revenue. For the three and six months ended June 30, 2022, we recognized $133\n",
    "million and $398 million, respectively, of sales-type leasing revenue and $82 million and $246 million, respectively, of sales-type leasing cost of revenue.\n",
    "Lease receivables relating to sales-type leases are presented on the consolidated balance sheets as follows (in millions):\n",
    "June 30, 2023 December 31, 2022\n",
    "Gross lease receivables $ 882 $ 837\n",
    "Unearned interest income (96) (95)\n",
    "Allowance for expected credit losses (6) (4)\n",
    "Net investment in sales-type leases $ 780 $ 738\n",
    "Reported as:\n",
    "Prepaid expenses and other current assets $ 187 $ 164\n",
    "Other non-current assets 593 574\n",
    "Net investment in sales-type leases $ 780 $ 738\n",
    "Energy Generation and Storage Segment\n",
    "Energy Generation and Storage Sales\n",
    "We record as deferred revenue any non-refundable amounts that are collected from customers related to fees charged for prepayments, which is\n",
    "recognized as revenue ratably over the respective customer contract term. As of June 30, 2023 and December 31, 2022, deferred revenue related to\n",
    "such customer payments amounted to $1.10 billion and $863 million, respectively, mainly due to billings for milestone payments. Revenue recognized\n",
    "from the deferred revenue balance as of December 31, 2022 and 2021 was $329 million and $79 million for the six months ended June 30, 2023 and\n",
    "2022, respectively. As of June 30, 2023, total transaction price allocated to performance obligations that were unsatisfied or partially unsatisfied for\n",
    "contracts with an original expected length of more than one year was $814 million. Of this amount, we expect to recognize $207 million in the next 12\n",
    "months and the rest over the remaining performance obligation period.\n",
    "We have been providing loans for financing our energy generation products in volume since fiscal year 2022. As of June 30, 2023 and December\n",
    "31, 2022, we have recorded net financing receivables on the consolidated balance sheets, of which $28 million and $24 million, respectively, is recorded\n",
    "within Accounts receivable, net, for the current portion and $504 million and $387 million, respectively, is recorded within Other non-current assets for\n",
    "the long-term portion.\n",
    "Income Taxes\n",
    "There are transactions that occur during the ordinary course of business for which the ultimate tax determination is uncertain. As of June 30,\n",
    "2023 and December 31, 2022, the aggregate balances of our gross unrecognized tax benefits were $1.01 billion and $870 million, respectively, of which\n",
    "$601 million and $572 million, respectively, would not give rise to changes in our effective tax rate since these tax benefits would increase a deferred\n",
    "tax asset that is currently fully offset by a valuation allowance.\n",
    "We file income tax returns in the U.S. and various state and foreign jurisdictions. We are currently under examination by the Internal Revenue\n",
    "Service (“IRS”) for the years 2015 to 2018. Additional tax years within the periods 2004 to 2014 and 2019 to 2021 remain subject to examination for\n",
    "federal income tax purposes. All net operating losses and tax credits generated to date are subject to adjustment for U.S. federal and state income tax\n",
    "purposes. Our returns for 2004 and subsequent tax years remain subject to examination in U.S. state and foreign jurisdictions.\n",
    "Given the uncertainty in timing and outcome of our tax examinations, an estimate of the range of the reasonably possible change in gross\n",
    "unrecognized tax benefits within twelve months cannot be made at this time.\n",
    "11\n",
    "Net Income per Share of Common Stock Attributable to Common Stockholders\n",
    "The following table presents the reconciliation of net income attributable to common stockholders to net income used in computing basic and\n",
    "diluted net income per share of common stock (in millions):\n",
    "Three Months Ended June 30, Six Months Ended June 30,\n",
    "2023 2022 2023 2022\n",
    "Net income attributable to common stockholders $ 2,703 $ 2,259 $ 5,216 $ 5,577\n",
    "Less: Buy-out of noncontrolling interest 0 3 (5) 8\n",
    "Net income used in computing basic net income per share\n",
    "of common stock 2,703 2,256 5,221 5,569\n",
    "Less: Dilutive convertible debt 0 0 0 1\n",
    "Net income used in computing diluted net income per\n",
    "share of common stock $ 2,703 $ 2,256 $ 5,221 $ 5,568\n",
    "The following table presents the reconciliation of basic to diluted weighted average shares used in computing net income per share of common\n",
    "stock attributable to common stockholders, as adjusted to give effect to the three-for-one stock split effected in the form of a stock dividend in August\n",
    "2022 (the “2022 Stock Split”) (in millions):\n",
    "Three Months Ended June 30, Six Months Ended June 30,\n",
    "2023 2022 2023 2022\n",
    "Weighted average shares used in computing net income\n",
    "per share of common stock, basic 3,171 3,111 3,168 3,107\n",
    "Add:\n",
    "Stock-based awards 294 302 292 308\n",
    "Convertible senior notes 2 3 2 4\n",
    "Warrants 11 48 11 50\n",
    "Weighted average shares used in computing net income\n",
    "per share of common stock, diluted 3,478 3,464 3,473 3,469\n",
    "The following table presents the potentially dilutive shares that were excluded from the computation of diluted net income per share of common\n",
    "stock attributable to common stockholders, because their effect was anti-dilutive, as adjusted to give effect to the 2022 Stock Split (in millions):\n",
    "Three Months Ended June 30, Six Months Ended June 30,\n",
    "2023 2022 2023 2022\n",
    "Stock-based awards 15 3 17 2\n",
    "Restricted Cash\n",
    "Our total cash and cash equivalents and restricted cash, as presented in the consolidated statements of cash flows, was as follows (in millions):\n",
    "June 30, December 31, June 30, December 31,\n",
    "2023 2022 2022 2021\n",
    "Cash and cash equivalents $ 15,296 $ 16,253 $ 18,324 $ 17,576\n",
    "Restricted cash included in prepaid expenses and other\n",
    "current assets 384 294 294 345\n",
    "Restricted cash included in other non-current assets 199 377 269 223\n",
    "Total as presented in the consolidated statements of cash flows $ 15,879 $ 16,924 $ 18,887 $ 18,144\n",
    "12\n",
    "Accounts Receivable and Allowance for Doubtful Accounts\n",
    "Depending on the day of the week on which the end of a fiscal quarter falls, our accounts receivable balance may fluctuate as we are waiting for\n",
    "certain customer payments to clear through our banking institutions and receipts of payments from our financing partners, which can take up to\n",
    "approximately two weeks based on the contractual payment terms with such partners. Our accounts receivable balances associated with our sales of\n",
    "regulatory credits, which are typically transferred to other manufacturers during the last few days of the quarter, is dependent on contractual payment\n",
    "terms. Additionally, government rebates can take up to a year or more to be collected depending on the customary processing timelines of the specific\n",
    "jurisdictions issuing them. These various factors may have a significant impact on our accounts receivable balance from period to period. As of June 30,\n",
    "2023 and December 31, 2022, we had $330 million and $753 million, respectively, of long-term government rebates receivable in Other non-current\n",
    "assets in our consolidated balance sheets.\n",
    "Financing Receivables\n",
    "As of June 30, 2023 and December 31, 2022, the majority of our financing receivables were at current status with only immaterial balances being\n",
    "past due. As of June 30, 2023, the majority of our financing receivables, excluding MyPower notes receivable, were originated in 2023 and 2022, and as\n",
    "of December 31, 2022, the majority of our financing receivables, excluding MyPower notes receivable, were originated in 2022.\n",
    "As of June 30, 2023 and December 31, 2022, the total outstanding balance of MyPower customer notes receivable, net of allowance for expected\n",
    "credit losses, was $272 million and $280 million, respectively, of which $7 million was due in the next 12 months as of June 30, 2023 and December 31,\n",
    "2022. As of June 30, 2023 and December 31, 2022, the allowance for expected credit losses was $37 million.\n",
    "Concentration of Risk\n",
    "Credit Risk\n",
    "Financial instruments that potentially subject us to a concentration of credit risk consist of cash, cash equivalents, investments, restricted cash,\n",
    "accounts receivable and other finance receivables. Our cash and investments balances are primarily comprised of deposits which are diversified among\n",
    "high credit quality financial institutions or invested in U.S. government securities. These deposits are typically in excess of insured limits. As of June 30,\n",
    "2023 and December 31, 2022, no entity represented 10% or more of our total receivables balance.\n",
    "Supply Risk\n",
    "We are dependent on our suppliers, including single source suppliers, and the inability of these suppliers to deliver necessary components of our\n",
    "products in a timely manner at prices, quality levels and volumes acceptable to us, or our inability to efficiently manage these components from these\n",
    "suppliers, could have a material adverse effect on our business, prospects, financial condition and operating results.\n",
    "Operating Lease Vehicles\n",
    "The gross cost of operating lease vehicles as of June 30, 2023 and December 31, 2022 was $7.13 billion and $6.08 billion, respectively. Operating\n",
    "lease vehicles on the consolidated balance sheets are presented net of accumulated depreciation of $1.19 billion and $1.04 billion as of June 30, 2023\n",
    "and December 31, 2022, respectively.\n",
    "Goodwill\n",
    "Goodwill increased $69 million within the automotive segment from $194 million as of December 31, 2022 to $263 million as of June 30, 2023\n",
    "primarily from a business combination.\n",
    "13\n",
    "Warranties\n",
    "Accrued warranty activity consisted of the following (in millions):\n",
    "Three Months Ended June 30, Six Months End'''"
   ]
  },
  {
   "cell_type": "code",
   "execution_count": 53,
   "id": "c7fc365a-991d-42e7-94f6-ebbc42e5d8f6",
   "metadata": {},
   "outputs": [
    {
     "data": {
      "text/plain": [
       "[]"
      ]
     },
     "execution_count": 53,
     "metadata": {},
     "output_type": "execute_result"
    }
   ],
   "source": [
    "pattern = r'Note \\d-'\n",
    "matches = re.findall(pattern,text)\n",
    "matches"
   ]
  },
  {
   "cell_type": "code",
   "execution_count": 28,
   "id": "b3b918f2-51bb-4a85-9ea8-3812908776cd",
   "metadata": {},
   "outputs": [],
   "source": [
    "new_text = 'asayjdgwldhewafrgewewhger,ugrgurfgehfe.kfeofer---ff-efheruhfehfej'"
   ]
  },
  {
   "cell_type": "code",
   "execution_count": 32,
   "id": "da532b7c-923a-4b21-817f-e449ed51f8ab",
   "metadata": {},
   "outputs": [],
   "source": [
    "pattern =  r'[^-]'"
   ]
  },
  {
   "cell_type": "code",
   "execution_count": 33,
   "id": "6230d9df-06d7-4131-9ba3-4b494ae18f56",
   "metadata": {},
   "outputs": [],
   "source": [
    " matches = re.findall(pattern,new_text)"
   ]
  },
  {
   "cell_type": "code",
   "execution_count": 34,
   "id": "cf53de7b-01fb-4959-a9e7-d0b4d5f139be",
   "metadata": {},
   "outputs": [
    {
     "data": {
      "text/plain": [
       "['a',\n",
       " 's',\n",
       " 'a',\n",
       " 'y',\n",
       " 'j',\n",
       " 'd',\n",
       " 'g',\n",
       " 'w',\n",
       " 'l',\n",
       " 'd',\n",
       " 'h',\n",
       " 'e',\n",
       " 'w',\n",
       " 'a',\n",
       " 'f',\n",
       " 'r',\n",
       " 'g',\n",
       " 'e',\n",
       " 'w',\n",
       " 'e',\n",
       " 'w',\n",
       " 'h',\n",
       " 'g',\n",
       " 'e',\n",
       " 'r',\n",
       " ',',\n",
       " 'u',\n",
       " 'g',\n",
       " 'r',\n",
       " 'g',\n",
       " 'u',\n",
       " 'r',\n",
       " 'f',\n",
       " 'g',\n",
       " 'e',\n",
       " 'h',\n",
       " 'f',\n",
       " 'e',\n",
       " '.',\n",
       " 'k',\n",
       " 'f',\n",
       " 'e',\n",
       " 'o',\n",
       " 'f',\n",
       " 'e',\n",
       " 'r',\n",
       " 'f',\n",
       " 'f',\n",
       " 'e',\n",
       " 'f',\n",
       " 'h',\n",
       " 'e',\n",
       " 'r',\n",
       " 'u',\n",
       " 'h',\n",
       " 'f',\n",
       " 'e',\n",
       " 'h',\n",
       " 'f',\n",
       " 'e',\n",
       " 'j']"
      ]
     },
     "execution_count": 34,
     "metadata": {},
     "output_type": "execute_result"
    }
   ],
   "source": [
    "matches"
   ]
  },
  {
   "cell_type": "code",
   "execution_count": null,
   "id": "cd4c8acd-db1c-4539-9ad6-7bc319c67275",
   "metadata": {},
   "outputs": [],
   "source": []
  },
  {
   "cell_type": "code",
   "execution_count": null,
   "id": "97bd06d8-3844-4a9d-bdab-a19302f615fb",
   "metadata": {},
   "outputs": [],
   "source": []
  },
  {
   "cell_type": "code",
   "execution_count": null,
   "id": "1b53d9cd-5245-4983-92b1-60675bac7eab",
   "metadata": {},
   "outputs": [],
   "source": []
  },
  {
   "cell_type": "code",
   "execution_count": null,
   "id": "b2da7cda-e946-44a6-8cf8-f5201a1238a4",
   "metadata": {},
   "outputs": [],
   "source": []
  },
  {
   "cell_type": "code",
   "execution_count": null,
   "id": "f682e87b-25b8-4efa-a68e-4f853057c1f4",
   "metadata": {},
   "outputs": [],
   "source": []
  },
  {
   "cell_type": "code",
   "execution_count": null,
   "id": "7a223dc9-25c9-4f6e-90f4-8d38ef04ff12",
   "metadata": {},
   "outputs": [],
   "source": []
  }
 ],
 "metadata": {
  "kernelspec": {
   "display_name": "Python 3 (ipykernel)",
   "language": "python",
   "name": "python3"
  },
  "language_info": {
   "codemirror_mode": {
    "name": "ipython",
    "version": 3
   },
   "file_extension": ".py",
   "mimetype": "text/x-python",
   "name": "python",
   "nbconvert_exporter": "python",
   "pygments_lexer": "ipython3",
   "version": "3.11.4"
  }
 },
 "nbformat": 4,
 "nbformat_minor": 5
}
