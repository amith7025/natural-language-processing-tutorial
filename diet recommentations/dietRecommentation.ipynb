{
 "cells": [
  {
   "cell_type": "code",
   "execution_count": 134,
   "id": "37046fe6-81c4-4799-8191-0a0ad9146a08",
   "metadata": {},
   "outputs": [],
   "source": [
    "import pandas as pd\n",
    "from sklearn.preprocessing import LabelEncoder,MinMaxScaler\n",
    "from sklearn.model_selection import train_test_split\n",
    "import numpy as np\n",
    "from sklearn.linear_model import LinearRegression,SGDRegressor\n",
    "from sklearn.metrics import classification_report\n",
    "from sklearn.neighbors import KNeighborsClassifier\n",
    "from sklearn.metrics import mean_squared_error,mean_absolute_error,classification_report\n",
    "import matplotlib.pyplot as plt\n",
    "from sklearn.neighbors import KNeighborsClassifier"
   ]
  },
  {
   "cell_type": "code",
   "execution_count": 135,
   "id": "02a1c8ce-8ae6-4b14-9eb8-4539fbb22c97",
   "metadata": {},
   "outputs": [],
   "source": [
    "df = pd.read_csv('dataset.csv')"
   ]
  },
  {
   "cell_type": "code",
   "execution_count": 136,
   "id": "43dbedfe-9d08-4262-a960-9e9fc6ac1c88",
   "metadata": {},
   "outputs": [
    {
     "data": {
      "text/html": [
       "<div>\n",
       "<style scoped>\n",
       "    .dataframe tbody tr th:only-of-type {\n",
       "        vertical-align: middle;\n",
       "    }\n",
       "\n",
       "    .dataframe tbody tr th {\n",
       "        vertical-align: top;\n",
       "    }\n",
       "\n",
       "    .dataframe thead th {\n",
       "        text-align: right;\n",
       "    }\n",
       "</style>\n",
       "<table border=\"1\" class=\"dataframe\">\n",
       "  <thead>\n",
       "    <tr style=\"text-align: right;\">\n",
       "      <th></th>\n",
       "      <th>Meal_Id</th>\n",
       "      <th>Name</th>\n",
       "      <th>catagory</th>\n",
       "      <th>description</th>\n",
       "      <th>Veg_Non</th>\n",
       "      <th>Nutrient</th>\n",
       "      <th>Disease</th>\n",
       "      <th>Diet</th>\n",
       "      <th>Price</th>\n",
       "    </tr>\n",
       "  </thead>\n",
       "  <tbody>\n",
       "    <tr>\n",
       "      <th>0</th>\n",
       "      <td>meal_id1</td>\n",
       "      <td>summer squash salad</td>\n",
       "      <td>salad</td>\n",
       "      <td>white balsamic vinegar, lemon juice, lemon rin...</td>\n",
       "      <td>veg</td>\n",
       "      <td>fiber</td>\n",
       "      <td>obesity diabeties hypertension goitre</td>\n",
       "      <td>alkaline_diet low_fat_diet ketogenic_diet low...</td>\n",
       "      <td>485</td>\n",
       "    </tr>\n",
       "    <tr>\n",
       "      <th>1</th>\n",
       "      <td>meal_id2</td>\n",
       "      <td>chicken minced salad</td>\n",
       "      <td>salad</td>\n",
       "      <td>olive oil, chicken mince, garlic (minced), oni...</td>\n",
       "      <td>non-veg</td>\n",
       "      <td>fiber</td>\n",
       "      <td>anemia pregnancy hypertension rickets goitre ...</td>\n",
       "      <td>low_fat_diet low_carb_diet ketogenic_diet low...</td>\n",
       "      <td>600</td>\n",
       "    </tr>\n",
       "    <tr>\n",
       "      <th>2</th>\n",
       "      <td>meal_id3</td>\n",
       "      <td>sweet chilli almonds</td>\n",
       "      <td>chilli</td>\n",
       "      <td>almonds whole, egg white, curry leaves, salt, ...</td>\n",
       "      <td>veg</td>\n",
       "      <td>vitamin_a</td>\n",
       "      <td>hypertension scurvy heart_disease goitre kidn...</td>\n",
       "      <td>alkaline_diet low_fat_diet paleo_diet Mediter...</td>\n",
       "      <td>255</td>\n",
       "    </tr>\n",
       "    <tr>\n",
       "      <th>3</th>\n",
       "      <td>meal_id4</td>\n",
       "      <td>tricolour salad</td>\n",
       "      <td>salad</td>\n",
       "      <td>vinegar, honey/sugar, soy sauce, salt, garlic ...</td>\n",
       "      <td>veg</td>\n",
       "      <td>fiber</td>\n",
       "      <td>obesity goitre hypertension</td>\n",
       "      <td>low_fat_diet ketogenic_diet low_sodium_diet h...</td>\n",
       "      <td>615</td>\n",
       "    </tr>\n",
       "    <tr>\n",
       "      <th>4</th>\n",
       "      <td>meal_id5</td>\n",
       "      <td>gluten-free christmas cake</td>\n",
       "      <td>cake</td>\n",
       "      <td>christmas dry fruits (pre-soaked), orange zest...</td>\n",
       "      <td>veg</td>\n",
       "      <td>vitamin_a</td>\n",
       "      <td>goitre kidney_disease</td>\n",
       "      <td>high_protien_diet</td>\n",
       "      <td>465</td>\n",
       "    </tr>\n",
       "  </tbody>\n",
       "</table>\n",
       "</div>"
      ],
      "text/plain": [
       "    Meal_Id                        Name catagory  \\\n",
       "0  meal_id1         summer squash salad    salad   \n",
       "1  meal_id2        chicken minced salad    salad   \n",
       "2  meal_id3        sweet chilli almonds   chilli   \n",
       "3  meal_id4             tricolour salad    salad   \n",
       "4  meal_id5  gluten-free christmas cake     cake   \n",
       "\n",
       "                                         description  Veg_Non   Nutrient  \\\n",
       "0  white balsamic vinegar, lemon juice, lemon rin...      veg      fiber   \n",
       "1  olive oil, chicken mince, garlic (minced), oni...  non-veg      fiber   \n",
       "2  almonds whole, egg white, curry leaves, salt, ...      veg  vitamin_a   \n",
       "3  vinegar, honey/sugar, soy sauce, salt, garlic ...      veg      fiber   \n",
       "4  christmas dry fruits (pre-soaked), orange zest...      veg  vitamin_a   \n",
       "\n",
       "                                             Disease  \\\n",
       "0              obesity diabeties hypertension goitre   \n",
       "1   anemia pregnancy hypertension rickets goitre ...   \n",
       "2   hypertension scurvy heart_disease goitre kidn...   \n",
       "3                        obesity goitre hypertension   \n",
       "4                              goitre kidney_disease   \n",
       "\n",
       "                                                Diet  Price  \n",
       "0   alkaline_diet low_fat_diet ketogenic_diet low...    485  \n",
       "1   low_fat_diet low_carb_diet ketogenic_diet low...    600  \n",
       "2   alkaline_diet low_fat_diet paleo_diet Mediter...    255  \n",
       "3   low_fat_diet ketogenic_diet low_sodium_diet h...    615  \n",
       "4                                  high_protien_diet    465  "
      ]
     },
     "execution_count": 136,
     "metadata": {},
     "output_type": "execute_result"
    }
   ],
   "source": [
    "df.head()"
   ]
  },
  {
   "cell_type": "code",
   "execution_count": 137,
   "id": "789215dc-cbc1-43fa-a642-9c6d9e8e981f",
   "metadata": {},
   "outputs": [],
   "source": [
    "df.drop(['Meal_Id','Name','catagory','description','Veg_Non','Nutrient','Price'],inplace=True,axis=1)"
   ]
  },
  {
   "cell_type": "code",
   "execution_count": 138,
   "id": "fdb665ee-738b-494f-9937-863295d30b28",
   "metadata": {},
   "outputs": [
    {
     "data": {
      "text/html": [
       "<div>\n",
       "<style scoped>\n",
       "    .dataframe tbody tr th:only-of-type {\n",
       "        vertical-align: middle;\n",
       "    }\n",
       "\n",
       "    .dataframe tbody tr th {\n",
       "        vertical-align: top;\n",
       "    }\n",
       "\n",
       "    .dataframe thead th {\n",
       "        text-align: right;\n",
       "    }\n",
       "</style>\n",
       "<table border=\"1\" class=\"dataframe\">\n",
       "  <thead>\n",
       "    <tr style=\"text-align: right;\">\n",
       "      <th></th>\n",
       "      <th>Disease</th>\n",
       "      <th>Diet</th>\n",
       "    </tr>\n",
       "  </thead>\n",
       "  <tbody>\n",
       "    <tr>\n",
       "      <th>0</th>\n",
       "      <td>obesity diabeties hypertension goitre</td>\n",
       "      <td>alkaline_diet low_fat_diet ketogenic_diet low...</td>\n",
       "    </tr>\n",
       "    <tr>\n",
       "      <th>1</th>\n",
       "      <td>anemia pregnancy hypertension rickets goitre ...</td>\n",
       "      <td>low_fat_diet low_carb_diet ketogenic_diet low...</td>\n",
       "    </tr>\n",
       "    <tr>\n",
       "      <th>2</th>\n",
       "      <td>hypertension scurvy heart_disease goitre kidn...</td>\n",
       "      <td>alkaline_diet low_fat_diet paleo_diet Mediter...</td>\n",
       "    </tr>\n",
       "    <tr>\n",
       "      <th>3</th>\n",
       "      <td>obesity goitre hypertension</td>\n",
       "      <td>low_fat_diet ketogenic_diet low_sodium_diet h...</td>\n",
       "    </tr>\n",
       "    <tr>\n",
       "      <th>4</th>\n",
       "      <td>goitre kidney_disease</td>\n",
       "      <td>high_protien_diet</td>\n",
       "    </tr>\n",
       "  </tbody>\n",
       "</table>\n",
       "</div>"
      ],
      "text/plain": [
       "                                             Disease  \\\n",
       "0              obesity diabeties hypertension goitre   \n",
       "1   anemia pregnancy hypertension rickets goitre ...   \n",
       "2   hypertension scurvy heart_disease goitre kidn...   \n",
       "3                        obesity goitre hypertension   \n",
       "4                              goitre kidney_disease   \n",
       "\n",
       "                                                Diet  \n",
       "0   alkaline_diet low_fat_diet ketogenic_diet low...  \n",
       "1   low_fat_diet low_carb_diet ketogenic_diet low...  \n",
       "2   alkaline_diet low_fat_diet paleo_diet Mediter...  \n",
       "3   low_fat_diet ketogenic_diet low_sodium_diet h...  \n",
       "4                                  high_protien_diet  "
      ]
     },
     "execution_count": 138,
     "metadata": {},
     "output_type": "execute_result"
    }
   ],
   "source": [
    "df.head()"
   ]
  },
  {
   "cell_type": "code",
   "execution_count": 139,
   "id": "81a52fc9-b2ae-4753-9331-4ec665695bb3",
   "metadata": {},
   "outputs": [],
   "source": [
    "df['disease_list'] = df['Disease'].apply(lambda x : str(x).split(' '))"
   ]
  },
  {
   "cell_type": "code",
   "execution_count": 140,
   "id": "71e9761f-81c3-48ba-91a2-90e6da5b454e",
   "metadata": {},
   "outputs": [],
   "source": [
    "df['diet_list'] = df['Diet'].apply(lambda x : str(x).split(' '))"
   ]
  },
  {
   "cell_type": "code",
   "execution_count": 141,
   "id": "59731d05-a921-457a-93c5-1349f7bbcea7",
   "metadata": {},
   "outputs": [
    {
     "data": {
      "text/html": [
       "<div>\n",
       "<style scoped>\n",
       "    .dataframe tbody tr th:only-of-type {\n",
       "        vertical-align: middle;\n",
       "    }\n",
       "\n",
       "    .dataframe tbody tr th {\n",
       "        vertical-align: top;\n",
       "    }\n",
       "\n",
       "    .dataframe thead th {\n",
       "        text-align: right;\n",
       "    }\n",
       "</style>\n",
       "<table border=\"1\" class=\"dataframe\">\n",
       "  <thead>\n",
       "    <tr style=\"text-align: right;\">\n",
       "      <th></th>\n",
       "      <th>Disease</th>\n",
       "      <th>Diet</th>\n",
       "      <th>disease_list</th>\n",
       "      <th>diet_list</th>\n",
       "    </tr>\n",
       "  </thead>\n",
       "  <tbody>\n",
       "    <tr>\n",
       "      <th>0</th>\n",
       "      <td>obesity diabeties hypertension goitre</td>\n",
       "      <td>alkaline_diet low_fat_diet ketogenic_diet low...</td>\n",
       "      <td>[, obesity, diabeties, hypertension, goitre]</td>\n",
       "      <td>[, alkaline_diet, low_fat_diet, ketogenic_diet...</td>\n",
       "    </tr>\n",
       "    <tr>\n",
       "      <th>1</th>\n",
       "      <td>anemia pregnancy hypertension rickets goitre ...</td>\n",
       "      <td>low_fat_diet low_carb_diet ketogenic_diet low...</td>\n",
       "      <td>[, anemia, pregnancy, hypertension, rickets, g...</td>\n",
       "      <td>[, low_fat_diet, low_carb_diet, ketogenic_diet...</td>\n",
       "    </tr>\n",
       "    <tr>\n",
       "      <th>2</th>\n",
       "      <td>hypertension scurvy heart_disease goitre kidn...</td>\n",
       "      <td>alkaline_diet low_fat_diet paleo_diet Mediter...</td>\n",
       "      <td>[, hypertension, scurvy, heart_disease, goitre...</td>\n",
       "      <td>[, alkaline_diet, low_fat_diet, paleo_diet, Me...</td>\n",
       "    </tr>\n",
       "    <tr>\n",
       "      <th>3</th>\n",
       "      <td>obesity goitre hypertension</td>\n",
       "      <td>low_fat_diet ketogenic_diet low_sodium_diet h...</td>\n",
       "      <td>[, obesity, goitre, hypertension]</td>\n",
       "      <td>[, low_fat_diet, ketogenic_diet, low_sodium_di...</td>\n",
       "    </tr>\n",
       "    <tr>\n",
       "      <th>4</th>\n",
       "      <td>goitre kidney_disease</td>\n",
       "      <td>high_protien_diet</td>\n",
       "      <td>[, goitre, kidney_disease]</td>\n",
       "      <td>[, high_protien_diet]</td>\n",
       "    </tr>\n",
       "  </tbody>\n",
       "</table>\n",
       "</div>"
      ],
      "text/plain": [
       "                                             Disease  \\\n",
       "0              obesity diabeties hypertension goitre   \n",
       "1   anemia pregnancy hypertension rickets goitre ...   \n",
       "2   hypertension scurvy heart_disease goitre kidn...   \n",
       "3                        obesity goitre hypertension   \n",
       "4                              goitre kidney_disease   \n",
       "\n",
       "                                                Diet  \\\n",
       "0   alkaline_diet low_fat_diet ketogenic_diet low...   \n",
       "1   low_fat_diet low_carb_diet ketogenic_diet low...   \n",
       "2   alkaline_diet low_fat_diet paleo_diet Mediter...   \n",
       "3   low_fat_diet ketogenic_diet low_sodium_diet h...   \n",
       "4                                  high_protien_diet   \n",
       "\n",
       "                                        disease_list  \\\n",
       "0       [, obesity, diabeties, hypertension, goitre]   \n",
       "1  [, anemia, pregnancy, hypertension, rickets, g...   \n",
       "2  [, hypertension, scurvy, heart_disease, goitre...   \n",
       "3                  [, obesity, goitre, hypertension]   \n",
       "4                         [, goitre, kidney_disease]   \n",
       "\n",
       "                                           diet_list  \n",
       "0  [, alkaline_diet, low_fat_diet, ketogenic_diet...  \n",
       "1  [, low_fat_diet, low_carb_diet, ketogenic_diet...  \n",
       "2  [, alkaline_diet, low_fat_diet, paleo_diet, Me...  \n",
       "3  [, low_fat_diet, ketogenic_diet, low_sodium_di...  \n",
       "4                              [, high_protien_diet]  "
      ]
     },
     "execution_count": 141,
     "metadata": {},
     "output_type": "execute_result"
    }
   ],
   "source": [
    "df.head()"
   ]
  },
  {
   "cell_type": "code",
   "execution_count": 142,
   "id": "d9ed01b7-5ef0-42a3-bb4f-a303e0c17e3c",
   "metadata": {},
   "outputs": [],
   "source": [
    "df = df.explode('disease_list')"
   ]
  },
  {
   "cell_type": "code",
   "execution_count": 143,
   "id": "a89ece91-a8c2-468b-8396-d536611c756a",
   "metadata": {},
   "outputs": [
    {
     "data": {
      "text/html": [
       "<div>\n",
       "<style scoped>\n",
       "    .dataframe tbody tr th:only-of-type {\n",
       "        vertical-align: middle;\n",
       "    }\n",
       "\n",
       "    .dataframe tbody tr th {\n",
       "        vertical-align: top;\n",
       "    }\n",
       "\n",
       "    .dataframe thead th {\n",
       "        text-align: right;\n",
       "    }\n",
       "</style>\n",
       "<table border=\"1\" class=\"dataframe\">\n",
       "  <thead>\n",
       "    <tr style=\"text-align: right;\">\n",
       "      <th></th>\n",
       "      <th>Disease</th>\n",
       "      <th>Diet</th>\n",
       "      <th>disease_list</th>\n",
       "      <th>diet_list</th>\n",
       "    </tr>\n",
       "  </thead>\n",
       "  <tbody>\n",
       "    <tr>\n",
       "      <th>0</th>\n",
       "      <td>obesity diabeties hypertension goitre</td>\n",
       "      <td>alkaline_diet low_fat_diet ketogenic_diet low...</td>\n",
       "      <td></td>\n",
       "      <td>[, alkaline_diet, low_fat_diet, ketogenic_diet...</td>\n",
       "    </tr>\n",
       "    <tr>\n",
       "      <th>0</th>\n",
       "      <td>obesity diabeties hypertension goitre</td>\n",
       "      <td>alkaline_diet low_fat_diet ketogenic_diet low...</td>\n",
       "      <td>obesity</td>\n",
       "      <td>[, alkaline_diet, low_fat_diet, ketogenic_diet...</td>\n",
       "    </tr>\n",
       "    <tr>\n",
       "      <th>0</th>\n",
       "      <td>obesity diabeties hypertension goitre</td>\n",
       "      <td>alkaline_diet low_fat_diet ketogenic_diet low...</td>\n",
       "      <td>diabeties</td>\n",
       "      <td>[, alkaline_diet, low_fat_diet, ketogenic_diet...</td>\n",
       "    </tr>\n",
       "    <tr>\n",
       "      <th>0</th>\n",
       "      <td>obesity diabeties hypertension goitre</td>\n",
       "      <td>alkaline_diet low_fat_diet ketogenic_diet low...</td>\n",
       "      <td>hypertension</td>\n",
       "      <td>[, alkaline_diet, low_fat_diet, ketogenic_diet...</td>\n",
       "    </tr>\n",
       "    <tr>\n",
       "      <th>0</th>\n",
       "      <td>obesity diabeties hypertension goitre</td>\n",
       "      <td>alkaline_diet low_fat_diet ketogenic_diet low...</td>\n",
       "      <td>goitre</td>\n",
       "      <td>[, alkaline_diet, low_fat_diet, ketogenic_diet...</td>\n",
       "    </tr>\n",
       "  </tbody>\n",
       "</table>\n",
       "</div>"
      ],
      "text/plain": [
       "                                  Disease  \\\n",
       "0   obesity diabeties hypertension goitre   \n",
       "0   obesity diabeties hypertension goitre   \n",
       "0   obesity diabeties hypertension goitre   \n",
       "0   obesity diabeties hypertension goitre   \n",
       "0   obesity diabeties hypertension goitre   \n",
       "\n",
       "                                                Diet  disease_list  \\\n",
       "0   alkaline_diet low_fat_diet ketogenic_diet low...                 \n",
       "0   alkaline_diet low_fat_diet ketogenic_diet low...       obesity   \n",
       "0   alkaline_diet low_fat_diet ketogenic_diet low...     diabeties   \n",
       "0   alkaline_diet low_fat_diet ketogenic_diet low...  hypertension   \n",
       "0   alkaline_diet low_fat_diet ketogenic_diet low...        goitre   \n",
       "\n",
       "                                           diet_list  \n",
       "0  [, alkaline_diet, low_fat_diet, ketogenic_diet...  \n",
       "0  [, alkaline_diet, low_fat_diet, ketogenic_diet...  \n",
       "0  [, alkaline_diet, low_fat_diet, ketogenic_diet...  \n",
       "0  [, alkaline_diet, low_fat_diet, ketogenic_diet...  \n",
       "0  [, alkaline_diet, low_fat_diet, ketogenic_diet...  "
      ]
     },
     "execution_count": 143,
     "metadata": {},
     "output_type": "execute_result"
    }
   ],
   "source": [
    "df.head()"
   ]
  },
  {
   "cell_type": "code",
   "execution_count": 144,
   "id": "d70638eb-7902-4117-b8af-b91b56dde926",
   "metadata": {},
   "outputs": [],
   "source": [
    "df = df.explode('diet_list')"
   ]
  },
  {
   "cell_type": "code",
   "execution_count": 145,
   "id": "4cac40ee-b57a-421a-8558-8d1e0117b5bb",
   "metadata": {},
   "outputs": [
    {
     "data": {
      "text/html": [
       "<div>\n",
       "<style scoped>\n",
       "    .dataframe tbody tr th:only-of-type {\n",
       "        vertical-align: middle;\n",
       "    }\n",
       "\n",
       "    .dataframe tbody tr th {\n",
       "        vertical-align: top;\n",
       "    }\n",
       "\n",
       "    .dataframe thead th {\n",
       "        text-align: right;\n",
       "    }\n",
       "</style>\n",
       "<table border=\"1\" class=\"dataframe\">\n",
       "  <thead>\n",
       "    <tr style=\"text-align: right;\">\n",
       "      <th></th>\n",
       "      <th>Disease</th>\n",
       "      <th>Diet</th>\n",
       "      <th>disease_list</th>\n",
       "      <th>diet_list</th>\n",
       "    </tr>\n",
       "  </thead>\n",
       "  <tbody>\n",
       "    <tr>\n",
       "      <th>511</th>\n",
       "      <td>obesity diabeties anemia</td>\n",
       "      <td>high_protien_diet vegan_diet dash_diet ketoge...</td>\n",
       "      <td>anemia</td>\n",
       "      <td></td>\n",
       "    </tr>\n",
       "    <tr>\n",
       "      <th>511</th>\n",
       "      <td>obesity diabeties anemia</td>\n",
       "      <td>high_protien_diet vegan_diet dash_diet ketoge...</td>\n",
       "      <td>anemia</td>\n",
       "      <td>high_protien_diet</td>\n",
       "    </tr>\n",
       "    <tr>\n",
       "      <th>511</th>\n",
       "      <td>obesity diabeties anemia</td>\n",
       "      <td>high_protien_diet vegan_diet dash_diet ketoge...</td>\n",
       "      <td>anemia</td>\n",
       "      <td>vegan_diet</td>\n",
       "    </tr>\n",
       "    <tr>\n",
       "      <th>511</th>\n",
       "      <td>obesity diabeties anemia</td>\n",
       "      <td>high_protien_diet vegan_diet dash_diet ketoge...</td>\n",
       "      <td>anemia</td>\n",
       "      <td>dash_diet</td>\n",
       "    </tr>\n",
       "    <tr>\n",
       "      <th>511</th>\n",
       "      <td>obesity diabeties anemia</td>\n",
       "      <td>high_protien_diet vegan_diet dash_diet ketoge...</td>\n",
       "      <td>anemia</td>\n",
       "      <td>ketogenic_diet</td>\n",
       "    </tr>\n",
       "  </tbody>\n",
       "</table>\n",
       "</div>"
      ],
      "text/plain": [
       "                       Disease  \\\n",
       "511   obesity diabeties anemia   \n",
       "511   obesity diabeties anemia   \n",
       "511   obesity diabeties anemia   \n",
       "511   obesity diabeties anemia   \n",
       "511   obesity diabeties anemia   \n",
       "\n",
       "                                                  Diet disease_list  \\\n",
       "511   high_protien_diet vegan_diet dash_diet ketoge...       anemia   \n",
       "511   high_protien_diet vegan_diet dash_diet ketoge...       anemia   \n",
       "511   high_protien_diet vegan_diet dash_diet ketoge...       anemia   \n",
       "511   high_protien_diet vegan_diet dash_diet ketoge...       anemia   \n",
       "511   high_protien_diet vegan_diet dash_diet ketoge...       anemia   \n",
       "\n",
       "             diet_list  \n",
       "511                     \n",
       "511  high_protien_diet  \n",
       "511         vegan_diet  \n",
       "511          dash_diet  \n",
       "511     ketogenic_diet  "
      ]
     },
     "execution_count": 145,
     "metadata": {},
     "output_type": "execute_result"
    }
   ],
   "source": [
    "df.tail()"
   ]
  },
  {
   "cell_type": "code",
   "execution_count": 146,
   "id": "8eb84b94-21d7-486a-a3ab-ea25c31e95f5",
   "metadata": {},
   "outputs": [
    {
     "data": {
      "text/plain": [
       "18615"
      ]
     },
     "execution_count": 146,
     "metadata": {},
     "output_type": "execute_result"
    }
   ],
   "source": [
    "len(df)"
   ]
  },
  {
   "cell_type": "code",
   "execution_count": 147,
   "id": "e2ed9ec7-b3ce-40be-9376-f6fd07bc40f8",
   "metadata": {},
   "outputs": [
    {
     "data": {
      "text/html": [
       "<div>\n",
       "<style scoped>\n",
       "    .dataframe tbody tr th:only-of-type {\n",
       "        vertical-align: middle;\n",
       "    }\n",
       "\n",
       "    .dataframe tbody tr th {\n",
       "        vertical-align: top;\n",
       "    }\n",
       "\n",
       "    .dataframe thead th {\n",
       "        text-align: right;\n",
       "    }\n",
       "</style>\n",
       "<table border=\"1\" class=\"dataframe\">\n",
       "  <thead>\n",
       "    <tr style=\"text-align: right;\">\n",
       "      <th></th>\n",
       "      <th>Disease</th>\n",
       "      <th>Diet</th>\n",
       "      <th>disease_list</th>\n",
       "      <th>diet_list</th>\n",
       "    </tr>\n",
       "  </thead>\n",
       "  <tbody>\n",
       "    <tr>\n",
       "      <th>511</th>\n",
       "      <td>obesity diabeties anemia</td>\n",
       "      <td>high_protien_diet vegan_diet dash_diet ketoge...</td>\n",
       "      <td>anemia</td>\n",
       "      <td></td>\n",
       "    </tr>\n",
       "    <tr>\n",
       "      <th>511</th>\n",
       "      <td>obesity diabeties anemia</td>\n",
       "      <td>high_protien_diet vegan_diet dash_diet ketoge...</td>\n",
       "      <td>anemia</td>\n",
       "      <td>high_protien_diet</td>\n",
       "    </tr>\n",
       "    <tr>\n",
       "      <th>511</th>\n",
       "      <td>obesity diabeties anemia</td>\n",
       "      <td>high_protien_diet vegan_diet dash_diet ketoge...</td>\n",
       "      <td>anemia</td>\n",
       "      <td>vegan_diet</td>\n",
       "    </tr>\n",
       "    <tr>\n",
       "      <th>511</th>\n",
       "      <td>obesity diabeties anemia</td>\n",
       "      <td>high_protien_diet vegan_diet dash_diet ketoge...</td>\n",
       "      <td>anemia</td>\n",
       "      <td>dash_diet</td>\n",
       "    </tr>\n",
       "    <tr>\n",
       "      <th>511</th>\n",
       "      <td>obesity diabeties anemia</td>\n",
       "      <td>high_protien_diet vegan_diet dash_diet ketoge...</td>\n",
       "      <td>anemia</td>\n",
       "      <td>ketogenic_diet</td>\n",
       "    </tr>\n",
       "  </tbody>\n",
       "</table>\n",
       "</div>"
      ],
      "text/plain": [
       "                       Disease  \\\n",
       "511   obesity diabeties anemia   \n",
       "511   obesity diabeties anemia   \n",
       "511   obesity diabeties anemia   \n",
       "511   obesity diabeties anemia   \n",
       "511   obesity diabeties anemia   \n",
       "\n",
       "                                                  Diet disease_list  \\\n",
       "511   high_protien_diet vegan_diet dash_diet ketoge...       anemia   \n",
       "511   high_protien_diet vegan_diet dash_diet ketoge...       anemia   \n",
       "511   high_protien_diet vegan_diet dash_diet ketoge...       anemia   \n",
       "511   high_protien_diet vegan_diet dash_diet ketoge...       anemia   \n",
       "511   high_protien_diet vegan_diet dash_diet ketoge...       anemia   \n",
       "\n",
       "             diet_list  \n",
       "511                     \n",
       "511  high_protien_diet  \n",
       "511         vegan_diet  \n",
       "511          dash_diet  \n",
       "511     ketogenic_diet  "
      ]
     },
     "execution_count": 147,
     "metadata": {},
     "output_type": "execute_result"
    }
   ],
   "source": [
    "df.tail()"
   ]
  },
  {
   "cell_type": "code",
   "execution_count": 148,
   "id": "18981e0e-faf3-41f5-bccf-7790e72d6b8c",
   "metadata": {},
   "outputs": [
    {
     "data": {
      "text/plain": [
       "''"
      ]
     },
     "execution_count": 148,
     "metadata": {},
     "output_type": "execute_result"
    }
   ],
   "source": [
    "df.iloc[511,3]"
   ]
  },
  {
   "cell_type": "code",
   "execution_count": 149,
   "id": "f657e8aa-e080-4f2b-9324-73d39f0d9cb2",
   "metadata": {},
   "outputs": [
    {
     "data": {
      "text/plain": [
       "0       True\n",
       "0      False\n",
       "0      False\n",
       "0      False\n",
       "0      False\n",
       "       ...  \n",
       "511     True\n",
       "511    False\n",
       "511    False\n",
       "511    False\n",
       "511    False\n",
       "Name: diet_list, Length: 18615, dtype: bool"
      ]
     },
     "execution_count": 149,
     "metadata": {},
     "output_type": "execute_result"
    }
   ],
   "source": [
    "condtion = df['diet_list'] == ''\n",
    "condtion"
   ]
  },
  {
   "cell_type": "code",
   "execution_count": 150,
   "id": "8ec391bd-f49e-471e-90a2-25e2e5613291",
   "metadata": {},
   "outputs": [],
   "source": [
    "df_new = df[~condtion]"
   ]
  },
  {
   "cell_type": "code",
   "execution_count": 151,
   "id": "de6535d8-a95e-41eb-89cb-86acf4c8b00b",
   "metadata": {},
   "outputs": [
    {
     "data": {
      "text/html": [
       "<div>\n",
       "<style scoped>\n",
       "    .dataframe tbody tr th:only-of-type {\n",
       "        vertical-align: middle;\n",
       "    }\n",
       "\n",
       "    .dataframe tbody tr th {\n",
       "        vertical-align: top;\n",
       "    }\n",
       "\n",
       "    .dataframe thead th {\n",
       "        text-align: right;\n",
       "    }\n",
       "</style>\n",
       "<table border=\"1\" class=\"dataframe\">\n",
       "  <thead>\n",
       "    <tr style=\"text-align: right;\">\n",
       "      <th></th>\n",
       "      <th>Disease</th>\n",
       "      <th>Diet</th>\n",
       "      <th>disease_list</th>\n",
       "      <th>diet_list</th>\n",
       "    </tr>\n",
       "  </thead>\n",
       "  <tbody>\n",
       "    <tr>\n",
       "      <th>0</th>\n",
       "      <td>obesity diabeties hypertension goitre</td>\n",
       "      <td>alkaline_diet low_fat_diet ketogenic_diet low...</td>\n",
       "      <td></td>\n",
       "      <td>alkaline_diet</td>\n",
       "    </tr>\n",
       "    <tr>\n",
       "      <th>0</th>\n",
       "      <td>obesity diabeties hypertension goitre</td>\n",
       "      <td>alkaline_diet low_fat_diet ketogenic_diet low...</td>\n",
       "      <td></td>\n",
       "      <td>low_fat_diet</td>\n",
       "    </tr>\n",
       "    <tr>\n",
       "      <th>0</th>\n",
       "      <td>obesity diabeties hypertension goitre</td>\n",
       "      <td>alkaline_diet low_fat_diet ketogenic_diet low...</td>\n",
       "      <td></td>\n",
       "      <td>ketogenic_diet</td>\n",
       "    </tr>\n",
       "    <tr>\n",
       "      <th>0</th>\n",
       "      <td>obesity diabeties hypertension goitre</td>\n",
       "      <td>alkaline_diet low_fat_diet ketogenic_diet low...</td>\n",
       "      <td></td>\n",
       "      <td>low_sodium_diet</td>\n",
       "    </tr>\n",
       "    <tr>\n",
       "      <th>0</th>\n",
       "      <td>obesity diabeties hypertension goitre</td>\n",
       "      <td>alkaline_diet low_fat_diet ketogenic_diet low...</td>\n",
       "      <td></td>\n",
       "      <td>high_fiber_diet</td>\n",
       "    </tr>\n",
       "  </tbody>\n",
       "</table>\n",
       "</div>"
      ],
      "text/plain": [
       "                                  Disease  \\\n",
       "0   obesity diabeties hypertension goitre   \n",
       "0   obesity diabeties hypertension goitre   \n",
       "0   obesity diabeties hypertension goitre   \n",
       "0   obesity diabeties hypertension goitre   \n",
       "0   obesity diabeties hypertension goitre   \n",
       "\n",
       "                                                Diet disease_list  \\\n",
       "0   alkaline_diet low_fat_diet ketogenic_diet low...                \n",
       "0   alkaline_diet low_fat_diet ketogenic_diet low...                \n",
       "0   alkaline_diet low_fat_diet ketogenic_diet low...                \n",
       "0   alkaline_diet low_fat_diet ketogenic_diet low...                \n",
       "0   alkaline_diet low_fat_diet ketogenic_diet low...                \n",
       "\n",
       "         diet_list  \n",
       "0    alkaline_diet  \n",
       "0     low_fat_diet  \n",
       "0   ketogenic_diet  \n",
       "0  low_sodium_diet  \n",
       "0  high_fiber_diet  "
      ]
     },
     "execution_count": 151,
     "metadata": {},
     "output_type": "execute_result"
    }
   ],
   "source": [
    "df_new.head()"
   ]
  },
  {
   "cell_type": "code",
   "execution_count": 152,
   "id": "638c8554-9696-496f-af2c-9b3f2a8945d0",
   "metadata": {},
   "outputs": [
    {
     "data": {
      "text/plain": [
       "15976"
      ]
     },
     "execution_count": 152,
     "metadata": {},
     "output_type": "execute_result"
    }
   ],
   "source": [
    "len(df_new)"
   ]
  },
  {
   "cell_type": "code",
   "execution_count": 153,
   "id": "4f93f118-d4b7-424b-b5a3-d767346a4ad6",
   "metadata": {},
   "outputs": [
    {
     "data": {
      "text/plain": [
       "0       True\n",
       "0       True\n",
       "0       True\n",
       "0       True\n",
       "0       True\n",
       "       ...  \n",
       "511    False\n",
       "511    False\n",
       "511    False\n",
       "511    False\n",
       "511    False\n",
       "Name: disease_list, Length: 15976, dtype: bool"
      ]
     },
     "execution_count": 153,
     "metadata": {},
     "output_type": "execute_result"
    }
   ],
   "source": [
    "condtions = df_new['disease_list'] == ''\n",
    "condtions"
   ]
  },
  {
   "cell_type": "code",
   "execution_count": 154,
   "id": "0b6151ba-f198-41e2-a26c-3afd53934da6",
   "metadata": {},
   "outputs": [],
   "source": [
    "df_org = df_new[~condtions]"
   ]
  },
  {
   "cell_type": "code",
   "execution_count": 155,
   "id": "cd0cd5f7-ba97-47bf-b106-b918ff5c067c",
   "metadata": {},
   "outputs": [
    {
     "data": {
      "text/html": [
       "<div>\n",
       "<style scoped>\n",
       "    .dataframe tbody tr th:only-of-type {\n",
       "        vertical-align: middle;\n",
       "    }\n",
       "\n",
       "    .dataframe tbody tr th {\n",
       "        vertical-align: top;\n",
       "    }\n",
       "\n",
       "    .dataframe thead th {\n",
       "        text-align: right;\n",
       "    }\n",
       "</style>\n",
       "<table border=\"1\" class=\"dataframe\">\n",
       "  <thead>\n",
       "    <tr style=\"text-align: right;\">\n",
       "      <th></th>\n",
       "      <th>Disease</th>\n",
       "      <th>Diet</th>\n",
       "      <th>disease_list</th>\n",
       "      <th>diet_list</th>\n",
       "    </tr>\n",
       "  </thead>\n",
       "  <tbody>\n",
       "    <tr>\n",
       "      <th>0</th>\n",
       "      <td>obesity diabeties hypertension goitre</td>\n",
       "      <td>alkaline_diet low_fat_diet ketogenic_diet low...</td>\n",
       "      <td>obesity</td>\n",
       "      <td>alkaline_diet</td>\n",
       "    </tr>\n",
       "    <tr>\n",
       "      <th>0</th>\n",
       "      <td>obesity diabeties hypertension goitre</td>\n",
       "      <td>alkaline_diet low_fat_diet ketogenic_diet low...</td>\n",
       "      <td>obesity</td>\n",
       "      <td>low_fat_diet</td>\n",
       "    </tr>\n",
       "    <tr>\n",
       "      <th>0</th>\n",
       "      <td>obesity diabeties hypertension goitre</td>\n",
       "      <td>alkaline_diet low_fat_diet ketogenic_diet low...</td>\n",
       "      <td>obesity</td>\n",
       "      <td>ketogenic_diet</td>\n",
       "    </tr>\n",
       "    <tr>\n",
       "      <th>0</th>\n",
       "      <td>obesity diabeties hypertension goitre</td>\n",
       "      <td>alkaline_diet low_fat_diet ketogenic_diet low...</td>\n",
       "      <td>obesity</td>\n",
       "      <td>low_sodium_diet</td>\n",
       "    </tr>\n",
       "    <tr>\n",
       "      <th>0</th>\n",
       "      <td>obesity diabeties hypertension goitre</td>\n",
       "      <td>alkaline_diet low_fat_diet ketogenic_diet low...</td>\n",
       "      <td>obesity</td>\n",
       "      <td>high_fiber_diet</td>\n",
       "    </tr>\n",
       "    <tr>\n",
       "      <th>...</th>\n",
       "      <td>...</td>\n",
       "      <td>...</td>\n",
       "      <td>...</td>\n",
       "      <td>...</td>\n",
       "    </tr>\n",
       "    <tr>\n",
       "      <th>511</th>\n",
       "      <td>obesity diabeties anemia</td>\n",
       "      <td>high_protien_diet vegan_diet dash_diet ketoge...</td>\n",
       "      <td>diabeties</td>\n",
       "      <td>ketogenic_diet</td>\n",
       "    </tr>\n",
       "    <tr>\n",
       "      <th>511</th>\n",
       "      <td>obesity diabeties anemia</td>\n",
       "      <td>high_protien_diet vegan_diet dash_diet ketoge...</td>\n",
       "      <td>anemia</td>\n",
       "      <td>high_protien_diet</td>\n",
       "    </tr>\n",
       "    <tr>\n",
       "      <th>511</th>\n",
       "      <td>obesity diabeties anemia</td>\n",
       "      <td>high_protien_diet vegan_diet dash_diet ketoge...</td>\n",
       "      <td>anemia</td>\n",
       "      <td>vegan_diet</td>\n",
       "    </tr>\n",
       "    <tr>\n",
       "      <th>511</th>\n",
       "      <td>obesity diabeties anemia</td>\n",
       "      <td>high_protien_diet vegan_diet dash_diet ketoge...</td>\n",
       "      <td>anemia</td>\n",
       "      <td>dash_diet</td>\n",
       "    </tr>\n",
       "    <tr>\n",
       "      <th>511</th>\n",
       "      <td>obesity diabeties anemia</td>\n",
       "      <td>high_protien_diet vegan_diet dash_diet ketoge...</td>\n",
       "      <td>anemia</td>\n",
       "      <td>ketogenic_diet</td>\n",
       "    </tr>\n",
       "  </tbody>\n",
       "</table>\n",
       "<p>13255 rows × 4 columns</p>\n",
       "</div>"
      ],
      "text/plain": [
       "                                    Disease  \\\n",
       "0     obesity diabeties hypertension goitre   \n",
       "0     obesity diabeties hypertension goitre   \n",
       "0     obesity diabeties hypertension goitre   \n",
       "0     obesity diabeties hypertension goitre   \n",
       "0     obesity diabeties hypertension goitre   \n",
       "..                                      ...   \n",
       "511                obesity diabeties anemia   \n",
       "511                obesity diabeties anemia   \n",
       "511                obesity diabeties anemia   \n",
       "511                obesity diabeties anemia   \n",
       "511                obesity diabeties anemia   \n",
       "\n",
       "                                                  Diet disease_list  \\\n",
       "0     alkaline_diet low_fat_diet ketogenic_diet low...      obesity   \n",
       "0     alkaline_diet low_fat_diet ketogenic_diet low...      obesity   \n",
       "0     alkaline_diet low_fat_diet ketogenic_diet low...      obesity   \n",
       "0     alkaline_diet low_fat_diet ketogenic_diet low...      obesity   \n",
       "0     alkaline_diet low_fat_diet ketogenic_diet low...      obesity   \n",
       "..                                                 ...          ...   \n",
       "511   high_protien_diet vegan_diet dash_diet ketoge...    diabeties   \n",
       "511   high_protien_diet vegan_diet dash_diet ketoge...       anemia   \n",
       "511   high_protien_diet vegan_diet dash_diet ketoge...       anemia   \n",
       "511   high_protien_diet vegan_diet dash_diet ketoge...       anemia   \n",
       "511   high_protien_diet vegan_diet dash_diet ketoge...       anemia   \n",
       "\n",
       "             diet_list  \n",
       "0        alkaline_diet  \n",
       "0         low_fat_diet  \n",
       "0       ketogenic_diet  \n",
       "0      low_sodium_diet  \n",
       "0      high_fiber_diet  \n",
       "..                 ...  \n",
       "511     ketogenic_diet  \n",
       "511  high_protien_diet  \n",
       "511         vegan_diet  \n",
       "511          dash_diet  \n",
       "511     ketogenic_diet  \n",
       "\n",
       "[13255 rows x 4 columns]"
      ]
     },
     "execution_count": 155,
     "metadata": {},
     "output_type": "execute_result"
    }
   ],
   "source": [
    "df_org"
   ]
  },
  {
   "cell_type": "code",
   "execution_count": 156,
   "id": "27e2e6da-1a77-4647-a991-d334c0f35111",
   "metadata": {},
   "outputs": [],
   "source": [
    "df = df_org.copy()"
   ]
  },
  {
   "cell_type": "code",
   "execution_count": 157,
   "id": "9ccb31e8-f64d-4d0a-a244-9454639082fe",
   "metadata": {},
   "outputs": [
    {
     "data": {
      "text/html": [
       "<div>\n",
       "<style scoped>\n",
       "    .dataframe tbody tr th:only-of-type {\n",
       "        vertical-align: middle;\n",
       "    }\n",
       "\n",
       "    .dataframe tbody tr th {\n",
       "        vertical-align: top;\n",
       "    }\n",
       "\n",
       "    .dataframe thead th {\n",
       "        text-align: right;\n",
       "    }\n",
       "</style>\n",
       "<table border=\"1\" class=\"dataframe\">\n",
       "  <thead>\n",
       "    <tr style=\"text-align: right;\">\n",
       "      <th></th>\n",
       "      <th>Disease</th>\n",
       "      <th>Diet</th>\n",
       "      <th>disease_list</th>\n",
       "      <th>diet_list</th>\n",
       "    </tr>\n",
       "  </thead>\n",
       "  <tbody>\n",
       "    <tr>\n",
       "      <th>0</th>\n",
       "      <td>obesity diabeties hypertension goitre</td>\n",
       "      <td>alkaline_diet low_fat_diet ketogenic_diet low...</td>\n",
       "      <td>obesity</td>\n",
       "      <td>alkaline_diet</td>\n",
       "    </tr>\n",
       "    <tr>\n",
       "      <th>0</th>\n",
       "      <td>obesity diabeties hypertension goitre</td>\n",
       "      <td>alkaline_diet low_fat_diet ketogenic_diet low...</td>\n",
       "      <td>obesity</td>\n",
       "      <td>low_fat_diet</td>\n",
       "    </tr>\n",
       "    <tr>\n",
       "      <th>0</th>\n",
       "      <td>obesity diabeties hypertension goitre</td>\n",
       "      <td>alkaline_diet low_fat_diet ketogenic_diet low...</td>\n",
       "      <td>obesity</td>\n",
       "      <td>ketogenic_diet</td>\n",
       "    </tr>\n",
       "    <tr>\n",
       "      <th>0</th>\n",
       "      <td>obesity diabeties hypertension goitre</td>\n",
       "      <td>alkaline_diet low_fat_diet ketogenic_diet low...</td>\n",
       "      <td>obesity</td>\n",
       "      <td>low_sodium_diet</td>\n",
       "    </tr>\n",
       "    <tr>\n",
       "      <th>0</th>\n",
       "      <td>obesity diabeties hypertension goitre</td>\n",
       "      <td>alkaline_diet low_fat_diet ketogenic_diet low...</td>\n",
       "      <td>obesity</td>\n",
       "      <td>high_fiber_diet</td>\n",
       "    </tr>\n",
       "    <tr>\n",
       "      <th>...</th>\n",
       "      <td>...</td>\n",
       "      <td>...</td>\n",
       "      <td>...</td>\n",
       "      <td>...</td>\n",
       "    </tr>\n",
       "    <tr>\n",
       "      <th>511</th>\n",
       "      <td>obesity diabeties anemia</td>\n",
       "      <td>high_protien_diet vegan_diet dash_diet ketoge...</td>\n",
       "      <td>diabeties</td>\n",
       "      <td>ketogenic_diet</td>\n",
       "    </tr>\n",
       "    <tr>\n",
       "      <th>511</th>\n",
       "      <td>obesity diabeties anemia</td>\n",
       "      <td>high_protien_diet vegan_diet dash_diet ketoge...</td>\n",
       "      <td>anemia</td>\n",
       "      <td>high_protien_diet</td>\n",
       "    </tr>\n",
       "    <tr>\n",
       "      <th>511</th>\n",
       "      <td>obesity diabeties anemia</td>\n",
       "      <td>high_protien_diet vegan_diet dash_diet ketoge...</td>\n",
       "      <td>anemia</td>\n",
       "      <td>vegan_diet</td>\n",
       "    </tr>\n",
       "    <tr>\n",
       "      <th>511</th>\n",
       "      <td>obesity diabeties anemia</td>\n",
       "      <td>high_protien_diet vegan_diet dash_diet ketoge...</td>\n",
       "      <td>anemia</td>\n",
       "      <td>dash_diet</td>\n",
       "    </tr>\n",
       "    <tr>\n",
       "      <th>511</th>\n",
       "      <td>obesity diabeties anemia</td>\n",
       "      <td>high_protien_diet vegan_diet dash_diet ketoge...</td>\n",
       "      <td>anemia</td>\n",
       "      <td>ketogenic_diet</td>\n",
       "    </tr>\n",
       "  </tbody>\n",
       "</table>\n",
       "<p>13255 rows × 4 columns</p>\n",
       "</div>"
      ],
      "text/plain": [
       "                                    Disease  \\\n",
       "0     obesity diabeties hypertension goitre   \n",
       "0     obesity diabeties hypertension goitre   \n",
       "0     obesity diabeties hypertension goitre   \n",
       "0     obesity diabeties hypertension goitre   \n",
       "0     obesity diabeties hypertension goitre   \n",
       "..                                      ...   \n",
       "511                obesity diabeties anemia   \n",
       "511                obesity diabeties anemia   \n",
       "511                obesity diabeties anemia   \n",
       "511                obesity diabeties anemia   \n",
       "511                obesity diabeties anemia   \n",
       "\n",
       "                                                  Diet disease_list  \\\n",
       "0     alkaline_diet low_fat_diet ketogenic_diet low...      obesity   \n",
       "0     alkaline_diet low_fat_diet ketogenic_diet low...      obesity   \n",
       "0     alkaline_diet low_fat_diet ketogenic_diet low...      obesity   \n",
       "0     alkaline_diet low_fat_diet ketogenic_diet low...      obesity   \n",
       "0     alkaline_diet low_fat_diet ketogenic_diet low...      obesity   \n",
       "..                                                 ...          ...   \n",
       "511   high_protien_diet vegan_diet dash_diet ketoge...    diabeties   \n",
       "511   high_protien_diet vegan_diet dash_diet ketoge...       anemia   \n",
       "511   high_protien_diet vegan_diet dash_diet ketoge...       anemia   \n",
       "511   high_protien_diet vegan_diet dash_diet ketoge...       anemia   \n",
       "511   high_protien_diet vegan_diet dash_diet ketoge...       anemia   \n",
       "\n",
       "             diet_list  \n",
       "0        alkaline_diet  \n",
       "0         low_fat_diet  \n",
       "0       ketogenic_diet  \n",
       "0      low_sodium_diet  \n",
       "0      high_fiber_diet  \n",
       "..                 ...  \n",
       "511     ketogenic_diet  \n",
       "511  high_protien_diet  \n",
       "511         vegan_diet  \n",
       "511          dash_diet  \n",
       "511     ketogenic_diet  \n",
       "\n",
       "[13255 rows x 4 columns]"
      ]
     },
     "execution_count": 157,
     "metadata": {},
     "output_type": "execute_result"
    }
   ],
   "source": [
    "df"
   ]
  },
  {
   "cell_type": "code",
   "execution_count": 158,
   "id": "b096e760-9498-4ef8-a00f-a9e05dd4e3d2",
   "metadata": {},
   "outputs": [],
   "source": [
    "df.drop(['Disease','Diet'],inplace=True,axis=1)"
   ]
  },
  {
   "cell_type": "code",
   "execution_count": 159,
   "id": "c170c2b9-9097-4018-bce1-78e26091c94b",
   "metadata": {},
   "outputs": [
    {
     "data": {
      "text/html": [
       "<div>\n",
       "<style scoped>\n",
       "    .dataframe tbody tr th:only-of-type {\n",
       "        vertical-align: middle;\n",
       "    }\n",
       "\n",
       "    .dataframe tbody tr th {\n",
       "        vertical-align: top;\n",
       "    }\n",
       "\n",
       "    .dataframe thead th {\n",
       "        text-align: right;\n",
       "    }\n",
       "</style>\n",
       "<table border=\"1\" class=\"dataframe\">\n",
       "  <thead>\n",
       "    <tr style=\"text-align: right;\">\n",
       "      <th></th>\n",
       "      <th>disease_list</th>\n",
       "      <th>diet_list</th>\n",
       "    </tr>\n",
       "  </thead>\n",
       "  <tbody>\n",
       "    <tr>\n",
       "      <th>0</th>\n",
       "      <td>obesity</td>\n",
       "      <td>alkaline_diet</td>\n",
       "    </tr>\n",
       "    <tr>\n",
       "      <th>0</th>\n",
       "      <td>obesity</td>\n",
       "      <td>low_fat_diet</td>\n",
       "    </tr>\n",
       "    <tr>\n",
       "      <th>0</th>\n",
       "      <td>obesity</td>\n",
       "      <td>ketogenic_diet</td>\n",
       "    </tr>\n",
       "    <tr>\n",
       "      <th>0</th>\n",
       "      <td>obesity</td>\n",
       "      <td>low_sodium_diet</td>\n",
       "    </tr>\n",
       "    <tr>\n",
       "      <th>0</th>\n",
       "      <td>obesity</td>\n",
       "      <td>high_fiber_diet</td>\n",
       "    </tr>\n",
       "    <tr>\n",
       "      <th>...</th>\n",
       "      <td>...</td>\n",
       "      <td>...</td>\n",
       "    </tr>\n",
       "    <tr>\n",
       "      <th>511</th>\n",
       "      <td>diabeties</td>\n",
       "      <td>ketogenic_diet</td>\n",
       "    </tr>\n",
       "    <tr>\n",
       "      <th>511</th>\n",
       "      <td>anemia</td>\n",
       "      <td>high_protien_diet</td>\n",
       "    </tr>\n",
       "    <tr>\n",
       "      <th>511</th>\n",
       "      <td>anemia</td>\n",
       "      <td>vegan_diet</td>\n",
       "    </tr>\n",
       "    <tr>\n",
       "      <th>511</th>\n",
       "      <td>anemia</td>\n",
       "      <td>dash_diet</td>\n",
       "    </tr>\n",
       "    <tr>\n",
       "      <th>511</th>\n",
       "      <td>anemia</td>\n",
       "      <td>ketogenic_diet</td>\n",
       "    </tr>\n",
       "  </tbody>\n",
       "</table>\n",
       "<p>13255 rows × 2 columns</p>\n",
       "</div>"
      ],
      "text/plain": [
       "    disease_list          diet_list\n",
       "0        obesity      alkaline_diet\n",
       "0        obesity       low_fat_diet\n",
       "0        obesity     ketogenic_diet\n",
       "0        obesity    low_sodium_diet\n",
       "0        obesity    high_fiber_diet\n",
       "..           ...                ...\n",
       "511    diabeties     ketogenic_diet\n",
       "511       anemia  high_protien_diet\n",
       "511       anemia         vegan_diet\n",
       "511       anemia          dash_diet\n",
       "511       anemia     ketogenic_diet\n",
       "\n",
       "[13255 rows x 2 columns]"
      ]
     },
     "execution_count": 159,
     "metadata": {},
     "output_type": "execute_result"
    }
   ],
   "source": [
    "df"
   ]
  },
  {
   "cell_type": "code",
   "execution_count": 160,
   "id": "d4381b6a-243c-4bab-8ed6-a6c433fe502a",
   "metadata": {},
   "outputs": [],
   "source": [
    "df = df.drop_duplicates(subset=['disease_list','diet_list'])"
   ]
  },
  {
   "cell_type": "code",
   "execution_count": 161,
   "id": "4fd42cb7-b925-4384-b1b2-a536a90b6ad8",
   "metadata": {},
   "outputs": [
    {
     "data": {
      "text/plain": [
       "185"
      ]
     },
     "execution_count": 161,
     "metadata": {},
     "output_type": "execute_result"
    }
   ],
   "source": [
    "len(df)"
   ]
  },
  {
   "cell_type": "code",
   "execution_count": 162,
   "id": "6e4d88e4-ee1c-4f9f-a8ea-64c9cb0633b8",
   "metadata": {},
   "outputs": [
    {
     "data": {
      "text/plain": [
       "array(['alkaline_diet', 'low_fat_diet', 'ketogenic_diet',\n",
       "       'low_sodium_diet', 'high_fiber_diet', 'high_protien_diet',\n",
       "       'dash_diet', 'low_carb_diet', 'vegan_diet', 'hormone_diet',\n",
       "       'type_a_diet', 'paleo_diet', 'Mediterranean_diet',\n",
       "       'gluten_free_diet', 'omni_diet', 'type_o_diet'], dtype=object)"
      ]
     },
     "execution_count": 162,
     "metadata": {},
     "output_type": "execute_result"
    }
   ],
   "source": [
    "df.diet_list.unique()"
   ]
  },
  {
   "cell_type": "code",
   "execution_count": 163,
   "id": "4ae750ac-6896-43e6-9c74-6b5a9614a30a",
   "metadata": {},
   "outputs": [],
   "source": [
    "encoder = LabelEncoder()\n",
    "scaler = MinMaxScaler()"
   ]
  },
  {
   "cell_type": "code",
   "execution_count": 164,
   "id": "2045d1e3-a234-4d90-94f4-614a0a9a62f5",
   "metadata": {},
   "outputs": [
    {
     "data": {
      "text/html": [
       "<style>#sk-container-id-8 {color: black;}#sk-container-id-8 pre{padding: 0;}#sk-container-id-8 div.sk-toggleable {background-color: white;}#sk-container-id-8 label.sk-toggleable__label {cursor: pointer;display: block;width: 100%;margin-bottom: 0;padding: 0.3em;box-sizing: border-box;text-align: center;}#sk-container-id-8 label.sk-toggleable__label-arrow:before {content: \"▸\";float: left;margin-right: 0.25em;color: #696969;}#sk-container-id-8 label.sk-toggleable__label-arrow:hover:before {color: black;}#sk-container-id-8 div.sk-estimator:hover label.sk-toggleable__label-arrow:before {color: black;}#sk-container-id-8 div.sk-toggleable__content {max-height: 0;max-width: 0;overflow: hidden;text-align: left;background-color: #f0f8ff;}#sk-container-id-8 div.sk-toggleable__content pre {margin: 0.2em;color: black;border-radius: 0.25em;background-color: #f0f8ff;}#sk-container-id-8 input.sk-toggleable__control:checked~div.sk-toggleable__content {max-height: 200px;max-width: 100%;overflow: auto;}#sk-container-id-8 input.sk-toggleable__control:checked~label.sk-toggleable__label-arrow:before {content: \"▾\";}#sk-container-id-8 div.sk-estimator input.sk-toggleable__control:checked~label.sk-toggleable__label {background-color: #d4ebff;}#sk-container-id-8 div.sk-label input.sk-toggleable__control:checked~label.sk-toggleable__label {background-color: #d4ebff;}#sk-container-id-8 input.sk-hidden--visually {border: 0;clip: rect(1px 1px 1px 1px);clip: rect(1px, 1px, 1px, 1px);height: 1px;margin: -1px;overflow: hidden;padding: 0;position: absolute;width: 1px;}#sk-container-id-8 div.sk-estimator {font-family: monospace;background-color: #f0f8ff;border: 1px dotted black;border-radius: 0.25em;box-sizing: border-box;margin-bottom: 0.5em;}#sk-container-id-8 div.sk-estimator:hover {background-color: #d4ebff;}#sk-container-id-8 div.sk-parallel-item::after {content: \"\";width: 100%;border-bottom: 1px solid gray;flex-grow: 1;}#sk-container-id-8 div.sk-label:hover label.sk-toggleable__label {background-color: #d4ebff;}#sk-container-id-8 div.sk-serial::before {content: \"\";position: absolute;border-left: 1px solid gray;box-sizing: border-box;top: 0;bottom: 0;left: 50%;z-index: 0;}#sk-container-id-8 div.sk-serial {display: flex;flex-direction: column;align-items: center;background-color: white;padding-right: 0.2em;padding-left: 0.2em;position: relative;}#sk-container-id-8 div.sk-item {position: relative;z-index: 1;}#sk-container-id-8 div.sk-parallel {display: flex;align-items: stretch;justify-content: center;background-color: white;position: relative;}#sk-container-id-8 div.sk-item::before, #sk-container-id-8 div.sk-parallel-item::before {content: \"\";position: absolute;border-left: 1px solid gray;box-sizing: border-box;top: 0;bottom: 0;left: 50%;z-index: -1;}#sk-container-id-8 div.sk-parallel-item {display: flex;flex-direction: column;z-index: 1;position: relative;background-color: white;}#sk-container-id-8 div.sk-parallel-item:first-child::after {align-self: flex-end;width: 50%;}#sk-container-id-8 div.sk-parallel-item:last-child::after {align-self: flex-start;width: 50%;}#sk-container-id-8 div.sk-parallel-item:only-child::after {width: 0;}#sk-container-id-8 div.sk-dashed-wrapped {border: 1px dashed gray;margin: 0 0.4em 0.5em 0.4em;box-sizing: border-box;padding-bottom: 0.4em;background-color: white;}#sk-container-id-8 div.sk-label label {font-family: monospace;font-weight: bold;display: inline-block;line-height: 1.2em;}#sk-container-id-8 div.sk-label-container {text-align: center;}#sk-container-id-8 div.sk-container {/* jupyter's `normalize.less` sets `[hidden] { display: none; }` but bootstrap.min.css set `[hidden] { display: none !important; }` so we also need the `!important` here to be able to override the default hidden behavior on the sphinx rendered scikit-learn.org. See: https://github.com/scikit-learn/scikit-learn/issues/21755 */display: inline-block !important;position: relative;}#sk-container-id-8 div.sk-text-repr-fallback {display: none;}</style><div id=\"sk-container-id-8\" class=\"sk-top-container\"><div class=\"sk-text-repr-fallback\"><pre>LabelEncoder()</pre><b>In a Jupyter environment, please rerun this cell to show the HTML representation or trust the notebook. <br />On GitHub, the HTML representation is unable to render, please try loading this page with nbviewer.org.</b></div><div class=\"sk-container\" hidden><div class=\"sk-item\"><div class=\"sk-estimator sk-toggleable\"><input class=\"sk-toggleable__control sk-hidden--visually\" id=\"sk-estimator-id-8\" type=\"checkbox\" checked><label for=\"sk-estimator-id-8\" class=\"sk-toggleable__label sk-toggleable__label-arrow\">LabelEncoder</label><div class=\"sk-toggleable__content\"><pre>LabelEncoder()</pre></div></div></div></div></div>"
      ],
      "text/plain": [
       "LabelEncoder()"
      ]
     },
     "execution_count": 164,
     "metadata": {},
     "output_type": "execute_result"
    }
   ],
   "source": [
    "encoder.fit(df['disease_list'])"
   ]
  },
  {
   "cell_type": "code",
   "execution_count": 165,
   "id": "279cab08-527d-4d8c-b186-1937d33d2802",
   "metadata": {},
   "outputs": [],
   "source": [
    "X_value = encoder.transform(df['disease_list'])"
   ]
  },
  {
   "cell_type": "code",
   "execution_count": 166,
   "id": "e169142c-0512-4764-a678-040dcfbc612a",
   "metadata": {},
   "outputs": [],
   "source": [
    "len(X_value)\n",
    "X_value = X_value.reshape(185,1)"
   ]
  },
  {
   "cell_type": "code",
   "execution_count": 167,
   "id": "1c5d54e3-2cf5-4227-985e-0d72647e65a6",
   "metadata": {},
   "outputs": [],
   "source": [
    "X = scaler.fit_transform(X_value)"
   ]
  },
  {
   "cell_type": "code",
   "execution_count": 168,
   "id": "8ddd5119-2857-46e1-81b3-ebc7a83de6c8",
   "metadata": {},
   "outputs": [],
   "source": [
    "encoder2 = LabelEncoder()"
   ]
  },
  {
   "cell_type": "code",
   "execution_count": 169,
   "id": "7ec42360-9494-4614-a56f-46af49706f45",
   "metadata": {},
   "outputs": [
    {
     "data": {
      "text/html": [
       "<style>#sk-container-id-9 {color: black;}#sk-container-id-9 pre{padding: 0;}#sk-container-id-9 div.sk-toggleable {background-color: white;}#sk-container-id-9 label.sk-toggleable__label {cursor: pointer;display: block;width: 100%;margin-bottom: 0;padding: 0.3em;box-sizing: border-box;text-align: center;}#sk-container-id-9 label.sk-toggleable__label-arrow:before {content: \"▸\";float: left;margin-right: 0.25em;color: #696969;}#sk-container-id-9 label.sk-toggleable__label-arrow:hover:before {color: black;}#sk-container-id-9 div.sk-estimator:hover label.sk-toggleable__label-arrow:before {color: black;}#sk-container-id-9 div.sk-toggleable__content {max-height: 0;max-width: 0;overflow: hidden;text-align: left;background-color: #f0f8ff;}#sk-container-id-9 div.sk-toggleable__content pre {margin: 0.2em;color: black;border-radius: 0.25em;background-color: #f0f8ff;}#sk-container-id-9 input.sk-toggleable__control:checked~div.sk-toggleable__content {max-height: 200px;max-width: 100%;overflow: auto;}#sk-container-id-9 input.sk-toggleable__control:checked~label.sk-toggleable__label-arrow:before {content: \"▾\";}#sk-container-id-9 div.sk-estimator input.sk-toggleable__control:checked~label.sk-toggleable__label {background-color: #d4ebff;}#sk-container-id-9 div.sk-label input.sk-toggleable__control:checked~label.sk-toggleable__label {background-color: #d4ebff;}#sk-container-id-9 input.sk-hidden--visually {border: 0;clip: rect(1px 1px 1px 1px);clip: rect(1px, 1px, 1px, 1px);height: 1px;margin: -1px;overflow: hidden;padding: 0;position: absolute;width: 1px;}#sk-container-id-9 div.sk-estimator {font-family: monospace;background-color: #f0f8ff;border: 1px dotted black;border-radius: 0.25em;box-sizing: border-box;margin-bottom: 0.5em;}#sk-container-id-9 div.sk-estimator:hover {background-color: #d4ebff;}#sk-container-id-9 div.sk-parallel-item::after {content: \"\";width: 100%;border-bottom: 1px solid gray;flex-grow: 1;}#sk-container-id-9 div.sk-label:hover label.sk-toggleable__label {background-color: #d4ebff;}#sk-container-id-9 div.sk-serial::before {content: \"\";position: absolute;border-left: 1px solid gray;box-sizing: border-box;top: 0;bottom: 0;left: 50%;z-index: 0;}#sk-container-id-9 div.sk-serial {display: flex;flex-direction: column;align-items: center;background-color: white;padding-right: 0.2em;padding-left: 0.2em;position: relative;}#sk-container-id-9 div.sk-item {position: relative;z-index: 1;}#sk-container-id-9 div.sk-parallel {display: flex;align-items: stretch;justify-content: center;background-color: white;position: relative;}#sk-container-id-9 div.sk-item::before, #sk-container-id-9 div.sk-parallel-item::before {content: \"\";position: absolute;border-left: 1px solid gray;box-sizing: border-box;top: 0;bottom: 0;left: 50%;z-index: -1;}#sk-container-id-9 div.sk-parallel-item {display: flex;flex-direction: column;z-index: 1;position: relative;background-color: white;}#sk-container-id-9 div.sk-parallel-item:first-child::after {align-self: flex-end;width: 50%;}#sk-container-id-9 div.sk-parallel-item:last-child::after {align-self: flex-start;width: 50%;}#sk-container-id-9 div.sk-parallel-item:only-child::after {width: 0;}#sk-container-id-9 div.sk-dashed-wrapped {border: 1px dashed gray;margin: 0 0.4em 0.5em 0.4em;box-sizing: border-box;padding-bottom: 0.4em;background-color: white;}#sk-container-id-9 div.sk-label label {font-family: monospace;font-weight: bold;display: inline-block;line-height: 1.2em;}#sk-container-id-9 div.sk-label-container {text-align: center;}#sk-container-id-9 div.sk-container {/* jupyter's `normalize.less` sets `[hidden] { display: none; }` but bootstrap.min.css set `[hidden] { display: none !important; }` so we also need the `!important` here to be able to override the default hidden behavior on the sphinx rendered scikit-learn.org. See: https://github.com/scikit-learn/scikit-learn/issues/21755 */display: inline-block !important;position: relative;}#sk-container-id-9 div.sk-text-repr-fallback {display: none;}</style><div id=\"sk-container-id-9\" class=\"sk-top-container\"><div class=\"sk-text-repr-fallback\"><pre>LabelEncoder()</pre><b>In a Jupyter environment, please rerun this cell to show the HTML representation or trust the notebook. <br />On GitHub, the HTML representation is unable to render, please try loading this page with nbviewer.org.</b></div><div class=\"sk-container\" hidden><div class=\"sk-item\"><div class=\"sk-estimator sk-toggleable\"><input class=\"sk-toggleable__control sk-hidden--visually\" id=\"sk-estimator-id-9\" type=\"checkbox\" checked><label for=\"sk-estimator-id-9\" class=\"sk-toggleable__label sk-toggleable__label-arrow\">LabelEncoder</label><div class=\"sk-toggleable__content\"><pre>LabelEncoder()</pre></div></div></div></div></div>"
      ],
      "text/plain": [
       "LabelEncoder()"
      ]
     },
     "execution_count": 169,
     "metadata": {},
     "output_type": "execute_result"
    }
   ],
   "source": [
    "encoder2.fit(df['diet_list'])"
   ]
  },
  {
   "cell_type": "code",
   "execution_count": 170,
   "id": "54107fa2-4ef8-4f8f-8127-82656c7eda96",
   "metadata": {},
   "outputs": [],
   "source": [
    "y_value = encoder2.transform(df['diet_list'])"
   ]
  },
  {
   "cell_type": "code",
   "execution_count": 171,
   "id": "0aaabf92-8f62-4b20-9ade-89c6bae74eb9",
   "metadata": {},
   "outputs": [],
   "source": [
    "y = y_value.reshape(185,1)"
   ]
  },
  {
   "cell_type": "code",
   "execution_count": 172,
   "id": "c89ce1cc-4eaa-41a6-8934-982c87a7f195",
   "metadata": {},
   "outputs": [
    {
     "data": {
      "text/plain": [
       "(array([[0.72727273],\n",
       "        [0.72727273],\n",
       "        [0.72727273],\n",
       "        [0.72727273],\n",
       "        [0.72727273],\n",
       "        [0.72727273],\n",
       "        [0.72727273],\n",
       "        [0.18181818],\n",
       "        [0.18181818],\n",
       "        [0.18181818],\n",
       "        [0.18181818],\n",
       "        [0.18181818],\n",
       "        [0.18181818],\n",
       "        [0.18181818],\n",
       "        [0.54545455],\n",
       "        [0.54545455],\n",
       "        [0.54545455],\n",
       "        [0.54545455],\n",
       "        [0.54545455],\n",
       "        [0.54545455],\n",
       "        [0.54545455],\n",
       "        [0.36363636],\n",
       "        [0.36363636],\n",
       "        [0.36363636],\n",
       "        [0.36363636],\n",
       "        [0.36363636],\n",
       "        [0.36363636],\n",
       "        [0.36363636],\n",
       "        [0.        ],\n",
       "        [0.        ],\n",
       "        [0.        ],\n",
       "        [0.        ],\n",
       "        [0.        ],\n",
       "        [0.        ],\n",
       "        [0.        ],\n",
       "        [0.        ],\n",
       "        [0.        ],\n",
       "        [0.81818182],\n",
       "        [0.81818182],\n",
       "        [0.81818182],\n",
       "        [0.81818182],\n",
       "        [0.81818182],\n",
       "        [0.81818182],\n",
       "        [0.81818182],\n",
       "        [0.81818182],\n",
       "        [0.81818182],\n",
       "        [0.54545455],\n",
       "        [0.54545455],\n",
       "        [0.54545455],\n",
       "        [0.54545455],\n",
       "        [0.90909091],\n",
       "        [0.90909091],\n",
       "        [0.90909091],\n",
       "        [0.90909091],\n",
       "        [0.90909091],\n",
       "        [0.90909091],\n",
       "        [0.90909091],\n",
       "        [0.90909091],\n",
       "        [0.90909091],\n",
       "        [0.36363636],\n",
       "        [0.36363636],\n",
       "        [0.36363636],\n",
       "        [0.36363636],\n",
       "        [0.63636364],\n",
       "        [0.63636364],\n",
       "        [0.63636364],\n",
       "        [0.63636364],\n",
       "        [0.63636364],\n",
       "        [0.63636364],\n",
       "        [0.63636364],\n",
       "        [0.63636364],\n",
       "        [0.63636364],\n",
       "        [0.72727273],\n",
       "        [0.72727273],\n",
       "        [0.72727273],\n",
       "        [0.72727273],\n",
       "        [0.54545455],\n",
       "        [0.54545455],\n",
       "        [1.        ],\n",
       "        [1.        ],\n",
       "        [1.        ],\n",
       "        [1.        ],\n",
       "        [1.        ],\n",
       "        [1.        ],\n",
       "        [1.        ],\n",
       "        [1.        ],\n",
       "        [0.45454545],\n",
       "        [0.45454545],\n",
       "        [0.45454545],\n",
       "        [0.45454545],\n",
       "        [0.45454545],\n",
       "        [0.45454545],\n",
       "        [0.45454545],\n",
       "        [0.45454545],\n",
       "        [0.36363636],\n",
       "        [0.36363636],\n",
       "        [0.63636364],\n",
       "        [0.63636364],\n",
       "        [0.63636364],\n",
       "        [0.63636364],\n",
       "        [0.81818182],\n",
       "        [0.81818182],\n",
       "        [0.81818182],\n",
       "        [0.81818182],\n",
       "        [0.45454545],\n",
       "        [0.72727273],\n",
       "        [0.09090909],\n",
       "        [0.09090909],\n",
       "        [0.09090909],\n",
       "        [0.09090909],\n",
       "        [0.09090909],\n",
       "        [0.09090909],\n",
       "        [0.54545455],\n",
       "        [0.81818182],\n",
       "        [1.        ],\n",
       "        [1.        ],\n",
       "        [1.        ],\n",
       "        [0.18181818],\n",
       "        [0.18181818],\n",
       "        [0.36363636],\n",
       "        [0.72727273],\n",
       "        [0.        ],\n",
       "        [0.        ],\n",
       "        [0.        ],\n",
       "        [0.09090909],\n",
       "        [0.09090909],\n",
       "        [0.09090909],\n",
       "        [0.45454545],\n",
       "        [0.45454545],\n",
       "        [0.45454545],\n",
       "        [0.63636364],\n",
       "        [0.63636364],\n",
       "        [0.72727273],\n",
       "        [0.18181818],\n",
       "        [0.        ],\n",
       "        [0.09090909],\n",
       "        [1.        ],\n",
       "        [0.45454545],\n",
       "        [0.18181818],\n",
       "        [1.        ],\n",
       "        [0.09090909],\n",
       "        [0.27272727],\n",
       "        [0.27272727],\n",
       "        [0.27272727],\n",
       "        [0.27272727],\n",
       "        [0.27272727],\n",
       "        [0.27272727],\n",
       "        [0.27272727],\n",
       "        [0.27272727],\n",
       "        [0.90909091],\n",
       "        [0.90909091],\n",
       "        [0.        ],\n",
       "        [0.81818182],\n",
       "        [0.81818182],\n",
       "        [0.09090909],\n",
       "        [0.36363636],\n",
       "        [0.36363636],\n",
       "        [0.63636364],\n",
       "        [0.72727273],\n",
       "        [0.90909091],\n",
       "        [0.09090909],\n",
       "        [0.45454545],\n",
       "        [0.18181818],\n",
       "        [0.54545455],\n",
       "        [1.        ],\n",
       "        [0.90909091],\n",
       "        [0.09090909],\n",
       "        [0.45454545],\n",
       "        [0.18181818],\n",
       "        [1.        ],\n",
       "        [0.        ],\n",
       "        [0.        ],\n",
       "        [0.90909091],\n",
       "        [0.90909091],\n",
       "        [0.27272727],\n",
       "        [0.27272727],\n",
       "        [0.90909091],\n",
       "        [0.27272727],\n",
       "        [0.72727273],\n",
       "        [0.27272727],\n",
       "        [0.27272727],\n",
       "        [0.09090909],\n",
       "        [0.09090909],\n",
       "        [0.18181818],\n",
       "        [0.18181818]]),\n",
       " array([[ 1],\n",
       "        [ 9],\n",
       "        [ 7],\n",
       "        [10],\n",
       "        [ 4],\n",
       "        [ 5],\n",
       "        [ 2],\n",
       "        [ 1],\n",
       "        [ 9],\n",
       "        [ 7],\n",
       "        [10],\n",
       "        [ 4],\n",
       "        [ 5],\n",
       "        [ 2],\n",
       "        [ 1],\n",
       "        [ 9],\n",
       "        [ 7],\n",
       "        [10],\n",
       "        [ 4],\n",
       "        [ 5],\n",
       "        [ 2],\n",
       "        [ 1],\n",
       "        [ 9],\n",
       "        [ 7],\n",
       "        [10],\n",
       "        [ 4],\n",
       "        [ 5],\n",
       "        [ 2],\n",
       "        [ 9],\n",
       "        [ 8],\n",
       "        [ 7],\n",
       "        [10],\n",
       "        [15],\n",
       "        [ 4],\n",
       "        [ 6],\n",
       "        [ 5],\n",
       "        [13],\n",
       "        [ 9],\n",
       "        [ 8],\n",
       "        [ 7],\n",
       "        [10],\n",
       "        [15],\n",
       "        [ 4],\n",
       "        [ 6],\n",
       "        [ 5],\n",
       "        [13],\n",
       "        [ 8],\n",
       "        [15],\n",
       "        [ 6],\n",
       "        [13],\n",
       "        [ 9],\n",
       "        [ 8],\n",
       "        [ 7],\n",
       "        [10],\n",
       "        [15],\n",
       "        [ 4],\n",
       "        [ 6],\n",
       "        [ 5],\n",
       "        [13],\n",
       "        [ 8],\n",
       "        [15],\n",
       "        [ 6],\n",
       "        [13],\n",
       "        [ 9],\n",
       "        [ 8],\n",
       "        [ 7],\n",
       "        [10],\n",
       "        [15],\n",
       "        [ 4],\n",
       "        [ 6],\n",
       "        [ 5],\n",
       "        [13],\n",
       "        [ 8],\n",
       "        [15],\n",
       "        [ 6],\n",
       "        [13],\n",
       "        [12],\n",
       "        [ 0],\n",
       "        [ 1],\n",
       "        [ 9],\n",
       "        [12],\n",
       "        [ 0],\n",
       "        [10],\n",
       "        [ 4],\n",
       "        [ 5],\n",
       "        [ 2],\n",
       "        [ 1],\n",
       "        [ 9],\n",
       "        [12],\n",
       "        [ 0],\n",
       "        [10],\n",
       "        [ 4],\n",
       "        [ 5],\n",
       "        [ 2],\n",
       "        [12],\n",
       "        [ 0],\n",
       "        [ 1],\n",
       "        [12],\n",
       "        [ 0],\n",
       "        [ 2],\n",
       "        [ 1],\n",
       "        [12],\n",
       "        [ 0],\n",
       "        [ 2],\n",
       "        [ 7],\n",
       "        [ 3],\n",
       "        [ 1],\n",
       "        [ 9],\n",
       "        [ 7],\n",
       "        [ 3],\n",
       "        [15],\n",
       "        [ 5],\n",
       "        [ 3],\n",
       "        [ 3],\n",
       "        [ 7],\n",
       "        [ 3],\n",
       "        [15],\n",
       "        [ 3],\n",
       "        [15],\n",
       "        [ 3],\n",
       "        [12],\n",
       "        [ 1],\n",
       "        [11],\n",
       "        [ 3],\n",
       "        [11],\n",
       "        [10],\n",
       "        [ 4],\n",
       "        [11],\n",
       "        [15],\n",
       "        [ 3],\n",
       "        [11],\n",
       "        [ 3],\n",
       "        [11],\n",
       "        [11],\n",
       "        [ 2],\n",
       "        [ 2],\n",
       "        [ 6],\n",
       "        [ 6],\n",
       "        [ 6],\n",
       "        [13],\n",
       "        [ 6],\n",
       "        [ 1],\n",
       "        [ 9],\n",
       "        [ 7],\n",
       "        [15],\n",
       "        [ 4],\n",
       "        [ 6],\n",
       "        [ 5],\n",
       "        [ 2],\n",
       "        [ 1],\n",
       "        [ 2],\n",
       "        [14],\n",
       "        [14],\n",
       "        [11],\n",
       "        [14],\n",
       "        [14],\n",
       "        [11],\n",
       "        [14],\n",
       "        [14],\n",
       "        [ 3],\n",
       "        [ 8],\n",
       "        [ 8],\n",
       "        [ 8],\n",
       "        [11],\n",
       "        [11],\n",
       "        [11],\n",
       "        [13],\n",
       "        [13],\n",
       "        [13],\n",
       "        [ 8],\n",
       "        [12],\n",
       "        [ 0],\n",
       "        [12],\n",
       "        [ 0],\n",
       "        [ 8],\n",
       "        [13],\n",
       "        [14],\n",
       "        [ 0],\n",
       "        [ 0],\n",
       "        [10],\n",
       "        [12],\n",
       "        [ 0],\n",
       "        [12],\n",
       "        [12],\n",
       "        [ 0]]))"
      ]
     },
     "execution_count": 172,
     "metadata": {},
     "output_type": "execute_result"
    }
   ],
   "source": [
    "X,y"
   ]
  },
  {
   "cell_type": "code",
   "execution_count": 173,
   "id": "9f9948e5-53f7-4ad0-920c-d707df6d8314",
   "metadata": {},
   "outputs": [],
   "source": [
    "xtrain,xtest,ytrain,ytest = train_test_split(X,y,test_size=0.3)"
   ]
  },
  {
   "cell_type": "code",
   "execution_count": 174,
   "id": "1f3ea025-38ed-4951-af8b-ac238d444309",
   "metadata": {},
   "outputs": [],
   "source": [
    "model = KNeighborsClassifier(n_neighbors=5)"
   ]
  },
  {
   "cell_type": "code",
   "execution_count": 175,
   "id": "711af48c-9169-490d-92c5-f352b52ec1c9",
   "metadata": {},
   "outputs": [
    {
     "name": "stderr",
     "output_type": "stream",
     "text": [
      "C:\\Users\\amith\\Envs\\workshop\\Lib\\site-packages\\sklearn\\neighbors\\_classification.py:228: DataConversionWarning: A column-vector y was passed when a 1d array was expected. Please change the shape of y to (n_samples,), for example using ravel().\n",
      "  return self._fit(X, y)\n"
     ]
    },
    {
     "data": {
      "text/html": [
       "<style>#sk-container-id-10 {color: black;}#sk-container-id-10 pre{padding: 0;}#sk-container-id-10 div.sk-toggleable {background-color: white;}#sk-container-id-10 label.sk-toggleable__label {cursor: pointer;display: block;width: 100%;margin-bottom: 0;padding: 0.3em;box-sizing: border-box;text-align: center;}#sk-container-id-10 label.sk-toggleable__label-arrow:before {content: \"▸\";float: left;margin-right: 0.25em;color: #696969;}#sk-container-id-10 label.sk-toggleable__label-arrow:hover:before {color: black;}#sk-container-id-10 div.sk-estimator:hover label.sk-toggleable__label-arrow:before {color: black;}#sk-container-id-10 div.sk-toggleable__content {max-height: 0;max-width: 0;overflow: hidden;text-align: left;background-color: #f0f8ff;}#sk-container-id-10 div.sk-toggleable__content pre {margin: 0.2em;color: black;border-radius: 0.25em;background-color: #f0f8ff;}#sk-container-id-10 input.sk-toggleable__control:checked~div.sk-toggleable__content {max-height: 200px;max-width: 100%;overflow: auto;}#sk-container-id-10 input.sk-toggleable__control:checked~label.sk-toggleable__label-arrow:before {content: \"▾\";}#sk-container-id-10 div.sk-estimator input.sk-toggleable__control:checked~label.sk-toggleable__label {background-color: #d4ebff;}#sk-container-id-10 div.sk-label input.sk-toggleable__control:checked~label.sk-toggleable__label {background-color: #d4ebff;}#sk-container-id-10 input.sk-hidden--visually {border: 0;clip: rect(1px 1px 1px 1px);clip: rect(1px, 1px, 1px, 1px);height: 1px;margin: -1px;overflow: hidden;padding: 0;position: absolute;width: 1px;}#sk-container-id-10 div.sk-estimator {font-family: monospace;background-color: #f0f8ff;border: 1px dotted black;border-radius: 0.25em;box-sizing: border-box;margin-bottom: 0.5em;}#sk-container-id-10 div.sk-estimator:hover {background-color: #d4ebff;}#sk-container-id-10 div.sk-parallel-item::after {content: \"\";width: 100%;border-bottom: 1px solid gray;flex-grow: 1;}#sk-container-id-10 div.sk-label:hover label.sk-toggleable__label {background-color: #d4ebff;}#sk-container-id-10 div.sk-serial::before {content: \"\";position: absolute;border-left: 1px solid gray;box-sizing: border-box;top: 0;bottom: 0;left: 50%;z-index: 0;}#sk-container-id-10 div.sk-serial {display: flex;flex-direction: column;align-items: center;background-color: white;padding-right: 0.2em;padding-left: 0.2em;position: relative;}#sk-container-id-10 div.sk-item {position: relative;z-index: 1;}#sk-container-id-10 div.sk-parallel {display: flex;align-items: stretch;justify-content: center;background-color: white;position: relative;}#sk-container-id-10 div.sk-item::before, #sk-container-id-10 div.sk-parallel-item::before {content: \"\";position: absolute;border-left: 1px solid gray;box-sizing: border-box;top: 0;bottom: 0;left: 50%;z-index: -1;}#sk-container-id-10 div.sk-parallel-item {display: flex;flex-direction: column;z-index: 1;position: relative;background-color: white;}#sk-container-id-10 div.sk-parallel-item:first-child::after {align-self: flex-end;width: 50%;}#sk-container-id-10 div.sk-parallel-item:last-child::after {align-self: flex-start;width: 50%;}#sk-container-id-10 div.sk-parallel-item:only-child::after {width: 0;}#sk-container-id-10 div.sk-dashed-wrapped {border: 1px dashed gray;margin: 0 0.4em 0.5em 0.4em;box-sizing: border-box;padding-bottom: 0.4em;background-color: white;}#sk-container-id-10 div.sk-label label {font-family: monospace;font-weight: bold;display: inline-block;line-height: 1.2em;}#sk-container-id-10 div.sk-label-container {text-align: center;}#sk-container-id-10 div.sk-container {/* jupyter's `normalize.less` sets `[hidden] { display: none; }` but bootstrap.min.css set `[hidden] { display: none !important; }` so we also need the `!important` here to be able to override the default hidden behavior on the sphinx rendered scikit-learn.org. See: https://github.com/scikit-learn/scikit-learn/issues/21755 */display: inline-block !important;position: relative;}#sk-container-id-10 div.sk-text-repr-fallback {display: none;}</style><div id=\"sk-container-id-10\" class=\"sk-top-container\"><div class=\"sk-text-repr-fallback\"><pre>KNeighborsClassifier()</pre><b>In a Jupyter environment, please rerun this cell to show the HTML representation or trust the notebook. <br />On GitHub, the HTML representation is unable to render, please try loading this page with nbviewer.org.</b></div><div class=\"sk-container\" hidden><div class=\"sk-item\"><div class=\"sk-estimator sk-toggleable\"><input class=\"sk-toggleable__control sk-hidden--visually\" id=\"sk-estimator-id-10\" type=\"checkbox\" checked><label for=\"sk-estimator-id-10\" class=\"sk-toggleable__label sk-toggleable__label-arrow\">KNeighborsClassifier</label><div class=\"sk-toggleable__content\"><pre>KNeighborsClassifier()</pre></div></div></div></div></div>"
      ],
      "text/plain": [
       "KNeighborsClassifier()"
      ]
     },
     "execution_count": 175,
     "metadata": {},
     "output_type": "execute_result"
    }
   ],
   "source": [
    "model.fit(xtrain,ytrain)"
   ]
  },
  {
   "cell_type": "code",
   "execution_count": 176,
   "id": "3f91416a-f10b-4131-a611-7e59508253ac",
   "metadata": {},
   "outputs": [],
   "source": [
    "ypred = model.predict(xtest)"
   ]
  },
  {
   "cell_type": "code",
   "execution_count": 177,
   "id": "d35dc4c0-5a99-4c3c-ac78-cc1958fae93f",
   "metadata": {},
   "outputs": [
    {
     "data": {
      "text/plain": [
       "array([2, 4, 0, 0, 3])"
      ]
     },
     "execution_count": 177,
     "metadata": {},
     "output_type": "execute_result"
    }
   ],
   "source": [
    "ypred[5:10]"
   ]
  },
  {
   "cell_type": "code",
   "execution_count": 178,
   "id": "e43a9d02-029d-4d77-b129-9ec4d1f7290f",
   "metadata": {},
   "outputs": [
    {
     "data": {
      "text/plain": [
       "array([[10],\n",
       "       [ 6],\n",
       "       [15],\n",
       "       [ 6],\n",
       "       [ 0]])"
      ]
     },
     "execution_count": 178,
     "metadata": {},
     "output_type": "execute_result"
    }
   ],
   "source": [
    "ytest[5:10]"
   ]
  },
  {
   "cell_type": "code",
   "execution_count": 179,
   "id": "56b25bae-0683-4b2e-bec5-523d080af1ad",
   "metadata": {},
   "outputs": [
    {
     "data": {
      "text/plain": [
       "array([[ 1],\n",
       "       [ 9],\n",
       "       [ 7],\n",
       "       [10],\n",
       "       [ 4],\n",
       "       [ 5],\n",
       "       [ 2],\n",
       "       [ 1],\n",
       "       [ 9],\n",
       "       [ 7]])"
      ]
     },
     "execution_count": 179,
     "metadata": {},
     "output_type": "execute_result"
    }
   ],
   "source": [
    "y[:10]"
   ]
  },
  {
   "cell_type": "code",
   "execution_count": 180,
   "id": "2b08051a-5b6e-4692-8b6d-2bbdebed7e2e",
   "metadata": {},
   "outputs": [],
   "source": [
    "y_predict = model.predict(X)"
   ]
  },
  {
   "cell_type": "code",
   "execution_count": 181,
   "id": "e11c3c29-2c3a-4591-b3dc-4711b1321b3f",
   "metadata": {},
   "outputs": [
    {
     "data": {
      "text/plain": [
       "array([2, 2, 2, 2, 2, 2, 2, 2, 2, 2, 2, 2, 2, 2, 4, 4, 4, 4, 4, 4, 4, 0,\n",
       "       0, 0, 0, 0, 0, 0, 4, 4, 4, 4, 4, 4, 4, 4, 4, 4, 4, 4, 4, 4, 4, 4,\n",
       "       4, 4, 4, 4, 4, 4, 0, 0, 0, 0, 0, 0, 0, 0, 0, 0, 0, 0, 0, 3, 3, 3,\n",
       "       3, 3, 3, 3, 3, 3, 2, 2, 2, 2, 4, 4, 2, 2, 2, 2, 2, 2, 2, 2, 4, 4,\n",
       "       4, 4, 4, 4, 4, 4, 0, 0, 3, 3, 3, 3, 4, 4, 4, 4, 4, 2, 0, 0, 0, 0,\n",
       "       0, 0, 4, 4, 2, 2, 2, 2, 2, 0, 2, 4, 4, 4, 0, 0, 0, 4, 4, 4, 3, 3,\n",
       "       2, 2, 4, 0, 2, 4, 2, 2, 0, 2, 2, 2, 2, 2, 2, 2, 2, 0, 0, 4, 4, 4,\n",
       "       0, 0, 0, 3, 2, 0, 0, 4, 2, 4, 2, 0, 0, 4, 2, 2, 4, 4, 0, 0, 2, 2,\n",
       "       0, 2, 2, 2, 2, 0, 0, 2, 2])"
      ]
     },
     "execution_count": 181,
     "metadata": {},
     "output_type": "execute_result"
    }
   ],
   "source": [
    "y_predict"
   ]
  },
  {
   "cell_type": "code",
   "execution_count": 182,
   "id": "07ddaccf-1836-45ce-9f35-a746e4479eca",
   "metadata": {},
   "outputs": [],
   "source": [
    "mse = mean_squared_error(y,y_predict)"
   ]
  },
  {
   "cell_type": "code",
   "execution_count": 183,
   "id": "bb1aa417-f885-4a79-9f75-8de79a6fbec8",
   "metadata": {},
   "outputs": [
    {
     "data": {
      "text/plain": [
       "5.718918918918919"
      ]
     },
     "execution_count": 183,
     "metadata": {},
     "output_type": "execute_result"
    }
   ],
   "source": [
    "mae = mean_absolute_error(y,y_predict)\n",
    "mae"
   ]
  },
  {
   "cell_type": "code",
   "execution_count": null,
   "id": "cdc61d80-dd69-48ff-909b-6ba8ac9addcf",
   "metadata": {},
   "outputs": [],
   "source": []
  },
  {
   "cell_type": "code",
   "execution_count": 184,
   "id": "fee62c34-3d9c-4d0e-9723-486c2c7653f6",
   "metadata": {},
   "outputs": [
    {
     "data": {
      "text/plain": [
       "array([1])"
      ]
     },
     "execution_count": 184,
     "metadata": {},
     "output_type": "execute_result"
    }
   ],
   "source": [
    "y_value[:1]"
   ]
  },
  {
   "cell_type": "code",
   "execution_count": 185,
   "id": "0ebdc297-29cd-4e47-bced-5d7f83c0a96f",
   "metadata": {},
   "outputs": [
    {
     "data": {
      "text/plain": [
       "array([[1]])"
      ]
     },
     "execution_count": 185,
     "metadata": {},
     "output_type": "execute_result"
    }
   ],
   "source": [
    "y[:1]"
   ]
  },
  {
   "cell_type": "code",
   "execution_count": 186,
   "id": "556eee92-a684-49a9-86fe-de87cde95e91",
   "metadata": {},
   "outputs": [
    {
     "data": {
      "text/plain": [
       "array([2])"
      ]
     },
     "execution_count": 186,
     "metadata": {},
     "output_type": "execute_result"
    }
   ],
   "source": [
    "y_predict[:1]"
   ]
  },
  {
   "cell_type": "code",
   "execution_count": 187,
   "id": "06aab791-8656-40fc-a556-1ec254b03bc3",
   "metadata": {},
   "outputs": [
    {
     "name": "stdout",
     "output_type": "stream",
     "text": [
      "i: 0 <-> true value: [1] <-> predicted value :2\n",
      "i: 4 <-> true value: [4] <-> predicted value :2\n",
      "i: 7 <-> true value: [1] <-> predicted value :2\n",
      "i: 11 <-> true value: [4] <-> predicted value :2\n",
      "i: 19 <-> true value: [5] <-> predicted value :4\n",
      "i: 20 <-> true value: [2] <-> predicted value :4\n",
      "i: 21 <-> true value: [1] <-> predicted value :0\n",
      "i: 27 <-> true value: [2] <-> predicted value :0\n",
      "i: 34 <-> true value: [6] <-> predicted value :4\n",
      "i: 35 <-> true value: [5] <-> predicted value :4\n",
      "i: 43 <-> true value: [6] <-> predicted value :4\n",
      "i: 44 <-> true value: [5] <-> predicted value :4\n",
      "i: 48 <-> true value: [6] <-> predicted value :4\n",
      "i: 68 <-> true value: [4] <-> predicted value :3\n",
      "i: 70 <-> true value: [5] <-> predicted value :3\n",
      "i: 78 <-> true value: [1] <-> predicted value :2\n",
      "i: 81 <-> true value: [0] <-> predicted value :2\n",
      "i: 83 <-> true value: [4] <-> predicted value :2\n",
      "i: 92 <-> true value: [5] <-> predicted value :4\n",
      "i: 93 <-> true value: [2] <-> predicted value :4\n",
      "i: 96 <-> true value: [1] <-> predicted value :3\n",
      "i: 99 <-> true value: [2] <-> predicted value :3\n",
      "i: 103 <-> true value: [2] <-> predicted value :4\n",
      "i: 105 <-> true value: [3] <-> predicted value :2\n",
      "i: 106 <-> true value: [1] <-> predicted value :0\n",
      "i: 112 <-> true value: [3] <-> predicted value :4\n",
      "i: 113 <-> true value: [3] <-> predicted value :4\n",
      "i: 115 <-> true value: [3] <-> predicted value :2\n",
      "i: 117 <-> true value: [3] <-> predicted value :2\n",
      "i: 123 <-> true value: [3] <-> predicted value :4\n",
      "i: 129 <-> true value: [3] <-> predicted value :4\n",
      "i: 134 <-> true value: [2] <-> predicted value :4\n",
      "i: 135 <-> true value: [2] <-> predicted value :0\n",
      "i: 137 <-> true value: [6] <-> predicted value :4\n",
      "i: 141 <-> true value: [1] <-> predicted value :2\n",
      "i: 145 <-> true value: [4] <-> predicted value :2\n",
      "i: 149 <-> true value: [1] <-> predicted value :0\n",
      "i: 150 <-> true value: [2] <-> predicted value :0\n",
      "i: 177 <-> true value: [0] <-> predicted value :2\n",
      "i: 178 <-> true value: [0] <-> predicted value :2\n",
      "i: 184 <-> true value: [0] <-> predicted value :2\n",
      "count: 41\n"
     ]
    }
   ],
   "source": [
    "count = 0\n",
    "for i in range(len(y_predict)):\n",
    "    if i % 1 == 0:\n",
    "        if 0 < np.abs(y[i]-y_predict[i]) < 3:\n",
    "            print(f\"i: {i} <-> true value: {y[i]} <-> predicted value :{y_predict[i]}\")\n",
    "            count += 1\n",
    "print(f\"count: {count}\")"
   ]
  },
  {
   "cell_type": "code",
   "execution_count": 188,
   "id": "2c79e9c8-5eeb-4442-bf3c-c1b5109f4a7b",
   "metadata": {},
   "outputs": [
    {
     "name": "stdout",
     "output_type": "stream",
     "text": [
      "              precision    recall  f1-score   support\n",
      "\n",
      "           0       0.06      0.25      0.10        12\n",
      "           1       0.00      0.00      0.00        12\n",
      "           2       0.07      0.33      0.11        12\n",
      "           3       0.06      0.09      0.07        11\n",
      "           4       0.06      0.33      0.11        12\n",
      "           5       0.00      0.00      0.00        12\n",
      "           6       0.00      0.00      0.00        12\n",
      "           7       0.00      0.00      0.00        12\n",
      "           8       0.00      0.00      0.00        12\n",
      "           9       0.00      0.00      0.00        12\n",
      "          10       0.00      0.00      0.00        12\n",
      "          11       0.00      0.00      0.00        11\n",
      "          12       0.00      0.00      0.00        12\n",
      "          13       0.00      0.00      0.00        12\n",
      "          14       0.00      0.00      0.00         7\n",
      "          15       0.00      0.00      0.00        12\n",
      "\n",
      "    accuracy                           0.06       185\n",
      "   macro avg       0.02      0.06      0.02       185\n",
      "weighted avg       0.02      0.06      0.03       185\n",
      "\n"
     ]
    },
    {
     "name": "stderr",
     "output_type": "stream",
     "text": [
      "C:\\Users\\amith\\Envs\\workshop\\Lib\\site-packages\\sklearn\\metrics\\_classification.py:1469: UndefinedMetricWarning: Precision and F-score are ill-defined and being set to 0.0 in labels with no predicted samples. Use `zero_division` parameter to control this behavior.\n",
      "  _warn_prf(average, modifier, msg_start, len(result))\n",
      "C:\\Users\\amith\\Envs\\workshop\\Lib\\site-packages\\sklearn\\metrics\\_classification.py:1469: UndefinedMetricWarning: Precision and F-score are ill-defined and being set to 0.0 in labels with no predicted samples. Use `zero_division` parameter to control this behavior.\n",
      "  _warn_prf(average, modifier, msg_start, len(result))\n",
      "C:\\Users\\amith\\Envs\\workshop\\Lib\\site-packages\\sklearn\\metrics\\_classification.py:1469: UndefinedMetricWarning: Precision and F-score are ill-defined and being set to 0.0 in labels with no predicted samples. Use `zero_division` parameter to control this behavior.\n",
      "  _warn_prf(average, modifier, msg_start, len(result))\n"
     ]
    }
   ],
   "source": [
    "print(classification_report(y,y_predict))"
   ]
  },
  {
   "cell_type": "code",
   "execution_count": null,
   "id": "4412ac2e-5e1f-4351-9aea-1ac01339ab96",
   "metadata": {},
   "outputs": [],
   "source": []
  }
 ],
 "metadata": {
  "kernelspec": {
   "display_name": "Python 3 (ipykernel)",
   "language": "python",
   "name": "python3"
  },
  "language_info": {
   "codemirror_mode": {
    "name": "ipython",
    "version": 3
   },
   "file_extension": ".py",
   "mimetype": "text/x-python",
   "name": "python",
   "nbconvert_exporter": "python",
   "pygments_lexer": "ipython3",
   "version": "3.11.4"
  }
 },
 "nbformat": 4,
 "nbformat_minor": 5
}
