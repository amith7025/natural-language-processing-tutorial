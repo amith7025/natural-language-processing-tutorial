{
 "cells": [
  {
   "cell_type": "code",
   "execution_count": 111,
   "id": "37046fe6-81c4-4799-8191-0a0ad9146a08",
   "metadata": {},
   "outputs": [],
   "source": [
    "import pandas as pd\n",
    "import spacy\n",
    "from sklearn.preprocessing import LabelEncoder,MinMaxScaler\n",
    "from sklearn.model_selection import train_test_split\n",
    "import numpy as np\n",
    "from sklearn.linear_model import LinearRegression,SGDRegressor\n",
    "from sklearn.metrics import classification_report"
   ]
  },
  {
   "cell_type": "code",
   "execution_count": 112,
   "id": "02a1c8ce-8ae6-4b14-9eb8-4539fbb22c97",
   "metadata": {},
   "outputs": [],
   "source": [
    "df = pd.read_csv('dataset.csv')"
   ]
  },
  {
   "cell_type": "code",
   "execution_count": 113,
   "id": "43dbedfe-9d08-4262-a960-9e9fc6ac1c88",
   "metadata": {},
   "outputs": [
    {
     "data": {
      "text/html": [
       "<div>\n",
       "<style scoped>\n",
       "    .dataframe tbody tr th:only-of-type {\n",
       "        vertical-align: middle;\n",
       "    }\n",
       "\n",
       "    .dataframe tbody tr th {\n",
       "        vertical-align: top;\n",
       "    }\n",
       "\n",
       "    .dataframe thead th {\n",
       "        text-align: right;\n",
       "    }\n",
       "</style>\n",
       "<table border=\"1\" class=\"dataframe\">\n",
       "  <thead>\n",
       "    <tr style=\"text-align: right;\">\n",
       "      <th></th>\n",
       "      <th>Meal_Id</th>\n",
       "      <th>Name</th>\n",
       "      <th>catagory</th>\n",
       "      <th>description</th>\n",
       "      <th>Veg_Non</th>\n",
       "      <th>Nutrient</th>\n",
       "      <th>Disease</th>\n",
       "      <th>Diet</th>\n",
       "      <th>Price</th>\n",
       "    </tr>\n",
       "  </thead>\n",
       "  <tbody>\n",
       "    <tr>\n",
       "      <th>0</th>\n",
       "      <td>meal_id1</td>\n",
       "      <td>summer squash salad</td>\n",
       "      <td>salad</td>\n",
       "      <td>white balsamic vinegar, lemon juice, lemon rin...</td>\n",
       "      <td>veg</td>\n",
       "      <td>fiber</td>\n",
       "      <td>obesity diabeties hypertension goitre</td>\n",
       "      <td>alkaline_diet low_fat_diet ketogenic_diet low...</td>\n",
       "      <td>485</td>\n",
       "    </tr>\n",
       "    <tr>\n",
       "      <th>1</th>\n",
       "      <td>meal_id2</td>\n",
       "      <td>chicken minced salad</td>\n",
       "      <td>salad</td>\n",
       "      <td>olive oil, chicken mince, garlic (minced), oni...</td>\n",
       "      <td>non-veg</td>\n",
       "      <td>fiber</td>\n",
       "      <td>anemia pregnancy hypertension rickets goitre ...</td>\n",
       "      <td>low_fat_diet low_carb_diet ketogenic_diet low...</td>\n",
       "      <td>600</td>\n",
       "    </tr>\n",
       "    <tr>\n",
       "      <th>2</th>\n",
       "      <td>meal_id3</td>\n",
       "      <td>sweet chilli almonds</td>\n",
       "      <td>chilli</td>\n",
       "      <td>almonds whole, egg white, curry leaves, salt, ...</td>\n",
       "      <td>veg</td>\n",
       "      <td>vitamin_a</td>\n",
       "      <td>hypertension scurvy heart_disease goitre kidn...</td>\n",
       "      <td>alkaline_diet low_fat_diet paleo_diet Mediter...</td>\n",
       "      <td>255</td>\n",
       "    </tr>\n",
       "    <tr>\n",
       "      <th>3</th>\n",
       "      <td>meal_id4</td>\n",
       "      <td>tricolour salad</td>\n",
       "      <td>salad</td>\n",
       "      <td>vinegar, honey/sugar, soy sauce, salt, garlic ...</td>\n",
       "      <td>veg</td>\n",
       "      <td>fiber</td>\n",
       "      <td>obesity goitre hypertension</td>\n",
       "      <td>low_fat_diet ketogenic_diet low_sodium_diet h...</td>\n",
       "      <td>615</td>\n",
       "    </tr>\n",
       "    <tr>\n",
       "      <th>4</th>\n",
       "      <td>meal_id5</td>\n",
       "      <td>gluten-free christmas cake</td>\n",
       "      <td>cake</td>\n",
       "      <td>christmas dry fruits (pre-soaked), orange zest...</td>\n",
       "      <td>veg</td>\n",
       "      <td>vitamin_a</td>\n",
       "      <td>goitre kidney_disease</td>\n",
       "      <td>high_protien_diet</td>\n",
       "      <td>465</td>\n",
       "    </tr>\n",
       "  </tbody>\n",
       "</table>\n",
       "</div>"
      ],
      "text/plain": [
       "    Meal_Id                        Name catagory  \\\n",
       "0  meal_id1         summer squash salad    salad   \n",
       "1  meal_id2        chicken minced salad    salad   \n",
       "2  meal_id3        sweet chilli almonds   chilli   \n",
       "3  meal_id4             tricolour salad    salad   \n",
       "4  meal_id5  gluten-free christmas cake     cake   \n",
       "\n",
       "                                         description  Veg_Non   Nutrient  \\\n",
       "0  white balsamic vinegar, lemon juice, lemon rin...      veg      fiber   \n",
       "1  olive oil, chicken mince, garlic (minced), oni...  non-veg      fiber   \n",
       "2  almonds whole, egg white, curry leaves, salt, ...      veg  vitamin_a   \n",
       "3  vinegar, honey/sugar, soy sauce, salt, garlic ...      veg      fiber   \n",
       "4  christmas dry fruits (pre-soaked), orange zest...      veg  vitamin_a   \n",
       "\n",
       "                                             Disease  \\\n",
       "0              obesity diabeties hypertension goitre   \n",
       "1   anemia pregnancy hypertension rickets goitre ...   \n",
       "2   hypertension scurvy heart_disease goitre kidn...   \n",
       "3                        obesity goitre hypertension   \n",
       "4                              goitre kidney_disease   \n",
       "\n",
       "                                                Diet  Price  \n",
       "0   alkaline_diet low_fat_diet ketogenic_diet low...    485  \n",
       "1   low_fat_diet low_carb_diet ketogenic_diet low...    600  \n",
       "2   alkaline_diet low_fat_diet paleo_diet Mediter...    255  \n",
       "3   low_fat_diet ketogenic_diet low_sodium_diet h...    615  \n",
       "4                                  high_protien_diet    465  "
      ]
     },
     "execution_count": 113,
     "metadata": {},
     "output_type": "execute_result"
    }
   ],
   "source": [
    "df.head()"
   ]
  },
  {
   "cell_type": "code",
   "execution_count": 114,
   "id": "789215dc-cbc1-43fa-a642-9c6d9e8e981f",
   "metadata": {},
   "outputs": [],
   "source": [
    "df.drop(['Meal_Id','Name','catagory','description','Veg_Non','Nutrient','Price'],inplace=True,axis=1)"
   ]
  },
  {
   "cell_type": "code",
   "execution_count": 115,
   "id": "fdb665ee-738b-494f-9937-863295d30b28",
   "metadata": {},
   "outputs": [
    {
     "data": {
      "text/html": [
       "<div>\n",
       "<style scoped>\n",
       "    .dataframe tbody tr th:only-of-type {\n",
       "        vertical-align: middle;\n",
       "    }\n",
       "\n",
       "    .dataframe tbody tr th {\n",
       "        vertical-align: top;\n",
       "    }\n",
       "\n",
       "    .dataframe thead th {\n",
       "        text-align: right;\n",
       "    }\n",
       "</style>\n",
       "<table border=\"1\" class=\"dataframe\">\n",
       "  <thead>\n",
       "    <tr style=\"text-align: right;\">\n",
       "      <th></th>\n",
       "      <th>Disease</th>\n",
       "      <th>Diet</th>\n",
       "    </tr>\n",
       "  </thead>\n",
       "  <tbody>\n",
       "    <tr>\n",
       "      <th>0</th>\n",
       "      <td>obesity diabeties hypertension goitre</td>\n",
       "      <td>alkaline_diet low_fat_diet ketogenic_diet low...</td>\n",
       "    </tr>\n",
       "    <tr>\n",
       "      <th>1</th>\n",
       "      <td>anemia pregnancy hypertension rickets goitre ...</td>\n",
       "      <td>low_fat_diet low_carb_diet ketogenic_diet low...</td>\n",
       "    </tr>\n",
       "    <tr>\n",
       "      <th>2</th>\n",
       "      <td>hypertension scurvy heart_disease goitre kidn...</td>\n",
       "      <td>alkaline_diet low_fat_diet paleo_diet Mediter...</td>\n",
       "    </tr>\n",
       "    <tr>\n",
       "      <th>3</th>\n",
       "      <td>obesity goitre hypertension</td>\n",
       "      <td>low_fat_diet ketogenic_diet low_sodium_diet h...</td>\n",
       "    </tr>\n",
       "    <tr>\n",
       "      <th>4</th>\n",
       "      <td>goitre kidney_disease</td>\n",
       "      <td>high_protien_diet</td>\n",
       "    </tr>\n",
       "  </tbody>\n",
       "</table>\n",
       "</div>"
      ],
      "text/plain": [
       "                                             Disease  \\\n",
       "0              obesity diabeties hypertension goitre   \n",
       "1   anemia pregnancy hypertension rickets goitre ...   \n",
       "2   hypertension scurvy heart_disease goitre kidn...   \n",
       "3                        obesity goitre hypertension   \n",
       "4                              goitre kidney_disease   \n",
       "\n",
       "                                                Diet  \n",
       "0   alkaline_diet low_fat_diet ketogenic_diet low...  \n",
       "1   low_fat_diet low_carb_diet ketogenic_diet low...  \n",
       "2   alkaline_diet low_fat_diet paleo_diet Mediter...  \n",
       "3   low_fat_diet ketogenic_diet low_sodium_diet h...  \n",
       "4                                  high_protien_diet  "
      ]
     },
     "execution_count": 115,
     "metadata": {},
     "output_type": "execute_result"
    }
   ],
   "source": [
    "df.head()"
   ]
  },
  {
   "cell_type": "code",
   "execution_count": 116,
   "id": "81a52fc9-b2ae-4753-9331-4ec665695bb3",
   "metadata": {},
   "outputs": [],
   "source": [
    "df['disease_list'] = df['Disease'].apply(lambda x : str(x).split(' '))"
   ]
  },
  {
   "cell_type": "code",
   "execution_count": 117,
   "id": "71e9761f-81c3-48ba-91a2-90e6da5b454e",
   "metadata": {},
   "outputs": [],
   "source": [
    "df['diet_list'] = df['Diet'].apply(lambda x : str(x).split(' '))"
   ]
  },
  {
   "cell_type": "code",
   "execution_count": 118,
   "id": "59731d05-a921-457a-93c5-1349f7bbcea7",
   "metadata": {},
   "outputs": [
    {
     "data": {
      "text/html": [
       "<div>\n",
       "<style scoped>\n",
       "    .dataframe tbody tr th:only-of-type {\n",
       "        vertical-align: middle;\n",
       "    }\n",
       "\n",
       "    .dataframe tbody tr th {\n",
       "        vertical-align: top;\n",
       "    }\n",
       "\n",
       "    .dataframe thead th {\n",
       "        text-align: right;\n",
       "    }\n",
       "</style>\n",
       "<table border=\"1\" class=\"dataframe\">\n",
       "  <thead>\n",
       "    <tr style=\"text-align: right;\">\n",
       "      <th></th>\n",
       "      <th>Disease</th>\n",
       "      <th>Diet</th>\n",
       "      <th>disease_list</th>\n",
       "      <th>diet_list</th>\n",
       "    </tr>\n",
       "  </thead>\n",
       "  <tbody>\n",
       "    <tr>\n",
       "      <th>0</th>\n",
       "      <td>obesity diabeties hypertension goitre</td>\n",
       "      <td>alkaline_diet low_fat_diet ketogenic_diet low...</td>\n",
       "      <td>[, obesity, diabeties, hypertension, goitre]</td>\n",
       "      <td>[, alkaline_diet, low_fat_diet, ketogenic_diet...</td>\n",
       "    </tr>\n",
       "    <tr>\n",
       "      <th>1</th>\n",
       "      <td>anemia pregnancy hypertension rickets goitre ...</td>\n",
       "      <td>low_fat_diet low_carb_diet ketogenic_diet low...</td>\n",
       "      <td>[, anemia, pregnancy, hypertension, rickets, g...</td>\n",
       "      <td>[, low_fat_diet, low_carb_diet, ketogenic_diet...</td>\n",
       "    </tr>\n",
       "    <tr>\n",
       "      <th>2</th>\n",
       "      <td>hypertension scurvy heart_disease goitre kidn...</td>\n",
       "      <td>alkaline_diet low_fat_diet paleo_diet Mediter...</td>\n",
       "      <td>[, hypertension, scurvy, heart_disease, goitre...</td>\n",
       "      <td>[, alkaline_diet, low_fat_diet, paleo_diet, Me...</td>\n",
       "    </tr>\n",
       "    <tr>\n",
       "      <th>3</th>\n",
       "      <td>obesity goitre hypertension</td>\n",
       "      <td>low_fat_diet ketogenic_diet low_sodium_diet h...</td>\n",
       "      <td>[, obesity, goitre, hypertension]</td>\n",
       "      <td>[, low_fat_diet, ketogenic_diet, low_sodium_di...</td>\n",
       "    </tr>\n",
       "    <tr>\n",
       "      <th>4</th>\n",
       "      <td>goitre kidney_disease</td>\n",
       "      <td>high_protien_diet</td>\n",
       "      <td>[, goitre, kidney_disease]</td>\n",
       "      <td>[, high_protien_diet]</td>\n",
       "    </tr>\n",
       "  </tbody>\n",
       "</table>\n",
       "</div>"
      ],
      "text/plain": [
       "                                             Disease  \\\n",
       "0              obesity diabeties hypertension goitre   \n",
       "1   anemia pregnancy hypertension rickets goitre ...   \n",
       "2   hypertension scurvy heart_disease goitre kidn...   \n",
       "3                        obesity goitre hypertension   \n",
       "4                              goitre kidney_disease   \n",
       "\n",
       "                                                Diet  \\\n",
       "0   alkaline_diet low_fat_diet ketogenic_diet low...   \n",
       "1   low_fat_diet low_carb_diet ketogenic_diet low...   \n",
       "2   alkaline_diet low_fat_diet paleo_diet Mediter...   \n",
       "3   low_fat_diet ketogenic_diet low_sodium_diet h...   \n",
       "4                                  high_protien_diet   \n",
       "\n",
       "                                        disease_list  \\\n",
       "0       [, obesity, diabeties, hypertension, goitre]   \n",
       "1  [, anemia, pregnancy, hypertension, rickets, g...   \n",
       "2  [, hypertension, scurvy, heart_disease, goitre...   \n",
       "3                  [, obesity, goitre, hypertension]   \n",
       "4                         [, goitre, kidney_disease]   \n",
       "\n",
       "                                           diet_list  \n",
       "0  [, alkaline_diet, low_fat_diet, ketogenic_diet...  \n",
       "1  [, low_fat_diet, low_carb_diet, ketogenic_diet...  \n",
       "2  [, alkaline_diet, low_fat_diet, paleo_diet, Me...  \n",
       "3  [, low_fat_diet, ketogenic_diet, low_sodium_di...  \n",
       "4                              [, high_protien_diet]  "
      ]
     },
     "execution_count": 118,
     "metadata": {},
     "output_type": "execute_result"
    }
   ],
   "source": [
    "df.head()"
   ]
  },
  {
   "cell_type": "code",
   "execution_count": 119,
   "id": "d9ed01b7-5ef0-42a3-bb4f-a303e0c17e3c",
   "metadata": {},
   "outputs": [],
   "source": [
    "df = df.explode('disease_list')"
   ]
  },
  {
   "cell_type": "code",
   "execution_count": 120,
   "id": "a89ece91-a8c2-468b-8396-d536611c756a",
   "metadata": {},
   "outputs": [
    {
     "data": {
      "text/html": [
       "<div>\n",
       "<style scoped>\n",
       "    .dataframe tbody tr th:only-of-type {\n",
       "        vertical-align: middle;\n",
       "    }\n",
       "\n",
       "    .dataframe tbody tr th {\n",
       "        vertical-align: top;\n",
       "    }\n",
       "\n",
       "    .dataframe thead th {\n",
       "        text-align: right;\n",
       "    }\n",
       "</style>\n",
       "<table border=\"1\" class=\"dataframe\">\n",
       "  <thead>\n",
       "    <tr style=\"text-align: right;\">\n",
       "      <th></th>\n",
       "      <th>Disease</th>\n",
       "      <th>Diet</th>\n",
       "      <th>disease_list</th>\n",
       "      <th>diet_list</th>\n",
       "    </tr>\n",
       "  </thead>\n",
       "  <tbody>\n",
       "    <tr>\n",
       "      <th>0</th>\n",
       "      <td>obesity diabeties hypertension goitre</td>\n",
       "      <td>alkaline_diet low_fat_diet ketogenic_diet low...</td>\n",
       "      <td></td>\n",
       "      <td>[, alkaline_diet, low_fat_diet, ketogenic_diet...</td>\n",
       "    </tr>\n",
       "    <tr>\n",
       "      <th>0</th>\n",
       "      <td>obesity diabeties hypertension goitre</td>\n",
       "      <td>alkaline_diet low_fat_diet ketogenic_diet low...</td>\n",
       "      <td>obesity</td>\n",
       "      <td>[, alkaline_diet, low_fat_diet, ketogenic_diet...</td>\n",
       "    </tr>\n",
       "    <tr>\n",
       "      <th>0</th>\n",
       "      <td>obesity diabeties hypertension goitre</td>\n",
       "      <td>alkaline_diet low_fat_diet ketogenic_diet low...</td>\n",
       "      <td>diabeties</td>\n",
       "      <td>[, alkaline_diet, low_fat_diet, ketogenic_diet...</td>\n",
       "    </tr>\n",
       "    <tr>\n",
       "      <th>0</th>\n",
       "      <td>obesity diabeties hypertension goitre</td>\n",
       "      <td>alkaline_diet low_fat_diet ketogenic_diet low...</td>\n",
       "      <td>hypertension</td>\n",
       "      <td>[, alkaline_diet, low_fat_diet, ketogenic_diet...</td>\n",
       "    </tr>\n",
       "    <tr>\n",
       "      <th>0</th>\n",
       "      <td>obesity diabeties hypertension goitre</td>\n",
       "      <td>alkaline_diet low_fat_diet ketogenic_diet low...</td>\n",
       "      <td>goitre</td>\n",
       "      <td>[, alkaline_diet, low_fat_diet, ketogenic_diet...</td>\n",
       "    </tr>\n",
       "  </tbody>\n",
       "</table>\n",
       "</div>"
      ],
      "text/plain": [
       "                                  Disease  \\\n",
       "0   obesity diabeties hypertension goitre   \n",
       "0   obesity diabeties hypertension goitre   \n",
       "0   obesity diabeties hypertension goitre   \n",
       "0   obesity diabeties hypertension goitre   \n",
       "0   obesity diabeties hypertension goitre   \n",
       "\n",
       "                                                Diet  disease_list  \\\n",
       "0   alkaline_diet low_fat_diet ketogenic_diet low...                 \n",
       "0   alkaline_diet low_fat_diet ketogenic_diet low...       obesity   \n",
       "0   alkaline_diet low_fat_diet ketogenic_diet low...     diabeties   \n",
       "0   alkaline_diet low_fat_diet ketogenic_diet low...  hypertension   \n",
       "0   alkaline_diet low_fat_diet ketogenic_diet low...        goitre   \n",
       "\n",
       "                                           diet_list  \n",
       "0  [, alkaline_diet, low_fat_diet, ketogenic_diet...  \n",
       "0  [, alkaline_diet, low_fat_diet, ketogenic_diet...  \n",
       "0  [, alkaline_diet, low_fat_diet, ketogenic_diet...  \n",
       "0  [, alkaline_diet, low_fat_diet, ketogenic_diet...  \n",
       "0  [, alkaline_diet, low_fat_diet, ketogenic_diet...  "
      ]
     },
     "execution_count": 120,
     "metadata": {},
     "output_type": "execute_result"
    }
   ],
   "source": [
    "df.head()"
   ]
  },
  {
   "cell_type": "code",
   "execution_count": 121,
   "id": "d70638eb-7902-4117-b8af-b91b56dde926",
   "metadata": {},
   "outputs": [],
   "source": [
    "df = df.explode('diet_list')"
   ]
  },
  {
   "cell_type": "code",
   "execution_count": 122,
   "id": "4cac40ee-b57a-421a-8558-8d1e0117b5bb",
   "metadata": {},
   "outputs": [
    {
     "data": {
      "text/html": [
       "<div>\n",
       "<style scoped>\n",
       "    .dataframe tbody tr th:only-of-type {\n",
       "        vertical-align: middle;\n",
       "    }\n",
       "\n",
       "    .dataframe tbody tr th {\n",
       "        vertical-align: top;\n",
       "    }\n",
       "\n",
       "    .dataframe thead th {\n",
       "        text-align: right;\n",
       "    }\n",
       "</style>\n",
       "<table border=\"1\" class=\"dataframe\">\n",
       "  <thead>\n",
       "    <tr style=\"text-align: right;\">\n",
       "      <th></th>\n",
       "      <th>Disease</th>\n",
       "      <th>Diet</th>\n",
       "      <th>disease_list</th>\n",
       "      <th>diet_list</th>\n",
       "    </tr>\n",
       "  </thead>\n",
       "  <tbody>\n",
       "    <tr>\n",
       "      <th>511</th>\n",
       "      <td>obesity diabeties anemia</td>\n",
       "      <td>high_protien_diet vegan_diet dash_diet ketoge...</td>\n",
       "      <td>anemia</td>\n",
       "      <td></td>\n",
       "    </tr>\n",
       "    <tr>\n",
       "      <th>511</th>\n",
       "      <td>obesity diabeties anemia</td>\n",
       "      <td>high_protien_diet vegan_diet dash_diet ketoge...</td>\n",
       "      <td>anemia</td>\n",
       "      <td>high_protien_diet</td>\n",
       "    </tr>\n",
       "    <tr>\n",
       "      <th>511</th>\n",
       "      <td>obesity diabeties anemia</td>\n",
       "      <td>high_protien_diet vegan_diet dash_diet ketoge...</td>\n",
       "      <td>anemia</td>\n",
       "      <td>vegan_diet</td>\n",
       "    </tr>\n",
       "    <tr>\n",
       "      <th>511</th>\n",
       "      <td>obesity diabeties anemia</td>\n",
       "      <td>high_protien_diet vegan_diet dash_diet ketoge...</td>\n",
       "      <td>anemia</td>\n",
       "      <td>dash_diet</td>\n",
       "    </tr>\n",
       "    <tr>\n",
       "      <th>511</th>\n",
       "      <td>obesity diabeties anemia</td>\n",
       "      <td>high_protien_diet vegan_diet dash_diet ketoge...</td>\n",
       "      <td>anemia</td>\n",
       "      <td>ketogenic_diet</td>\n",
       "    </tr>\n",
       "  </tbody>\n",
       "</table>\n",
       "</div>"
      ],
      "text/plain": [
       "                       Disease  \\\n",
       "511   obesity diabeties anemia   \n",
       "511   obesity diabeties anemia   \n",
       "511   obesity diabeties anemia   \n",
       "511   obesity diabeties anemia   \n",
       "511   obesity diabeties anemia   \n",
       "\n",
       "                                                  Diet disease_list  \\\n",
       "511   high_protien_diet vegan_diet dash_diet ketoge...       anemia   \n",
       "511   high_protien_diet vegan_diet dash_diet ketoge...       anemia   \n",
       "511   high_protien_diet vegan_diet dash_diet ketoge...       anemia   \n",
       "511   high_protien_diet vegan_diet dash_diet ketoge...       anemia   \n",
       "511   high_protien_diet vegan_diet dash_diet ketoge...       anemia   \n",
       "\n",
       "             diet_list  \n",
       "511                     \n",
       "511  high_protien_diet  \n",
       "511         vegan_diet  \n",
       "511          dash_diet  \n",
       "511     ketogenic_diet  "
      ]
     },
     "execution_count": 122,
     "metadata": {},
     "output_type": "execute_result"
    }
   ],
   "source": [
    "df.tail()"
   ]
  },
  {
   "cell_type": "code",
   "execution_count": 123,
   "id": "8eb84b94-21d7-486a-a3ab-ea25c31e95f5",
   "metadata": {},
   "outputs": [
    {
     "data": {
      "text/plain": [
       "18615"
      ]
     },
     "execution_count": 123,
     "metadata": {},
     "output_type": "execute_result"
    }
   ],
   "source": [
    "len(df)"
   ]
  },
  {
   "cell_type": "code",
   "execution_count": 124,
   "id": "e2ed9ec7-b3ce-40be-9376-f6fd07bc40f8",
   "metadata": {},
   "outputs": [
    {
     "data": {
      "text/html": [
       "<div>\n",
       "<style scoped>\n",
       "    .dataframe tbody tr th:only-of-type {\n",
       "        vertical-align: middle;\n",
       "    }\n",
       "\n",
       "    .dataframe tbody tr th {\n",
       "        vertical-align: top;\n",
       "    }\n",
       "\n",
       "    .dataframe thead th {\n",
       "        text-align: right;\n",
       "    }\n",
       "</style>\n",
       "<table border=\"1\" class=\"dataframe\">\n",
       "  <thead>\n",
       "    <tr style=\"text-align: right;\">\n",
       "      <th></th>\n",
       "      <th>Disease</th>\n",
       "      <th>Diet</th>\n",
       "      <th>disease_list</th>\n",
       "      <th>diet_list</th>\n",
       "    </tr>\n",
       "  </thead>\n",
       "  <tbody>\n",
       "    <tr>\n",
       "      <th>511</th>\n",
       "      <td>obesity diabeties anemia</td>\n",
       "      <td>high_protien_diet vegan_diet dash_diet ketoge...</td>\n",
       "      <td>anemia</td>\n",
       "      <td></td>\n",
       "    </tr>\n",
       "    <tr>\n",
       "      <th>511</th>\n",
       "      <td>obesity diabeties anemia</td>\n",
       "      <td>high_protien_diet vegan_diet dash_diet ketoge...</td>\n",
       "      <td>anemia</td>\n",
       "      <td>high_protien_diet</td>\n",
       "    </tr>\n",
       "    <tr>\n",
       "      <th>511</th>\n",
       "      <td>obesity diabeties anemia</td>\n",
       "      <td>high_protien_diet vegan_diet dash_diet ketoge...</td>\n",
       "      <td>anemia</td>\n",
       "      <td>vegan_diet</td>\n",
       "    </tr>\n",
       "    <tr>\n",
       "      <th>511</th>\n",
       "      <td>obesity diabeties anemia</td>\n",
       "      <td>high_protien_diet vegan_diet dash_diet ketoge...</td>\n",
       "      <td>anemia</td>\n",
       "      <td>dash_diet</td>\n",
       "    </tr>\n",
       "    <tr>\n",
       "      <th>511</th>\n",
       "      <td>obesity diabeties anemia</td>\n",
       "      <td>high_protien_diet vegan_diet dash_diet ketoge...</td>\n",
       "      <td>anemia</td>\n",
       "      <td>ketogenic_diet</td>\n",
       "    </tr>\n",
       "  </tbody>\n",
       "</table>\n",
       "</div>"
      ],
      "text/plain": [
       "                       Disease  \\\n",
       "511   obesity diabeties anemia   \n",
       "511   obesity diabeties anemia   \n",
       "511   obesity diabeties anemia   \n",
       "511   obesity diabeties anemia   \n",
       "511   obesity diabeties anemia   \n",
       "\n",
       "                                                  Diet disease_list  \\\n",
       "511   high_protien_diet vegan_diet dash_diet ketoge...       anemia   \n",
       "511   high_protien_diet vegan_diet dash_diet ketoge...       anemia   \n",
       "511   high_protien_diet vegan_diet dash_diet ketoge...       anemia   \n",
       "511   high_protien_diet vegan_diet dash_diet ketoge...       anemia   \n",
       "511   high_protien_diet vegan_diet dash_diet ketoge...       anemia   \n",
       "\n",
       "             diet_list  \n",
       "511                     \n",
       "511  high_protien_diet  \n",
       "511         vegan_diet  \n",
       "511          dash_diet  \n",
       "511     ketogenic_diet  "
      ]
     },
     "execution_count": 124,
     "metadata": {},
     "output_type": "execute_result"
    }
   ],
   "source": [
    "df.tail()"
   ]
  },
  {
   "cell_type": "code",
   "execution_count": 125,
   "id": "18981e0e-faf3-41f5-bccf-7790e72d6b8c",
   "metadata": {},
   "outputs": [
    {
     "data": {
      "text/plain": [
       "''"
      ]
     },
     "execution_count": 125,
     "metadata": {},
     "output_type": "execute_result"
    }
   ],
   "source": [
    "df.iloc[511,3]"
   ]
  },
  {
   "cell_type": "code",
   "execution_count": 126,
   "id": "f657e8aa-e080-4f2b-9324-73d39f0d9cb2",
   "metadata": {},
   "outputs": [
    {
     "data": {
      "text/plain": [
       "0       True\n",
       "0      False\n",
       "0      False\n",
       "0      False\n",
       "0      False\n",
       "       ...  \n",
       "511     True\n",
       "511    False\n",
       "511    False\n",
       "511    False\n",
       "511    False\n",
       "Name: diet_list, Length: 18615, dtype: bool"
      ]
     },
     "execution_count": 126,
     "metadata": {},
     "output_type": "execute_result"
    }
   ],
   "source": [
    "condtion = df['diet_list'] == ''\n",
    "condtion"
   ]
  },
  {
   "cell_type": "code",
   "execution_count": 127,
   "id": "8ec391bd-f49e-471e-90a2-25e2e5613291",
   "metadata": {},
   "outputs": [],
   "source": [
    "df_new = df[~condtion]"
   ]
  },
  {
   "cell_type": "code",
   "execution_count": 128,
   "id": "de6535d8-a95e-41eb-89cb-86acf4c8b00b",
   "metadata": {},
   "outputs": [
    {
     "data": {
      "text/html": [
       "<div>\n",
       "<style scoped>\n",
       "    .dataframe tbody tr th:only-of-type {\n",
       "        vertical-align: middle;\n",
       "    }\n",
       "\n",
       "    .dataframe tbody tr th {\n",
       "        vertical-align: top;\n",
       "    }\n",
       "\n",
       "    .dataframe thead th {\n",
       "        text-align: right;\n",
       "    }\n",
       "</style>\n",
       "<table border=\"1\" class=\"dataframe\">\n",
       "  <thead>\n",
       "    <tr style=\"text-align: right;\">\n",
       "      <th></th>\n",
       "      <th>Disease</th>\n",
       "      <th>Diet</th>\n",
       "      <th>disease_list</th>\n",
       "      <th>diet_list</th>\n",
       "    </tr>\n",
       "  </thead>\n",
       "  <tbody>\n",
       "    <tr>\n",
       "      <th>0</th>\n",
       "      <td>obesity diabeties hypertension goitre</td>\n",
       "      <td>alkaline_diet low_fat_diet ketogenic_diet low...</td>\n",
       "      <td></td>\n",
       "      <td>alkaline_diet</td>\n",
       "    </tr>\n",
       "    <tr>\n",
       "      <th>0</th>\n",
       "      <td>obesity diabeties hypertension goitre</td>\n",
       "      <td>alkaline_diet low_fat_diet ketogenic_diet low...</td>\n",
       "      <td></td>\n",
       "      <td>low_fat_diet</td>\n",
       "    </tr>\n",
       "    <tr>\n",
       "      <th>0</th>\n",
       "      <td>obesity diabeties hypertension goitre</td>\n",
       "      <td>alkaline_diet low_fat_diet ketogenic_diet low...</td>\n",
       "      <td></td>\n",
       "      <td>ketogenic_diet</td>\n",
       "    </tr>\n",
       "    <tr>\n",
       "      <th>0</th>\n",
       "      <td>obesity diabeties hypertension goitre</td>\n",
       "      <td>alkaline_diet low_fat_diet ketogenic_diet low...</td>\n",
       "      <td></td>\n",
       "      <td>low_sodium_diet</td>\n",
       "    </tr>\n",
       "    <tr>\n",
       "      <th>0</th>\n",
       "      <td>obesity diabeties hypertension goitre</td>\n",
       "      <td>alkaline_diet low_fat_diet ketogenic_diet low...</td>\n",
       "      <td></td>\n",
       "      <td>high_fiber_diet</td>\n",
       "    </tr>\n",
       "  </tbody>\n",
       "</table>\n",
       "</div>"
      ],
      "text/plain": [
       "                                  Disease  \\\n",
       "0   obesity diabeties hypertension goitre   \n",
       "0   obesity diabeties hypertension goitre   \n",
       "0   obesity diabeties hypertension goitre   \n",
       "0   obesity diabeties hypertension goitre   \n",
       "0   obesity diabeties hypertension goitre   \n",
       "\n",
       "                                                Diet disease_list  \\\n",
       "0   alkaline_diet low_fat_diet ketogenic_diet low...                \n",
       "0   alkaline_diet low_fat_diet ketogenic_diet low...                \n",
       "0   alkaline_diet low_fat_diet ketogenic_diet low...                \n",
       "0   alkaline_diet low_fat_diet ketogenic_diet low...                \n",
       "0   alkaline_diet low_fat_diet ketogenic_diet low...                \n",
       "\n",
       "         diet_list  \n",
       "0    alkaline_diet  \n",
       "0     low_fat_diet  \n",
       "0   ketogenic_diet  \n",
       "0  low_sodium_diet  \n",
       "0  high_fiber_diet  "
      ]
     },
     "execution_count": 128,
     "metadata": {},
     "output_type": "execute_result"
    }
   ],
   "source": [
    "df_new.head()"
   ]
  },
  {
   "cell_type": "code",
   "execution_count": 129,
   "id": "638c8554-9696-496f-af2c-9b3f2a8945d0",
   "metadata": {},
   "outputs": [
    {
     "data": {
      "text/plain": [
       "15976"
      ]
     },
     "execution_count": 129,
     "metadata": {},
     "output_type": "execute_result"
    }
   ],
   "source": [
    "len(df_new)"
   ]
  },
  {
   "cell_type": "code",
   "execution_count": 130,
   "id": "4f93f118-d4b7-424b-b5a3-d767346a4ad6",
   "metadata": {},
   "outputs": [
    {
     "data": {
      "text/plain": [
       "0       True\n",
       "0       True\n",
       "0       True\n",
       "0       True\n",
       "0       True\n",
       "       ...  \n",
       "511    False\n",
       "511    False\n",
       "511    False\n",
       "511    False\n",
       "511    False\n",
       "Name: disease_list, Length: 15976, dtype: bool"
      ]
     },
     "execution_count": 130,
     "metadata": {},
     "output_type": "execute_result"
    }
   ],
   "source": [
    "condtions = df_new['disease_list'] == ''\n",
    "condtions"
   ]
  },
  {
   "cell_type": "code",
   "execution_count": 131,
   "id": "0b6151ba-f198-41e2-a26c-3afd53934da6",
   "metadata": {},
   "outputs": [],
   "source": [
    "df_org = df_new[~condtions]"
   ]
  },
  {
   "cell_type": "code",
   "execution_count": 132,
   "id": "cd0cd5f7-ba97-47bf-b106-b918ff5c067c",
   "metadata": {},
   "outputs": [
    {
     "data": {
      "text/html": [
       "<div>\n",
       "<style scoped>\n",
       "    .dataframe tbody tr th:only-of-type {\n",
       "        vertical-align: middle;\n",
       "    }\n",
       "\n",
       "    .dataframe tbody tr th {\n",
       "        vertical-align: top;\n",
       "    }\n",
       "\n",
       "    .dataframe thead th {\n",
       "        text-align: right;\n",
       "    }\n",
       "</style>\n",
       "<table border=\"1\" class=\"dataframe\">\n",
       "  <thead>\n",
       "    <tr style=\"text-align: right;\">\n",
       "      <th></th>\n",
       "      <th>Disease</th>\n",
       "      <th>Diet</th>\n",
       "      <th>disease_list</th>\n",
       "      <th>diet_list</th>\n",
       "    </tr>\n",
       "  </thead>\n",
       "  <tbody>\n",
       "    <tr>\n",
       "      <th>0</th>\n",
       "      <td>obesity diabeties hypertension goitre</td>\n",
       "      <td>alkaline_diet low_fat_diet ketogenic_diet low...</td>\n",
       "      <td>obesity</td>\n",
       "      <td>alkaline_diet</td>\n",
       "    </tr>\n",
       "    <tr>\n",
       "      <th>0</th>\n",
       "      <td>obesity diabeties hypertension goitre</td>\n",
       "      <td>alkaline_diet low_fat_diet ketogenic_diet low...</td>\n",
       "      <td>obesity</td>\n",
       "      <td>low_fat_diet</td>\n",
       "    </tr>\n",
       "    <tr>\n",
       "      <th>0</th>\n",
       "      <td>obesity diabeties hypertension goitre</td>\n",
       "      <td>alkaline_diet low_fat_diet ketogenic_diet low...</td>\n",
       "      <td>obesity</td>\n",
       "      <td>ketogenic_diet</td>\n",
       "    </tr>\n",
       "    <tr>\n",
       "      <th>0</th>\n",
       "      <td>obesity diabeties hypertension goitre</td>\n",
       "      <td>alkaline_diet low_fat_diet ketogenic_diet low...</td>\n",
       "      <td>obesity</td>\n",
       "      <td>low_sodium_diet</td>\n",
       "    </tr>\n",
       "    <tr>\n",
       "      <th>0</th>\n",
       "      <td>obesity diabeties hypertension goitre</td>\n",
       "      <td>alkaline_diet low_fat_diet ketogenic_diet low...</td>\n",
       "      <td>obesity</td>\n",
       "      <td>high_fiber_diet</td>\n",
       "    </tr>\n",
       "    <tr>\n",
       "      <th>...</th>\n",
       "      <td>...</td>\n",
       "      <td>...</td>\n",
       "      <td>...</td>\n",
       "      <td>...</td>\n",
       "    </tr>\n",
       "    <tr>\n",
       "      <th>511</th>\n",
       "      <td>obesity diabeties anemia</td>\n",
       "      <td>high_protien_diet vegan_diet dash_diet ketoge...</td>\n",
       "      <td>diabeties</td>\n",
       "      <td>ketogenic_diet</td>\n",
       "    </tr>\n",
       "    <tr>\n",
       "      <th>511</th>\n",
       "      <td>obesity diabeties anemia</td>\n",
       "      <td>high_protien_diet vegan_diet dash_diet ketoge...</td>\n",
       "      <td>anemia</td>\n",
       "      <td>high_protien_diet</td>\n",
       "    </tr>\n",
       "    <tr>\n",
       "      <th>511</th>\n",
       "      <td>obesity diabeties anemia</td>\n",
       "      <td>high_protien_diet vegan_diet dash_diet ketoge...</td>\n",
       "      <td>anemia</td>\n",
       "      <td>vegan_diet</td>\n",
       "    </tr>\n",
       "    <tr>\n",
       "      <th>511</th>\n",
       "      <td>obesity diabeties anemia</td>\n",
       "      <td>high_protien_diet vegan_diet dash_diet ketoge...</td>\n",
       "      <td>anemia</td>\n",
       "      <td>dash_diet</td>\n",
       "    </tr>\n",
       "    <tr>\n",
       "      <th>511</th>\n",
       "      <td>obesity diabeties anemia</td>\n",
       "      <td>high_protien_diet vegan_diet dash_diet ketoge...</td>\n",
       "      <td>anemia</td>\n",
       "      <td>ketogenic_diet</td>\n",
       "    </tr>\n",
       "  </tbody>\n",
       "</table>\n",
       "<p>13255 rows × 4 columns</p>\n",
       "</div>"
      ],
      "text/plain": [
       "                                    Disease  \\\n",
       "0     obesity diabeties hypertension goitre   \n",
       "0     obesity diabeties hypertension goitre   \n",
       "0     obesity diabeties hypertension goitre   \n",
       "0     obesity diabeties hypertension goitre   \n",
       "0     obesity diabeties hypertension goitre   \n",
       "..                                      ...   \n",
       "511                obesity diabeties anemia   \n",
       "511                obesity diabeties anemia   \n",
       "511                obesity diabeties anemia   \n",
       "511                obesity diabeties anemia   \n",
       "511                obesity diabeties anemia   \n",
       "\n",
       "                                                  Diet disease_list  \\\n",
       "0     alkaline_diet low_fat_diet ketogenic_diet low...      obesity   \n",
       "0     alkaline_diet low_fat_diet ketogenic_diet low...      obesity   \n",
       "0     alkaline_diet low_fat_diet ketogenic_diet low...      obesity   \n",
       "0     alkaline_diet low_fat_diet ketogenic_diet low...      obesity   \n",
       "0     alkaline_diet low_fat_diet ketogenic_diet low...      obesity   \n",
       "..                                                 ...          ...   \n",
       "511   high_protien_diet vegan_diet dash_diet ketoge...    diabeties   \n",
       "511   high_protien_diet vegan_diet dash_diet ketoge...       anemia   \n",
       "511   high_protien_diet vegan_diet dash_diet ketoge...       anemia   \n",
       "511   high_protien_diet vegan_diet dash_diet ketoge...       anemia   \n",
       "511   high_protien_diet vegan_diet dash_diet ketoge...       anemia   \n",
       "\n",
       "             diet_list  \n",
       "0        alkaline_diet  \n",
       "0         low_fat_diet  \n",
       "0       ketogenic_diet  \n",
       "0      low_sodium_diet  \n",
       "0      high_fiber_diet  \n",
       "..                 ...  \n",
       "511     ketogenic_diet  \n",
       "511  high_protien_diet  \n",
       "511         vegan_diet  \n",
       "511          dash_diet  \n",
       "511     ketogenic_diet  \n",
       "\n",
       "[13255 rows x 4 columns]"
      ]
     },
     "execution_count": 132,
     "metadata": {},
     "output_type": "execute_result"
    }
   ],
   "source": [
    "df_org"
   ]
  },
  {
   "cell_type": "code",
   "execution_count": 133,
   "id": "27e2e6da-1a77-4647-a991-d334c0f35111",
   "metadata": {},
   "outputs": [],
   "source": [
    "df = df_org.copy()"
   ]
  },
  {
   "cell_type": "code",
   "execution_count": 134,
   "id": "9ccb31e8-f64d-4d0a-a244-9454639082fe",
   "metadata": {},
   "outputs": [
    {
     "data": {
      "text/html": [
       "<div>\n",
       "<style scoped>\n",
       "    .dataframe tbody tr th:only-of-type {\n",
       "        vertical-align: middle;\n",
       "    }\n",
       "\n",
       "    .dataframe tbody tr th {\n",
       "        vertical-align: top;\n",
       "    }\n",
       "\n",
       "    .dataframe thead th {\n",
       "        text-align: right;\n",
       "    }\n",
       "</style>\n",
       "<table border=\"1\" class=\"dataframe\">\n",
       "  <thead>\n",
       "    <tr style=\"text-align: right;\">\n",
       "      <th></th>\n",
       "      <th>Disease</th>\n",
       "      <th>Diet</th>\n",
       "      <th>disease_list</th>\n",
       "      <th>diet_list</th>\n",
       "    </tr>\n",
       "  </thead>\n",
       "  <tbody>\n",
       "    <tr>\n",
       "      <th>0</th>\n",
       "      <td>obesity diabeties hypertension goitre</td>\n",
       "      <td>alkaline_diet low_fat_diet ketogenic_diet low...</td>\n",
       "      <td>obesity</td>\n",
       "      <td>alkaline_diet</td>\n",
       "    </tr>\n",
       "    <tr>\n",
       "      <th>0</th>\n",
       "      <td>obesity diabeties hypertension goitre</td>\n",
       "      <td>alkaline_diet low_fat_diet ketogenic_diet low...</td>\n",
       "      <td>obesity</td>\n",
       "      <td>low_fat_diet</td>\n",
       "    </tr>\n",
       "    <tr>\n",
       "      <th>0</th>\n",
       "      <td>obesity diabeties hypertension goitre</td>\n",
       "      <td>alkaline_diet low_fat_diet ketogenic_diet low...</td>\n",
       "      <td>obesity</td>\n",
       "      <td>ketogenic_diet</td>\n",
       "    </tr>\n",
       "    <tr>\n",
       "      <th>0</th>\n",
       "      <td>obesity diabeties hypertension goitre</td>\n",
       "      <td>alkaline_diet low_fat_diet ketogenic_diet low...</td>\n",
       "      <td>obesity</td>\n",
       "      <td>low_sodium_diet</td>\n",
       "    </tr>\n",
       "    <tr>\n",
       "      <th>0</th>\n",
       "      <td>obesity diabeties hypertension goitre</td>\n",
       "      <td>alkaline_diet low_fat_diet ketogenic_diet low...</td>\n",
       "      <td>obesity</td>\n",
       "      <td>high_fiber_diet</td>\n",
       "    </tr>\n",
       "    <tr>\n",
       "      <th>...</th>\n",
       "      <td>...</td>\n",
       "      <td>...</td>\n",
       "      <td>...</td>\n",
       "      <td>...</td>\n",
       "    </tr>\n",
       "    <tr>\n",
       "      <th>511</th>\n",
       "      <td>obesity diabeties anemia</td>\n",
       "      <td>high_protien_diet vegan_diet dash_diet ketoge...</td>\n",
       "      <td>diabeties</td>\n",
       "      <td>ketogenic_diet</td>\n",
       "    </tr>\n",
       "    <tr>\n",
       "      <th>511</th>\n",
       "      <td>obesity diabeties anemia</td>\n",
       "      <td>high_protien_diet vegan_diet dash_diet ketoge...</td>\n",
       "      <td>anemia</td>\n",
       "      <td>high_protien_diet</td>\n",
       "    </tr>\n",
       "    <tr>\n",
       "      <th>511</th>\n",
       "      <td>obesity diabeties anemia</td>\n",
       "      <td>high_protien_diet vegan_diet dash_diet ketoge...</td>\n",
       "      <td>anemia</td>\n",
       "      <td>vegan_diet</td>\n",
       "    </tr>\n",
       "    <tr>\n",
       "      <th>511</th>\n",
       "      <td>obesity diabeties anemia</td>\n",
       "      <td>high_protien_diet vegan_diet dash_diet ketoge...</td>\n",
       "      <td>anemia</td>\n",
       "      <td>dash_diet</td>\n",
       "    </tr>\n",
       "    <tr>\n",
       "      <th>511</th>\n",
       "      <td>obesity diabeties anemia</td>\n",
       "      <td>high_protien_diet vegan_diet dash_diet ketoge...</td>\n",
       "      <td>anemia</td>\n",
       "      <td>ketogenic_diet</td>\n",
       "    </tr>\n",
       "  </tbody>\n",
       "</table>\n",
       "<p>13255 rows × 4 columns</p>\n",
       "</div>"
      ],
      "text/plain": [
       "                                    Disease  \\\n",
       "0     obesity diabeties hypertension goitre   \n",
       "0     obesity diabeties hypertension goitre   \n",
       "0     obesity diabeties hypertension goitre   \n",
       "0     obesity diabeties hypertension goitre   \n",
       "0     obesity diabeties hypertension goitre   \n",
       "..                                      ...   \n",
       "511                obesity diabeties anemia   \n",
       "511                obesity diabeties anemia   \n",
       "511                obesity diabeties anemia   \n",
       "511                obesity diabeties anemia   \n",
       "511                obesity diabeties anemia   \n",
       "\n",
       "                                                  Diet disease_list  \\\n",
       "0     alkaline_diet low_fat_diet ketogenic_diet low...      obesity   \n",
       "0     alkaline_diet low_fat_diet ketogenic_diet low...      obesity   \n",
       "0     alkaline_diet low_fat_diet ketogenic_diet low...      obesity   \n",
       "0     alkaline_diet low_fat_diet ketogenic_diet low...      obesity   \n",
       "0     alkaline_diet low_fat_diet ketogenic_diet low...      obesity   \n",
       "..                                                 ...          ...   \n",
       "511   high_protien_diet vegan_diet dash_diet ketoge...    diabeties   \n",
       "511   high_protien_diet vegan_diet dash_diet ketoge...       anemia   \n",
       "511   high_protien_diet vegan_diet dash_diet ketoge...       anemia   \n",
       "511   high_protien_diet vegan_diet dash_diet ketoge...       anemia   \n",
       "511   high_protien_diet vegan_diet dash_diet ketoge...       anemia   \n",
       "\n",
       "             diet_list  \n",
       "0        alkaline_diet  \n",
       "0         low_fat_diet  \n",
       "0       ketogenic_diet  \n",
       "0      low_sodium_diet  \n",
       "0      high_fiber_diet  \n",
       "..                 ...  \n",
       "511     ketogenic_diet  \n",
       "511  high_protien_diet  \n",
       "511         vegan_diet  \n",
       "511          dash_diet  \n",
       "511     ketogenic_diet  \n",
       "\n",
       "[13255 rows x 4 columns]"
      ]
     },
     "execution_count": 134,
     "metadata": {},
     "output_type": "execute_result"
    }
   ],
   "source": [
    "df"
   ]
  },
  {
   "cell_type": "code",
   "execution_count": 135,
   "id": "b096e760-9498-4ef8-a00f-a9e05dd4e3d2",
   "metadata": {},
   "outputs": [],
   "source": [
    "df.drop(['Disease','Diet'],inplace=True,axis=1)"
   ]
  },
  {
   "cell_type": "code",
   "execution_count": 137,
   "id": "c170c2b9-9097-4018-bce1-78e26091c94b",
   "metadata": {},
   "outputs": [
    {
     "data": {
      "text/html": [
       "<div>\n",
       "<style scoped>\n",
       "    .dataframe tbody tr th:only-of-type {\n",
       "        vertical-align: middle;\n",
       "    }\n",
       "\n",
       "    .dataframe tbody tr th {\n",
       "        vertical-align: top;\n",
       "    }\n",
       "\n",
       "    .dataframe thead th {\n",
       "        text-align: right;\n",
       "    }\n",
       "</style>\n",
       "<table border=\"1\" class=\"dataframe\">\n",
       "  <thead>\n",
       "    <tr style=\"text-align: right;\">\n",
       "      <th></th>\n",
       "      <th>disease_list</th>\n",
       "      <th>diet_list</th>\n",
       "    </tr>\n",
       "  </thead>\n",
       "  <tbody>\n",
       "    <tr>\n",
       "      <th>0</th>\n",
       "      <td>obesity</td>\n",
       "      <td>alkaline_diet</td>\n",
       "    </tr>\n",
       "    <tr>\n",
       "      <th>0</th>\n",
       "      <td>obesity</td>\n",
       "      <td>low_fat_diet</td>\n",
       "    </tr>\n",
       "    <tr>\n",
       "      <th>0</th>\n",
       "      <td>obesity</td>\n",
       "      <td>ketogenic_diet</td>\n",
       "    </tr>\n",
       "    <tr>\n",
       "      <th>0</th>\n",
       "      <td>obesity</td>\n",
       "      <td>low_sodium_diet</td>\n",
       "    </tr>\n",
       "    <tr>\n",
       "      <th>0</th>\n",
       "      <td>obesity</td>\n",
       "      <td>high_fiber_diet</td>\n",
       "    </tr>\n",
       "    <tr>\n",
       "      <th>...</th>\n",
       "      <td>...</td>\n",
       "      <td>...</td>\n",
       "    </tr>\n",
       "    <tr>\n",
       "      <th>511</th>\n",
       "      <td>diabeties</td>\n",
       "      <td>ketogenic_diet</td>\n",
       "    </tr>\n",
       "    <tr>\n",
       "      <th>511</th>\n",
       "      <td>anemia</td>\n",
       "      <td>high_protien_diet</td>\n",
       "    </tr>\n",
       "    <tr>\n",
       "      <th>511</th>\n",
       "      <td>anemia</td>\n",
       "      <td>vegan_diet</td>\n",
       "    </tr>\n",
       "    <tr>\n",
       "      <th>511</th>\n",
       "      <td>anemia</td>\n",
       "      <td>dash_diet</td>\n",
       "    </tr>\n",
       "    <tr>\n",
       "      <th>511</th>\n",
       "      <td>anemia</td>\n",
       "      <td>ketogenic_diet</td>\n",
       "    </tr>\n",
       "  </tbody>\n",
       "</table>\n",
       "<p>13255 rows × 2 columns</p>\n",
       "</div>"
      ],
      "text/plain": [
       "    disease_list          diet_list\n",
       "0        obesity      alkaline_diet\n",
       "0        obesity       low_fat_diet\n",
       "0        obesity     ketogenic_diet\n",
       "0        obesity    low_sodium_diet\n",
       "0        obesity    high_fiber_diet\n",
       "..           ...                ...\n",
       "511    diabeties     ketogenic_diet\n",
       "511       anemia  high_protien_diet\n",
       "511       anemia         vegan_diet\n",
       "511       anemia          dash_diet\n",
       "511       anemia     ketogenic_diet\n",
       "\n",
       "[13255 rows x 2 columns]"
      ]
     },
     "execution_count": 137,
     "metadata": {},
     "output_type": "execute_result"
    }
   ],
   "source": [
    "df"
   ]
  },
  {
   "cell_type": "code",
   "execution_count": 180,
   "id": "4ae750ac-6896-43e6-9c74-6b5a9614a30a",
   "metadata": {},
   "outputs": [],
   "source": [
    "encoder = LabelEncoder()\n",
    "scaler = MinMaxScaler()"
   ]
  },
  {
   "cell_type": "code",
   "execution_count": 181,
   "id": "2045d1e3-a234-4d90-94f4-614a0a9a62f5",
   "metadata": {},
   "outputs": [
    {
     "data": {
      "text/html": [
       "<style>#sk-container-id-6 {color: black;}#sk-container-id-6 pre{padding: 0;}#sk-container-id-6 div.sk-toggleable {background-color: white;}#sk-container-id-6 label.sk-toggleable__label {cursor: pointer;display: block;width: 100%;margin-bottom: 0;padding: 0.3em;box-sizing: border-box;text-align: center;}#sk-container-id-6 label.sk-toggleable__label-arrow:before {content: \"▸\";float: left;margin-right: 0.25em;color: #696969;}#sk-container-id-6 label.sk-toggleable__label-arrow:hover:before {color: black;}#sk-container-id-6 div.sk-estimator:hover label.sk-toggleable__label-arrow:before {color: black;}#sk-container-id-6 div.sk-toggleable__content {max-height: 0;max-width: 0;overflow: hidden;text-align: left;background-color: #f0f8ff;}#sk-container-id-6 div.sk-toggleable__content pre {margin: 0.2em;color: black;border-radius: 0.25em;background-color: #f0f8ff;}#sk-container-id-6 input.sk-toggleable__control:checked~div.sk-toggleable__content {max-height: 200px;max-width: 100%;overflow: auto;}#sk-container-id-6 input.sk-toggleable__control:checked~label.sk-toggleable__label-arrow:before {content: \"▾\";}#sk-container-id-6 div.sk-estimator input.sk-toggleable__control:checked~label.sk-toggleable__label {background-color: #d4ebff;}#sk-container-id-6 div.sk-label input.sk-toggleable__control:checked~label.sk-toggleable__label {background-color: #d4ebff;}#sk-container-id-6 input.sk-hidden--visually {border: 0;clip: rect(1px 1px 1px 1px);clip: rect(1px, 1px, 1px, 1px);height: 1px;margin: -1px;overflow: hidden;padding: 0;position: absolute;width: 1px;}#sk-container-id-6 div.sk-estimator {font-family: monospace;background-color: #f0f8ff;border: 1px dotted black;border-radius: 0.25em;box-sizing: border-box;margin-bottom: 0.5em;}#sk-container-id-6 div.sk-estimator:hover {background-color: #d4ebff;}#sk-container-id-6 div.sk-parallel-item::after {content: \"\";width: 100%;border-bottom: 1px solid gray;flex-grow: 1;}#sk-container-id-6 div.sk-label:hover label.sk-toggleable__label {background-color: #d4ebff;}#sk-container-id-6 div.sk-serial::before {content: \"\";position: absolute;border-left: 1px solid gray;box-sizing: border-box;top: 0;bottom: 0;left: 50%;z-index: 0;}#sk-container-id-6 div.sk-serial {display: flex;flex-direction: column;align-items: center;background-color: white;padding-right: 0.2em;padding-left: 0.2em;position: relative;}#sk-container-id-6 div.sk-item {position: relative;z-index: 1;}#sk-container-id-6 div.sk-parallel {display: flex;align-items: stretch;justify-content: center;background-color: white;position: relative;}#sk-container-id-6 div.sk-item::before, #sk-container-id-6 div.sk-parallel-item::before {content: \"\";position: absolute;border-left: 1px solid gray;box-sizing: border-box;top: 0;bottom: 0;left: 50%;z-index: -1;}#sk-container-id-6 div.sk-parallel-item {display: flex;flex-direction: column;z-index: 1;position: relative;background-color: white;}#sk-container-id-6 div.sk-parallel-item:first-child::after {align-self: flex-end;width: 50%;}#sk-container-id-6 div.sk-parallel-item:last-child::after {align-self: flex-start;width: 50%;}#sk-container-id-6 div.sk-parallel-item:only-child::after {width: 0;}#sk-container-id-6 div.sk-dashed-wrapped {border: 1px dashed gray;margin: 0 0.4em 0.5em 0.4em;box-sizing: border-box;padding-bottom: 0.4em;background-color: white;}#sk-container-id-6 div.sk-label label {font-family: monospace;font-weight: bold;display: inline-block;line-height: 1.2em;}#sk-container-id-6 div.sk-label-container {text-align: center;}#sk-container-id-6 div.sk-container {/* jupyter's `normalize.less` sets `[hidden] { display: none; }` but bootstrap.min.css set `[hidden] { display: none !important; }` so we also need the `!important` here to be able to override the default hidden behavior on the sphinx rendered scikit-learn.org. See: https://github.com/scikit-learn/scikit-learn/issues/21755 */display: inline-block !important;position: relative;}#sk-container-id-6 div.sk-text-repr-fallback {display: none;}</style><div id=\"sk-container-id-6\" class=\"sk-top-container\"><div class=\"sk-text-repr-fallback\"><pre>LabelEncoder()</pre><b>In a Jupyter environment, please rerun this cell to show the HTML representation or trust the notebook. <br />On GitHub, the HTML representation is unable to render, please try loading this page with nbviewer.org.</b></div><div class=\"sk-container\" hidden><div class=\"sk-item\"><div class=\"sk-estimator sk-toggleable\"><input class=\"sk-toggleable__control sk-hidden--visually\" id=\"sk-estimator-id-6\" type=\"checkbox\" checked><label for=\"sk-estimator-id-6\" class=\"sk-toggleable__label sk-toggleable__label-arrow\">LabelEncoder</label><div class=\"sk-toggleable__content\"><pre>LabelEncoder()</pre></div></div></div></div></div>"
      ],
      "text/plain": [
       "LabelEncoder()"
      ]
     },
     "execution_count": 181,
     "metadata": {},
     "output_type": "execute_result"
    }
   ],
   "source": [
    "encoder.fit(df['disease_list'])"
   ]
  },
  {
   "cell_type": "code",
   "execution_count": 182,
   "id": "279cab08-527d-4d8c-b186-1937d33d2802",
   "metadata": {},
   "outputs": [],
   "source": [
    "X_value = encoder.transform(df['disease_list'])"
   ]
  },
  {
   "cell_type": "code",
   "execution_count": 183,
   "id": "e169142c-0512-4764-a678-040dcfbc612a",
   "metadata": {},
   "outputs": [],
   "source": [
    "len(X_value)\n",
    "X_value = X_value.reshape(12,1)"
   ]
  },
  {
   "cell_type": "code",
   "execution_count": 184,
   "id": "1c5d54e3-2cf5-4227-985e-0d72647e65a6",
   "metadata": {},
   "outputs": [],
   "source": [
    "X = scaler.fit_transform(X_value)"
   ]
  },
  {
   "cell_type": "code",
   "execution_count": 185,
   "id": "8ddd5119-2857-46e1-81b3-ebc7a83de6c8",
   "metadata": {},
   "outputs": [],
   "source": [
    "encoder2 = LabelEncoder()"
   ]
  },
  {
   "cell_type": "code",
   "execution_count": 186,
   "id": "7ec42360-9494-4614-a56f-46af49706f45",
   "metadata": {},
   "outputs": [
    {
     "data": {
      "text/html": [
       "<style>#sk-container-id-7 {color: black;}#sk-container-id-7 pre{padding: 0;}#sk-container-id-7 div.sk-toggleable {background-color: white;}#sk-container-id-7 label.sk-toggleable__label {cursor: pointer;display: block;width: 100%;margin-bottom: 0;padding: 0.3em;box-sizing: border-box;text-align: center;}#sk-container-id-7 label.sk-toggleable__label-arrow:before {content: \"▸\";float: left;margin-right: 0.25em;color: #696969;}#sk-container-id-7 label.sk-toggleable__label-arrow:hover:before {color: black;}#sk-container-id-7 div.sk-estimator:hover label.sk-toggleable__label-arrow:before {color: black;}#sk-container-id-7 div.sk-toggleable__content {max-height: 0;max-width: 0;overflow: hidden;text-align: left;background-color: #f0f8ff;}#sk-container-id-7 div.sk-toggleable__content pre {margin: 0.2em;color: black;border-radius: 0.25em;background-color: #f0f8ff;}#sk-container-id-7 input.sk-toggleable__control:checked~div.sk-toggleable__content {max-height: 200px;max-width: 100%;overflow: auto;}#sk-container-id-7 input.sk-toggleable__control:checked~label.sk-toggleable__label-arrow:before {content: \"▾\";}#sk-container-id-7 div.sk-estimator input.sk-toggleable__control:checked~label.sk-toggleable__label {background-color: #d4ebff;}#sk-container-id-7 div.sk-label input.sk-toggleable__control:checked~label.sk-toggleable__label {background-color: #d4ebff;}#sk-container-id-7 input.sk-hidden--visually {border: 0;clip: rect(1px 1px 1px 1px);clip: rect(1px, 1px, 1px, 1px);height: 1px;margin: -1px;overflow: hidden;padding: 0;position: absolute;width: 1px;}#sk-container-id-7 div.sk-estimator {font-family: monospace;background-color: #f0f8ff;border: 1px dotted black;border-radius: 0.25em;box-sizing: border-box;margin-bottom: 0.5em;}#sk-container-id-7 div.sk-estimator:hover {background-color: #d4ebff;}#sk-container-id-7 div.sk-parallel-item::after {content: \"\";width: 100%;border-bottom: 1px solid gray;flex-grow: 1;}#sk-container-id-7 div.sk-label:hover label.sk-toggleable__label {background-color: #d4ebff;}#sk-container-id-7 div.sk-serial::before {content: \"\";position: absolute;border-left: 1px solid gray;box-sizing: border-box;top: 0;bottom: 0;left: 50%;z-index: 0;}#sk-container-id-7 div.sk-serial {display: flex;flex-direction: column;align-items: center;background-color: white;padding-right: 0.2em;padding-left: 0.2em;position: relative;}#sk-container-id-7 div.sk-item {position: relative;z-index: 1;}#sk-container-id-7 div.sk-parallel {display: flex;align-items: stretch;justify-content: center;background-color: white;position: relative;}#sk-container-id-7 div.sk-item::before, #sk-container-id-7 div.sk-parallel-item::before {content: \"\";position: absolute;border-left: 1px solid gray;box-sizing: border-box;top: 0;bottom: 0;left: 50%;z-index: -1;}#sk-container-id-7 div.sk-parallel-item {display: flex;flex-direction: column;z-index: 1;position: relative;background-color: white;}#sk-container-id-7 div.sk-parallel-item:first-child::after {align-self: flex-end;width: 50%;}#sk-container-id-7 div.sk-parallel-item:last-child::after {align-self: flex-start;width: 50%;}#sk-container-id-7 div.sk-parallel-item:only-child::after {width: 0;}#sk-container-id-7 div.sk-dashed-wrapped {border: 1px dashed gray;margin: 0 0.4em 0.5em 0.4em;box-sizing: border-box;padding-bottom: 0.4em;background-color: white;}#sk-container-id-7 div.sk-label label {font-family: monospace;font-weight: bold;display: inline-block;line-height: 1.2em;}#sk-container-id-7 div.sk-label-container {text-align: center;}#sk-container-id-7 div.sk-container {/* jupyter's `normalize.less` sets `[hidden] { display: none; }` but bootstrap.min.css set `[hidden] { display: none !important; }` so we also need the `!important` here to be able to override the default hidden behavior on the sphinx rendered scikit-learn.org. See: https://github.com/scikit-learn/scikit-learn/issues/21755 */display: inline-block !important;position: relative;}#sk-container-id-7 div.sk-text-repr-fallback {display: none;}</style><div id=\"sk-container-id-7\" class=\"sk-top-container\"><div class=\"sk-text-repr-fallback\"><pre>LabelEncoder()</pre><b>In a Jupyter environment, please rerun this cell to show the HTML representation or trust the notebook. <br />On GitHub, the HTML representation is unable to render, please try loading this page with nbviewer.org.</b></div><div class=\"sk-container\" hidden><div class=\"sk-item\"><div class=\"sk-estimator sk-toggleable\"><input class=\"sk-toggleable__control sk-hidden--visually\" id=\"sk-estimator-id-7\" type=\"checkbox\" checked><label for=\"sk-estimator-id-7\" class=\"sk-toggleable__label sk-toggleable__label-arrow\">LabelEncoder</label><div class=\"sk-toggleable__content\"><pre>LabelEncoder()</pre></div></div></div></div></div>"
      ],
      "text/plain": [
       "LabelEncoder()"
      ]
     },
     "execution_count": 186,
     "metadata": {},
     "output_type": "execute_result"
    }
   ],
   "source": [
    "encoder2.fit(df['diet_list'])"
   ]
  },
  {
   "cell_type": "code",
   "execution_count": 187,
   "id": "54107fa2-4ef8-4f8f-8127-82656c7eda96",
   "metadata": {},
   "outputs": [],
   "source": [
    "y_value = encoder2.transform(df['diet_list'])"
   ]
  },
  {
   "cell_type": "code",
   "execution_count": 188,
   "id": "0aaabf92-8f62-4b20-9ade-89c6bae74eb9",
   "metadata": {},
   "outputs": [],
   "source": [
    "y_value = y_value.reshape(12,1)"
   ]
  },
  {
   "cell_type": "code",
   "execution_count": 189,
   "id": "173f4187-413b-45b0-9fe9-bd60c616cab0",
   "metadata": {},
   "outputs": [],
   "source": [
    "y = scaler.fit_transform(y_value)"
   ]
  },
  {
   "cell_type": "code",
   "execution_count": 190,
   "id": "c89ce1cc-4eaa-41a6-8934-982c87a7f195",
   "metadata": {},
   "outputs": [
    {
     "data": {
      "text/plain": [
       "(array([[0.72727273],\n",
       "        [0.18181818],\n",
       "        [0.54545455],\n",
       "        [0.36363636],\n",
       "        [0.        ],\n",
       "        [0.81818182],\n",
       "        [0.90909091],\n",
       "        [0.63636364],\n",
       "        [1.        ],\n",
       "        [0.45454545],\n",
       "        [0.09090909],\n",
       "        [0.27272727]]),\n",
       " array([[0.],\n",
       "        [0.],\n",
       "        [0.],\n",
       "        [0.],\n",
       "        [1.],\n",
       "        [1.],\n",
       "        [1.],\n",
       "        [1.],\n",
       "        [0.],\n",
       "        [0.],\n",
       "        [0.],\n",
       "        [0.]]))"
      ]
     },
     "execution_count": 190,
     "metadata": {},
     "output_type": "execute_result"
    }
   ],
   "source": [
    "X,y"
   ]
  },
  {
   "cell_type": "code",
   "execution_count": 191,
   "id": "9f9948e5-53f7-4ad0-920c-d707df6d8314",
   "metadata": {},
   "outputs": [],
   "source": [
    "xtrain,xtest,ytrain,ytest = train_test_split(X,y,test_size=0.3)"
   ]
  },
  {
   "cell_type": "code",
   "execution_count": 192,
   "id": "1f3ea025-38ed-4951-af8b-ac238d444309",
   "metadata": {},
   "outputs": [],
   "source": [
    "model = LinearRegression()"
   ]
  },
  {
   "cell_type": "code",
   "execution_count": 193,
   "id": "711af48c-9169-490d-92c5-f352b52ec1c9",
   "metadata": {},
   "outputs": [
    {
     "data": {
      "text/html": [
       "<style>#sk-container-id-8 {color: black;}#sk-container-id-8 pre{padding: 0;}#sk-container-id-8 div.sk-toggleable {background-color: white;}#sk-container-id-8 label.sk-toggleable__label {cursor: pointer;display: block;width: 100%;margin-bottom: 0;padding: 0.3em;box-sizing: border-box;text-align: center;}#sk-container-id-8 label.sk-toggleable__label-arrow:before {content: \"▸\";float: left;margin-right: 0.25em;color: #696969;}#sk-container-id-8 label.sk-toggleable__label-arrow:hover:before {color: black;}#sk-container-id-8 div.sk-estimator:hover label.sk-toggleable__label-arrow:before {color: black;}#sk-container-id-8 div.sk-toggleable__content {max-height: 0;max-width: 0;overflow: hidden;text-align: left;background-color: #f0f8ff;}#sk-container-id-8 div.sk-toggleable__content pre {margin: 0.2em;color: black;border-radius: 0.25em;background-color: #f0f8ff;}#sk-container-id-8 input.sk-toggleable__control:checked~div.sk-toggleable__content {max-height: 200px;max-width: 100%;overflow: auto;}#sk-container-id-8 input.sk-toggleable__control:checked~label.sk-toggleable__label-arrow:before {content: \"▾\";}#sk-container-id-8 div.sk-estimator input.sk-toggleable__control:checked~label.sk-toggleable__label {background-color: #d4ebff;}#sk-container-id-8 div.sk-label input.sk-toggleable__control:checked~label.sk-toggleable__label {background-color: #d4ebff;}#sk-container-id-8 input.sk-hidden--visually {border: 0;clip: rect(1px 1px 1px 1px);clip: rect(1px, 1px, 1px, 1px);height: 1px;margin: -1px;overflow: hidden;padding: 0;position: absolute;width: 1px;}#sk-container-id-8 div.sk-estimator {font-family: monospace;background-color: #f0f8ff;border: 1px dotted black;border-radius: 0.25em;box-sizing: border-box;margin-bottom: 0.5em;}#sk-container-id-8 div.sk-estimator:hover {background-color: #d4ebff;}#sk-container-id-8 div.sk-parallel-item::after {content: \"\";width: 100%;border-bottom: 1px solid gray;flex-grow: 1;}#sk-container-id-8 div.sk-label:hover label.sk-toggleable__label {background-color: #d4ebff;}#sk-container-id-8 div.sk-serial::before {content: \"\";position: absolute;border-left: 1px solid gray;box-sizing: border-box;top: 0;bottom: 0;left: 50%;z-index: 0;}#sk-container-id-8 div.sk-serial {display: flex;flex-direction: column;align-items: center;background-color: white;padding-right: 0.2em;padding-left: 0.2em;position: relative;}#sk-container-id-8 div.sk-item {position: relative;z-index: 1;}#sk-container-id-8 div.sk-parallel {display: flex;align-items: stretch;justify-content: center;background-color: white;position: relative;}#sk-container-id-8 div.sk-item::before, #sk-container-id-8 div.sk-parallel-item::before {content: \"\";position: absolute;border-left: 1px solid gray;box-sizing: border-box;top: 0;bottom: 0;left: 50%;z-index: -1;}#sk-container-id-8 div.sk-parallel-item {display: flex;flex-direction: column;z-index: 1;position: relative;background-color: white;}#sk-container-id-8 div.sk-parallel-item:first-child::after {align-self: flex-end;width: 50%;}#sk-container-id-8 div.sk-parallel-item:last-child::after {align-self: flex-start;width: 50%;}#sk-container-id-8 div.sk-parallel-item:only-child::after {width: 0;}#sk-container-id-8 div.sk-dashed-wrapped {border: 1px dashed gray;margin: 0 0.4em 0.5em 0.4em;box-sizing: border-box;padding-bottom: 0.4em;background-color: white;}#sk-container-id-8 div.sk-label label {font-family: monospace;font-weight: bold;display: inline-block;line-height: 1.2em;}#sk-container-id-8 div.sk-label-container {text-align: center;}#sk-container-id-8 div.sk-container {/* jupyter's `normalize.less` sets `[hidden] { display: none; }` but bootstrap.min.css set `[hidden] { display: none !important; }` so we also need the `!important` here to be able to override the default hidden behavior on the sphinx rendered scikit-learn.org. See: https://github.com/scikit-learn/scikit-learn/issues/21755 */display: inline-block !important;position: relative;}#sk-container-id-8 div.sk-text-repr-fallback {display: none;}</style><div id=\"sk-container-id-8\" class=\"sk-top-container\"><div class=\"sk-text-repr-fallback\"><pre>LinearRegression()</pre><b>In a Jupyter environment, please rerun this cell to show the HTML representation or trust the notebook. <br />On GitHub, the HTML representation is unable to render, please try loading this page with nbviewer.org.</b></div><div class=\"sk-container\" hidden><div class=\"sk-item\"><div class=\"sk-estimator sk-toggleable\"><input class=\"sk-toggleable__control sk-hidden--visually\" id=\"sk-estimator-id-8\" type=\"checkbox\" checked><label for=\"sk-estimator-id-8\" class=\"sk-toggleable__label sk-toggleable__label-arrow\">LinearRegression</label><div class=\"sk-toggleable__content\"><pre>LinearRegression()</pre></div></div></div></div></div>"
      ],
      "text/plain": [
       "LinearRegression()"
      ]
     },
     "execution_count": 193,
     "metadata": {},
     "output_type": "execute_result"
    }
   ],
   "source": [
    "model.fit(xtrain,ytrain)"
   ]
  },
  {
   "cell_type": "code",
   "execution_count": 194,
   "id": "3f91416a-f10b-4131-a611-7e59508253ac",
   "metadata": {},
   "outputs": [],
   "source": [
    "ypred = model.predict(xtest)"
   ]
  },
  {
   "cell_type": "code",
   "execution_count": 195,
   "id": "d35dc4c0-5a99-4c3c-ac78-cc1958fae93f",
   "metadata": {},
   "outputs": [
    {
     "data": {
      "text/plain": [
       "array([[-0.09103841],\n",
       "       [ 0.17780939],\n",
       "       [ 0.29302987],\n",
       "       [ 0.0625889 ]])"
      ]
     },
     "execution_count": 195,
     "metadata": {},
     "output_type": "execute_result"
    }
   ],
   "source": [
    "ypred"
   ]
  },
  {
   "cell_type": "code",
   "execution_count": 196,
   "id": "e43a9d02-029d-4d77-b129-9ec4d1f7290f",
   "metadata": {},
   "outputs": [
    {
     "data": {
      "text/plain": [
       "array([[1.],\n",
       "       [1.],\n",
       "       [1.],\n",
       "       [0.]])"
      ]
     },
     "execution_count": 196,
     "metadata": {},
     "output_type": "execute_result"
    }
   ],
   "source": [
    "ytest"
   ]
  },
  {
   "cell_type": "code",
   "execution_count": 160,
   "id": "2de4235e-7692-4155-a905-ff19a7484e06",
   "metadata": {},
   "outputs": [],
   "source": [
    "model2 = SGDRegressor(max_iter=1000)"
   ]
  },
  {
   "cell_type": "code",
   "execution_count": 163,
   "id": "bf2b302e-b35a-4943-95a0-c07c62dd5220",
   "metadata": {},
   "outputs": [
    {
     "data": {
      "text/plain": [
       "(array([0.4789224 , 0.48123792, 0.48123792, ..., 0.48008016, 0.48239568,\n",
       "        0.48355345]),\n",
       " array([[0.06666667],\n",
       "        [0.46666667],\n",
       "        [0.6       ],\n",
       "        ...,\n",
       "        [0.26666667],\n",
       "        [0.26666667],\n",
       "        [1.        ]]))"
      ]
     },
     "execution_count": 163,
     "metadata": {},
     "output_type": "execute_result"
    }
   ],
   "source": [
    "ypred,ytest"
   ]
  },
  {
   "cell_type": "code",
   "execution_count": null,
   "id": "cc38ba17-565c-403b-ab44-25aac42756bd",
   "metadata": {},
   "outputs": [],
   "source": []
  },
  {
   "cell_type": "code",
   "execution_count": null,
   "id": "56b25bae-0683-4b2e-bec5-523d080af1ad",
   "metadata": {},
   "outputs": [],
   "source": []
  },
  {
   "cell_type": "code",
   "execution_count": null,
   "id": "2b08051a-5b6e-4692-8b6d-2bbdebed7e2e",
   "metadata": {},
   "outputs": [],
   "source": []
  }
 ],
 "metadata": {
  "kernelspec": {
   "display_name": "Python 3 (ipykernel)",
   "language": "python",
   "name": "python3"
  },
  "language_info": {
   "codemirror_mode": {
    "name": "ipython",
    "version": 3
   },
   "file_extension": ".py",
   "mimetype": "text/x-python",
   "name": "python",
   "nbconvert_exporter": "python",
   "pygments_lexer": "ipython3",
   "version": "3.11.4"
  }
 },
 "nbformat": 4,
 "nbformat_minor": 5
}
